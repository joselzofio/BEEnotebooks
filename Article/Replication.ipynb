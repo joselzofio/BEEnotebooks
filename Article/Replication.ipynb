{
 "cells": [
  {
   "cell_type": "markdown",
   "metadata": {},
   "source": [
    "## Benchmarking Economic Efficiency with Julia"
   ]
  },
  {
   "cell_type": "markdown",
   "metadata": {},
   "source": [
    "Install requiered packages:"
   ]
  },
  {
   "cell_type": "code",
   "execution_count": null,
   "metadata": {},
   "outputs": [],
   "source": [
    "using Pkg\n",
    "\n",
    "Pkg.add(\"BenchmarkingEconomicEfficiency\")\n",
    "Pkg.add(\"DataFrames\")\n",
    "Pkg.add(\"CSV\")"
   ]
  },
  {
   "cell_type": "markdown",
   "metadata": {},
   "source": [
    "Or, instantiate environment to install required packages:"
   ]
  },
  {
   "cell_type": "code",
   "execution_count": 1,
   "metadata": {},
   "outputs": [],
   "source": [
    "using Pkg\n",
    "Pkg.instantiate()"
   ]
  },
  {
   "cell_type": "markdown",
   "metadata": {},
   "source": [
    "Load required packages:"
   ]
  },
  {
   "cell_type": "code",
   "execution_count": 2,
   "metadata": {},
   "outputs": [],
   "source": [
    "using BenchmarkingEconomicEfficiency\n",
    "using DataFrames\n",
    "using CSV"
   ]
  },
  {
   "cell_type": "markdown",
   "metadata": {},
   "source": [
    "Increase the number of columens displayed in the notebook"
   ]
  },
  {
   "cell_type": "code",
   "execution_count": 3,
   "metadata": {},
   "outputs": [],
   "source": [
    "ENV[\"COLUMNS\"] = 100;"
   ]
  },
  {
   "cell_type": "markdown",
   "metadata": {},
   "source": [
    "Load the data file:"
   ]
  },
  {
   "cell_type": "code",
   "execution_count": 4,
   "metadata": {},
   "outputs": [
    {
     "data": {
      "text/html": [
       "<div class=\"data-frame\"><p>5 rows × 11 columns (omitted printing of 1 columns)</p><table class=\"data-frame\"><thead><tr><th></th><th>Name</th><th>X1</th><th>X2</th><th>X3</th><th>W1</th><th>W2</th><th>W3</th><th>Y1</th><th>Y2</th><th>P1</th></tr><tr><th></th><th title=\"String31\">String31</th><th title=\"Int64\">Int64</th><th title=\"Float64\">Float64</th><th title=\"Int64\">Int64</th><th title=\"Float64\">Float64</th><th title=\"Float64\">Float64</th><th title=\"Float64\">Float64</th><th title=\"Int64\">Int64</th><th title=\"Int64\">Int64</th><th title=\"Float64\">Float64</th></tr></thead><tbody><tr><th>1</th><td>Export-Import Bank</td><td>25019</td><td>201.999</td><td>505</td><td>0.0185859</td><td>1.71783</td><td>0.245545</td><td>3125</td><td>81996</td><td>0.00992</td></tr><tr><th>2</th><td>Bank of Taiwan</td><td>3171493</td><td>7950.96</td><td>76576</td><td>0.00769385</td><td>1.43404</td><td>0.0729602</td><td>904580</td><td>2091100</td><td>0.00930708</td></tr><tr><th>3</th><td>Taipei Fubon Bank</td><td>1222499</td><td>6434.01</td><td>12082</td><td>0.00500368</td><td>1.00357</td><td>0.590051</td><td>392491</td><td>866282</td><td>0.0132309</td></tr><tr><th>4</th><td>Bank of Kaohsiung</td><td>189169</td><td>913.995</td><td>2237</td><td>0.00545544</td><td>1.3895</td><td>0.249888</td><td>16740</td><td>163054</td><td>0.0242533</td></tr><tr><th>5</th><td>Land Bank</td><td>1846028</td><td>5732.01</td><td>22634</td><td>0.00663749</td><td>1.46563</td><td>0.193691</td><td>227086</td><td>1706964</td><td>0.0140872</td></tr></tbody></table></div>"
      ],
      "text/latex": [
       "\\begin{tabular}{r|ccccccccccc}\n",
       "\t& Name & X1 & X2 & X3 & W1 & W2 & W3 & Y1 & Y2 & P1 & \\\\\n",
       "\t\\hline\n",
       "\t& String31 & Int64 & Float64 & Int64 & Float64 & Float64 & Float64 & Int64 & Int64 & Float64 & \\\\\n",
       "\t\\hline\n",
       "\t1 & Export-Import Bank & 25019 & 201.999 & 505 & 0.0185859 & 1.71783 & 0.245545 & 3125 & 81996 & 0.00992 & $\\dots$ \\\\\n",
       "\t2 & Bank of Taiwan & 3171493 & 7950.96 & 76576 & 0.00769385 & 1.43404 & 0.0729602 & 904580 & 2091100 & 0.00930708 & $\\dots$ \\\\\n",
       "\t3 & Taipei Fubon Bank & 1222499 & 6434.01 & 12082 & 0.00500368 & 1.00357 & 0.590051 & 392491 & 866282 & 0.0132309 & $\\dots$ \\\\\n",
       "\t4 & Bank of Kaohsiung & 189169 & 913.995 & 2237 & 0.00545544 & 1.3895 & 0.249888 & 16740 & 163054 & 0.0242533 & $\\dots$ \\\\\n",
       "\t5 & Land Bank & 1846028 & 5732.01 & 22634 & 0.00663749 & 1.46563 & 0.193691 & 227086 & 1706964 & 0.0140872 & $\\dots$ \\\\\n",
       "\\end{tabular}\n"
      ],
      "text/plain": [
       "\u001b[1m5×11 DataFrame\u001b[0m\n",
       "\u001b[1m Row \u001b[0m│\u001b[1m Name               \u001b[0m\u001b[1m X1      \u001b[0m\u001b[1m X2       \u001b[0m\u001b[1m X3    \u001b[0m\u001b[1m W1         \u001b[0m\u001b[1m W2      \u001b[0m\u001b[1m W3        \u001b[0m\u001b[1m Y1     \u001b[0m\u001b[1m Y2   \u001b[0m ⋯\n",
       "\u001b[1m     \u001b[0m│\u001b[90m String31           \u001b[0m\u001b[90m Int64   \u001b[0m\u001b[90m Float64  \u001b[0m\u001b[90m Int64 \u001b[0m\u001b[90m Float64    \u001b[0m\u001b[90m Float64 \u001b[0m\u001b[90m Float64   \u001b[0m\u001b[90m Int64  \u001b[0m\u001b[90m Int64\u001b[0m ⋯\n",
       "─────┼──────────────────────────────────────────────────────────────────────────────────────────────\n",
       "   1 │ Export-Import Bank    25019   201.999    505  0.0185859   1.71783  0.245545     3125    819 ⋯\n",
       "   2 │ Bank of Taiwan      3171493  7950.96   76576  0.00769385  1.43404  0.0729602  904580  20911\n",
       "   3 │ Taipei Fubon Bank   1222499  6434.01   12082  0.00500368  1.00357  0.590051   392491   8662\n",
       "   4 │ Bank of Kaohsiung    189169   913.995   2237  0.00545544  1.3895   0.249888    16740   1630\n",
       "   5 │ Land Bank           1846028  5732.01   22634  0.00663749  1.46563  0.193691   227086  17069 ⋯\n",
       "\u001b[36m                                                                                   3 columns omitted\u001b[0m"
      ]
     },
     "execution_count": 4,
     "metadata": {},
     "output_type": "execute_result"
    }
   ],
   "source": [
    "df = DataFrame(CSV.File(\"DataBanks.csv\"))\n",
    "first(df, 5)"
   ]
  },
  {
   "cell_type": "code",
   "execution_count": 5,
   "metadata": {},
   "outputs": [
    {
     "data": {
      "text/html": [
       "<div class=\"data-frame\"><p>11 rows × 7 columns</p><table class=\"data-frame\"><thead><tr><th></th><th>variable</th><th>mean</th><th>min</th><th>median</th><th>max</th><th>nmissing</th><th>eltype</th></tr><tr><th></th><th title=\"Symbol\">Symbol</th><th title=\"Union{Nothing, Float64}\">Union…</th><th title=\"Any\">Any</th><th title=\"Union{Nothing, Float64}\">Union…</th><th title=\"Any\">Any</th><th title=\"Int64\">Int64</th><th title=\"DataType\">DataType</th></tr></thead><tbody><tr><th>1</th><td>Name</td><td></td><td>Bank SinoPac</td><td></td><td>Union Bank</td><td>0</td><td>String31</td></tr><tr><th>2</th><td>X1</td><td>7.95536e5</td><td>25019</td><td>428995.0</td><td>3171493</td><td>0</td><td>Int64</td></tr><tr><th>3</th><td>X2</td><td>3826.19</td><td>201.999</td><td>3146.0</td><td>9537.98</td><td>0</td><td>Float64</td></tr><tr><th>4</th><td>X3</td><td>13393.2</td><td>505</td><td>8721.0</td><td>76576</td><td>0</td><td>Int64</td></tr><tr><th>5</th><td>W1</td><td>0.00639582</td><td>0.00249864</td><td>0.0061253</td><td>0.0185859</td><td>0</td><td>Float64</td></tr><tr><th>6</th><td>W2</td><td>1.25863</td><td>0.716977</td><td>1.21676</td><td>2.2963</td><td>0</td><td>Float64</td></tr><tr><th>7</th><td>W3</td><td>0.317114</td><td>0.0729602</td><td>0.301688</td><td>0.762522</td><td>0</td><td>Float64</td></tr><tr><th>8</th><td>Y1</td><td>1.96808e5</td><td>1681</td><td>157870.0</td><td>904580</td><td>0</td><td>Int64</td></tr><tr><th>9</th><td>Y2</td><td>6.09489e5</td><td>66947</td><td>328574.0</td><td>2091100</td><td>0</td><td>Int64</td></tr><tr><th>10</th><td>P1</td><td>0.0349242</td><td>0.00589346</td><td>0.0146744</td><td>0.304364</td><td>0</td><td>Float64</td></tr><tr><th>11</th><td>P2</td><td>0.021117</td><td>0.0125006</td><td>0.0189938</td><td>0.0686822</td><td>0</td><td>Float64</td></tr></tbody></table></div>"
      ],
      "text/latex": [
       "\\begin{tabular}{r|ccccccc}\n",
       "\t& variable & mean & min & median & max & nmissing & eltype\\\\\n",
       "\t\\hline\n",
       "\t& Symbol & Union… & Any & Union… & Any & Int64 & DataType\\\\\n",
       "\t\\hline\n",
       "\t1 & Name &  & Bank SinoPac &  & Union Bank & 0 & String31 \\\\\n",
       "\t2 & X1 & 7.95536e5 & 25019 & 428995.0 & 3171493 & 0 & Int64 \\\\\n",
       "\t3 & X2 & 3826.19 & 201.999 & 3146.0 & 9537.98 & 0 & Float64 \\\\\n",
       "\t4 & X3 & 13393.2 & 505 & 8721.0 & 76576 & 0 & Int64 \\\\\n",
       "\t5 & W1 & 0.00639582 & 0.00249864 & 0.0061253 & 0.0185859 & 0 & Float64 \\\\\n",
       "\t6 & W2 & 1.25863 & 0.716977 & 1.21676 & 2.2963 & 0 & Float64 \\\\\n",
       "\t7 & W3 & 0.317114 & 0.0729602 & 0.301688 & 0.762522 & 0 & Float64 \\\\\n",
       "\t8 & Y1 & 1.96808e5 & 1681 & 157870.0 & 904580 & 0 & Int64 \\\\\n",
       "\t9 & Y2 & 6.09489e5 & 66947 & 328574.0 & 2091100 & 0 & Int64 \\\\\n",
       "\t10 & P1 & 0.0349242 & 0.00589346 & 0.0146744 & 0.304364 & 0 & Float64 \\\\\n",
       "\t11 & P2 & 0.021117 & 0.0125006 & 0.0189938 & 0.0686822 & 0 & Float64 \\\\\n",
       "\\end{tabular}\n"
      ],
      "text/plain": [
       "\u001b[1m11×7 DataFrame\u001b[0m\n",
       "\u001b[1m Row \u001b[0m│\u001b[1m variable \u001b[0m\u001b[1m mean       \u001b[0m\u001b[1m min          \u001b[0m\u001b[1m median    \u001b[0m\u001b[1m max        \u001b[0m\u001b[1m nmissing \u001b[0m\u001b[1m eltype   \u001b[0m\n",
       "\u001b[1m     \u001b[0m│\u001b[90m Symbol   \u001b[0m\u001b[90m Union…     \u001b[0m\u001b[90m Any          \u001b[0m\u001b[90m Union…    \u001b[0m\u001b[90m Any        \u001b[0m\u001b[90m Int64    \u001b[0m\u001b[90m DataType \u001b[0m\n",
       "─────┼───────────────────────────────────────────────────────────────────────────────\n",
       "   1 │ Name     \u001b[90m            \u001b[0m Bank SinoPac \u001b[90m           \u001b[0m Union Bank         0  String31\n",
       "   2 │ X1        7.95536e5   25019         428995.0   3171493            0  Int64\n",
       "   3 │ X2        3826.19     201.999       3146.0     9537.98            0  Float64\n",
       "   4 │ X3        13393.2     505           8721.0     76576              0  Int64\n",
       "   5 │ W1        0.00639582  0.00249864    0.0061253  0.0185859          0  Float64\n",
       "   6 │ W2        1.25863     0.716977      1.21676    2.2963             0  Float64\n",
       "   7 │ W3        0.317114    0.0729602     0.301688   0.762522           0  Float64\n",
       "   8 │ Y1        1.96808e5   1681          157870.0   904580             0  Int64\n",
       "   9 │ Y2        6.09489e5   66947         328574.0   2091100            0  Int64\n",
       "  10 │ P1        0.0349242   0.00589346    0.0146744  0.304364           0  Float64\n",
       "  11 │ P2        0.021117    0.0125006     0.0189938  0.0686822          0  Float64"
      ]
     },
     "execution_count": 5,
     "metadata": {},
     "output_type": "execute_result"
    }
   ],
   "source": [
    "describe(df)"
   ]
  },
  {
   "cell_type": "markdown",
   "metadata": {},
   "source": [
    "Extract names, inputs, output and prices as matrices:"
   ]
  },
  {
   "cell_type": "code",
   "execution_count": 6,
   "metadata": {},
   "outputs": [],
   "source": [
    "X = [df.X1 df.X2 df.X3];\n",
    "W = [df.W1 df.W2 df.W3];\n",
    "Y = [df.Y1 df.Y2];\n",
    "P = [df.P1 df.P2];\n",
    "banks = df.Name;"
   ]
  },
  {
   "cell_type": "markdown",
   "metadata": {},
   "source": [
    "## 3. Measuring and decomposing profit inefficiency"
   ]
  },
  {
   "cell_type": "markdown",
   "metadata": {},
   "source": [
    "## 3.1. The Russell inefficiency measure"
   ]
  },
  {
   "cell_type": "code",
   "execution_count": 7,
   "metadata": {},
   "outputs": [
    {
     "name": "stdout",
     "output_type": "stream",
     "text": [
      "\n",
      "******************************************************************************\n",
      "This program contains Ipopt, a library for large-scale nonlinear optimization.\n",
      " Ipopt is released as open source code under the Eclipse Public License (EPL).\n",
      "         For more information visit https://github.com/coin-or/Ipopt\n",
      "******************************************************************************\n",
      "\n"
     ]
    },
    {
     "data": {
      "text/plain": [
       "Russell Profit DEA Model \n",
       "DMUs = 31; Inputs = 3; Outputs = 2\n",
       "Orientation = Graph; Returns to Scale = VRS\n",
       "─────────────────────────────────────────────────────────────────\n",
       "                                 Profit   Technical    Allocative\n",
       "─────────────────────────────────────────────────────────────────\n",
       "Export-Import Bank           3.03911e-5  4.81347e-6    2.55776e-5\n",
       "Bank of Taiwan               0.179835    2.71764e-9    0.179835\n",
       "Taipei Fubon Bank            0.220019    2.34592e-7    0.220019\n",
       "Bank of Kaohsiung            4.95721     0.319545      4.63766\n",
       "Land Bank                    1.3703e-7   5.04573e-8    8.65722e-8\n",
       "Cooperative Bank             0.284738    2.97026e-8    0.284738\n",
       "First Bank                   0.238689    1.19011e-8    0.238689\n",
       "Hua Nan Bank                 0.240157    0.124564      0.115593\n",
       "Chang Hwa Bank               0.44491     0.211199      0.233711\n",
       "Mega Bank                    9.61495e-8  2.11586e-8    7.49909e-8\n",
       "Cathay United Bank           0.814791    0.334818      0.479974\n",
       "The Shanghai Bank            1.34537     0.153611      1.19176\n",
       "Union Bank                  25.1153      0.539988     24.5753\n",
       "Far Eastern Bank             0.376806    1.46929e-7    0.376806\n",
       "E. Sun Bank                  0.458466    0.130355      0.328111\n",
       "Cosmos Bank                146.25        0.700956    145.549\n",
       "Taishin Bank                 1.12056     0.31554       0.805018\n",
       "Ta Chong Bank                1.52881     0.206631      1.32218\n",
       "Jih Sun Bank                 5.356       0.457645      4.89835\n",
       "Entie Bank                   6.53936     0.322757      6.2166\n",
       "China Trust Bank             0.494544    4.32041e-7    0.494544\n",
       "Sunny Bank                  47.1486      0.535554     46.6131\n",
       "Bank of Panhsin            125.035       0.615269    124.42\n",
       "Taiwan Business Bank         0.663455    0.139704      0.523751\n",
       "Taichung Bank               23.7745      0.361975     23.4125\n",
       "China Development            2.86409     5.0848e-7     2.86409\n",
       "Hwatai Bank                136.01        0.54445     135.466\n",
       "Cota Bank                   43.6129      0.528602     43.0843\n",
       "Industrial Bank of Taiwan    1.56449     1.7079e-5     1.56447\n",
       "Bank SinoPac                 0.422128    0.125224      0.296904\n",
       "Shin Kong Bank               9.67215     0.435376      9.23677\n",
       "─────────────────────────────────────────────────────────────────"
      ]
     },
     "execution_count": 7,
     "metadata": {},
     "output_type": "execute_result"
    }
   ],
   "source": [
    "deaprofitrussell(X, Y, W, P, names = banks)"
   ]
  },
  {
   "cell_type": "code",
   "execution_count": 8,
   "metadata": {},
   "outputs": [
    {
     "data": {
      "text/plain": [
       "Russell DEA Model \n",
       "DMUs = 31; Inputs = 3; Outputs = 2\n",
       "Orientation = Graph; Returns to Scale = VRS\n",
       "──────────────────────────────────────────────────────────────────────────────────────\n",
       "                           efficiency     effX1     effX2      effX3    effY1    effY2\n",
       "──────────────────────────────────────────────────────────────────────────────────────\n",
       "Export-Import Bank           0.999995  1.0       1.0       0.999997   1.00002  1.0\n",
       "Bank of Taiwan               1.0       1.0       1.0       1.0        1.0      1.0\n",
       "Taipei Fubon Bank            1.0       1.0       0.999999  1.0        1.0      1.0\n",
       "Bank of Kaohsiung            0.680455  0.714658  0.623646  0.653934   2.43882  1.0\n",
       "Land Bank                    1.0       1.0       1.0       1.0        1.0      1.0\n",
       "Cooperative Bank             1.0       1.0       1.0       1.0        1.0      1.0\n",
       "First Bank                   1.0       1.0       1.0       1.0        1.0      1.0\n",
       "Hua Nan Bank                 0.875436  0.960964  0.776304  0.639911   1.0      1.0\n",
       "Chang Hwa Bank               0.788801  1.0       0.648161  0.458236   1.19388  1.0\n",
       "Mega Bank                    1.0       1.0       1.0       1.0        1.0      1.0\n",
       "Cathay United Bank           0.665182  0.800161  0.632785  0.365551   1.89604  1.0\n",
       "The Shanghai Bank            0.846389  0.844629  0.959693  0.427623   1.0      1.0\n",
       "Union Bank                   0.460012  0.596893  0.240571  0.227516   4.25384  1.0\n",
       "Far Eastern Bank             1.0       1.0       1.0       0.999999   1.0      1.0\n",
       "E. Sun Bank                  0.869645  0.839177  0.851273  0.657774   1.0      1.0\n",
       "Cosmos Bank                  0.299044  0.275894  0.141676  0.0936119  8.52183  1.15381\n",
       "Taishin Bank                 0.68446   0.924457  0.498064  0.335237   1.5048   1.0\n",
       "Ta Chong Bank                0.793369  0.940346  0.489151  0.83997    1.43394  1.0\n",
       "Jih Sun Bank                 0.542355  0.605929  0.357339  0.313382   2.29818  1.0\n",
       "Entie Bank                   0.677243  0.62907   0.451775  0.859289   2.24174  1.0\n",
       "China Trust Bank             1.0       1.0       0.999999  0.999999   1.0      1.0\n",
       "Sunny Bank                   0.464446  0.667056  0.318588  0.163648   5.7824   1.0\n",
       "Bank of Panhsin              0.384731  0.424604  0.256163  0.110762   7.56842  1.0\n",
       "Taiwan Business Bank         0.860296  1.0       0.693591  0.801378   1.23991  1.0\n",
       "Taichung Bank                0.638025  0.742665  0.462294  0.691494   3.40519  1.0\n",
       "China Development            0.999999  1.0       0.999999  0.999998   1.0      1.0\n",
       "Hwatai Bank                  0.45555   0.37245   0.308668  0.389427   4.8261   1.0\n",
       "Cota Bank                    0.471398  0.328993  0.255643  0.53897    4.28479  1.0\n",
       "Industrial Bank of Taiwan    0.999983  0.999968  1.0       0.999955   1.0      1.00001\n",
       "Bank SinoPac                 0.874776  0.92836   0.748877  0.845223   1.17451  1.0\n",
       "Shin Kong Bank               0.564624  0.77802   0.367567  0.433008   4.08955  1.0\n",
       "──────────────────────────────────────────────────────────────────────────────────────"
      ]
     },
     "execution_count": 8,
     "metadata": {},
     "output_type": "execute_result"
    }
   ],
   "source": [
    "dearussell(X, Y, orient = :Graph, rts  = :VRS, names = banks)"
   ]
  },
  {
   "cell_type": "markdown",
   "metadata": {},
   "source": [
    "## 3.2. The Weighted Additive Distance Function"
   ]
  },
  {
   "cell_type": "code",
   "execution_count": 9,
   "metadata": {},
   "outputs": [
    {
     "data": {
      "text/plain": [
       "Profit Additive DEA Model \n",
       "DMUs = 31; Inputs = 3; Outputs = 2\n",
       "Weights = MIP; Returns to Scale = VRS\n",
       "─────────────────────────────────────────────────────────────────────\n",
       "                                  Profit     Technical     Allocative\n",
       "─────────────────────────────────────────────────────────────────────\n",
       "Export-Import Bank           0.0          -1.78195e-16    1.78195e-16\n",
       "Bank of Taiwan               0.899175     -2.52669e-16    0.899175\n",
       "Taipei Fubon Bank            1.1001        0.0            1.1001\n",
       "Bank of Kaohsiung           24.786         7.07646       17.7096\n",
       "Land Bank                    1.59211e-14   0.0            1.59211e-14\n",
       "Cooperative Bank             1.42369       0.0            1.42369\n",
       "First Bank                   1.19344       7.69353e-18    1.19344\n",
       "Hua Nan Bank                 1.20078       0.622821       0.577963\n",
       "Chang Hwa Bank               2.22455       1.10356        1.12099\n",
       "Mega Bank                   -2.15648e-15   0.0           -2.15648e-15\n",
       "Cathay United Bank           4.07396       2.28655        1.7874\n",
       "The Shanghai Bank            6.72684       0.768056       5.95879\n",
       "Union Bank                 125.576        18.7272       106.849\n",
       "Far Eastern Bank             1.88403       0.0            1.88403\n",
       "E. Sun Bank                  2.29233       0.651775       1.64055\n",
       "Cosmos Bank                731.249        81.4573       649.791\n",
       "Taishin Bank                 5.60279       1.74704        3.85575\n",
       "Ta Chong Bank                7.64405       1.34518        6.29887\n",
       "Jih Sun Bank                26.78          6.67222       20.1077\n",
       "Entie Bank                  32.6968        4.94366       27.7531\n",
       "China Trust Bank             2.47272       0.0            2.47272\n",
       "Sunny Bank                 235.743        31.4791       204.264\n",
       "Bank of Panhsin            625.176        69.5919       555.584\n",
       "Taiwan Business Bank         3.31727       0.804222       2.51305\n",
       "Taichung Bank              118.873        13.8935       104.979\n",
       "China Development           14.3204        0.0           14.3204\n",
       "Hwatai Bank                680.052        41.9682       638.084\n",
       "Cota Bank                  218.064        24.8209       193.243\n",
       "Industrial Bank of Taiwan    7.82245       0.0            7.82245\n",
       "Bank SinoPac                 2.11064       0.652049       1.45859\n",
       "Shin Kong Bank              48.3607       15.488         32.8728\n",
       "─────────────────────────────────────────────────────────────────────"
      ]
     },
     "execution_count": 9,
     "metadata": {},
     "output_type": "execute_result"
    }
   ],
   "source": [
    "deaprofitadd(X, Y, W, P, :MIP, names = banks)"
   ]
  },
  {
   "cell_type": "code",
   "execution_count": 10,
   "metadata": {},
   "outputs": [
    {
     "data": {
      "text/plain": [
       "Weighted Additive DEA Model \n",
       "DMUs = 31; Inputs = 3; Outputs = 2\n",
       "Orientation = Graph; Returns to Scale = VRS\n",
       "Weights = MIP\n",
       "───────────────────────────────────────────────────────────────────────────────────────────────────────────────────\n",
       "                             efficiency          slackX1    slackX2          slackX3         slackY1        slackY2\n",
       "───────────────────────────────────────────────────────────────────────────────────────────────────────────────────\n",
       "Export-Import Bank         -1.78195e-16      0.0             0.0        -8.99886e-14       0.0            0.0\n",
       "Bank of Taiwan             -2.52669e-16     -1.98653e-10     0.0        -1.45519e-11       0.0            0.0\n",
       "Taipei Fubon Bank           0.0              0.0             0.0         0.0               0.0            0.0\n",
       "Bank of Kaohsiung           7.07646       1680.17            0.0       129.166             1.17345e5      0.0\n",
       "Land Bank                   0.0              0.0             0.0         0.0               0.0            0.0\n",
       "Cooperative Bank            0.0              0.0             0.0         0.0               0.0            0.0\n",
       "First Bank                  7.69353e-18      7.50579e-12     0.0         6.87668e-14       0.0            0.0\n",
       "Hua Nan Bank                0.622821     62264.6          1594.05     8968.74              0.0            0.0\n",
       "Chang Hwa Bank              1.10356          0.0          2071.22    12530.9           65394.4            0.0\n",
       "Mega Bank                   0.0              0.0             0.0         0.0               0.0            0.0\n",
       "Cathay United Bank          2.28655          0.0             0.0      6186.89              3.0275e5       1.59282e5\n",
       "The Shanghai Bank           0.768056     89668.9            91.2956   5832.52              0.0            0.0\n",
       "Union Bank                 18.7272           0.0           929.797    5496.64              2.44552e5  17943.8\n",
       "Far Eastern Bank            0.0              0.0             0.0         0.0               0.0            0.0\n",
       "E. Sun Bank                 0.651775         1.50628e5     681.614    4857.9               0.0            0.0\n",
       "Cosmos Bank                81.4573           0.0           897.865    4744.14              1.34202e5  22480.2\n",
       "Taishin Bank                1.74704      56043.9          3130.07    11485.8               1.02533e5      0.0\n",
       "Ta Chong Bank               1.34518          0.0          1394.97      402.753         86299.5            0.0\n",
       "Jih Sun Bank                6.67222          0.0           250.602    2376.33              1.57043e5   8269.52\n",
       "Entie Bank                  4.94366      58873.3           401.014       0.0               1.43014e5      0.0\n",
       "China Trust Bank            0.0              0.0             0.0         0.0               0.0            0.0\n",
       "Sunny Bank                 31.4791           0.0           307.099    7218.24              1.68813e5      0.0\n",
       "Bank of Panhsin            69.5919           0.0           255.601    5792.83         155747.0         6328.58\n",
       "Taiwan Business Bank        0.804222         0.0          1276.98     1983.44          64649.4            0.0\n",
       "Taichung Bank              13.8935           0.0             0.0        62.8159       201564.0            0.0\n",
       "China Development           0.0              0.0             0.0         0.0               0.0            0.0\n",
       "Hwatai Bank                41.9682           0.0            96.443     274.059             1.30075e5   1226.78\n",
       "Cota Bank                  24.8209       29993.2           504.414       0.0           89301.6            0.0\n",
       "Industrial Bank of Taiwan   0.0              0.0             0.0         0.0               0.0            0.0\n",
       "Bank SinoPac                0.652049     67084.9          1172.74     1349.81          46597.5            0.0\n",
       "Shin Kong Bank             15.488            0.0           636.774    3081.89              2.58025e5      0.0\n",
       "───────────────────────────────────────────────────────────────────────────────────────────────────────────────────"
      ]
     },
     "execution_count": 10,
     "metadata": {},
     "output_type": "execute_result"
    }
   ],
   "source": [
    "deaadd(X, Y, :MIP, names = banks)"
   ]
  },
  {
   "cell_type": "markdown",
   "metadata": {},
   "source": [
    "## 3.3 The Enhanced Russell Graph (or Slack-Based Measure) inefficiency measure"
   ]
  },
  {
   "cell_type": "code",
   "execution_count": 11,
   "metadata": {},
   "outputs": [
    {
     "data": {
      "text/plain": [
       "Enhanced Russell Graph Slack Based Measure Profit DEA Model \n",
       "DMUs = 31; Inputs = 3; Outputs = 2\n",
       "Returns to Scale = VRS\n",
       "───────────────────────────────────────────────────────────────────\n",
       "                                 Profit     Technical    Allocative\n",
       "───────────────────────────────────────────────────────────────────\n",
       "Export-Import Bank          0.0           0.0           0.0\n",
       "Bank of Taiwan              0.299725      1.11022e-16   0.299725\n",
       "Taipei Fubon Bank           0.550048      2.22045e-16   0.550048\n",
       "Bank of Kaohsiung           2.75099       0.78295       1.96804\n",
       "Land Bank                   7.96057e-15  -2.22045e-16   8.18261e-15\n",
       "Cooperative Bank            0.711845      0.0           0.711845\n",
       "First Bank                  0.564601      0.0           0.564601\n",
       "Hua Nan Bank                0.558457      0.207607      0.35085\n",
       "Chang Hwa Bank              0.986781      0.36396       0.622822\n",
       "Mega Bank                  -1.07824e-15   0.0          -1.07824e-15\n",
       "Cathay United Bank          1.21902       0.593035      0.62599\n",
       "The Shanghai Bank           2.66918       0.257427      2.41176\n",
       "Union Bank                  4.58067       0.933576      3.64709\n",
       "Far Eastern Bank            0.942014      0.0           0.942014\n",
       "E. Sun Bank                 0.92478       0.217258      0.707522\n",
       "Cosmos Bank                10.581         0.988055      9.59293\n",
       "Taishin Bank                2.10504       0.532162      1.57288\n",
       "Ta Chong Bank               2.74399       0.41594       2.32805\n",
       "Jih Sun Bank                3.5433        0.812509      2.73079\n",
       "Entie Bank                  4.9994        0.735329      4.26408\n",
       "China Trust Bank            1.21049       0.0           1.21049\n",
       "Sunny Bank                  7.38273       0.958808      6.42392\n",
       "Bank of Panhsin             9.24548       0.981415      8.26407\n",
       "Taiwan Business Bank        1.37674       0.279165      1.09758\n",
       "Taichung Bank               7.71132       0.876683      6.83464\n",
       "China Development           4.77348       0.0           4.77348\n",
       "Hwatai Bank                15.7188        0.958676     14.7601\n",
       "Cota Bank                   8.36232       0.942322      7.42\n",
       "Industrial Bank of Taiwan   3.91122      -3.10862e-15   3.91122\n",
       "Bank SinoPac                0.763301      0.226657      0.536644\n",
       "Shin Kong Bank              2.86958       0.906448      1.96313\n",
       "───────────────────────────────────────────────────────────────────"
      ]
     },
     "execution_count": 11,
     "metadata": {},
     "output_type": "execute_result"
    }
   ],
   "source": [
    "deaprofiterg(X, Y, W, P, names = banks)"
   ]
  },
  {
   "cell_type": "code",
   "execution_count": 12,
   "metadata": {},
   "outputs": [
    {
     "data": {
      "text/plain": [
       "Enhanced Russell Graph Slack Based Measure DEA Model \n",
       "DMUs = 31; Inputs = 3; Outputs = 2\n",
       "Orientation = Graph; Returns to Scale = VRS\n",
       "──────────────────────────────────────────────────────────────────────────────────────────────────────────────────────────────────\n",
       "                           efficiency       beta          slackX1         slackX2          slackX3         slackY1         slackY2\n",
       "──────────────────────────────────────────────────────────────────────────────────────────────────────────────────────────────────\n",
       "Export-Import Bank          1.0        1.0            0.0             0.0              0.0               0.0           0.0\n",
       "Bank of Taiwan              1.0        1.0            2.07846e-10     0.0              1.80339e-11       0.0           0.0\n",
       "Taipei Fubon Bank           1.0        1.0            2.1264e-10      3.08885e-12      0.0               0.0           0.0\n",
       "Bank of Kaohsiung           0.21705    0.221979    1680.17            0.0            129.166             1.17345e5     0.0\n",
       "Land Bank                   1.0        1.0            0.0             0.0              0.0               0.0           0.0\n",
       "Cooperative Bank            1.0        1.0            0.0             0.0              0.0               0.0           0.0\n",
       "First Bank                  1.0        1.0            0.0             0.0              0.0               0.0           0.0\n",
       "Hua Nan Bank                0.792393   1.0        62264.6          1594.05          8968.74              0.0           0.0\n",
       "Chang Hwa Bank              0.63604    0.887174       0.0          2071.22         12530.9           65394.4           0.0\n",
       "Mega Bank                   1.0        1.0            0.0             0.0              0.0               0.0           0.0\n",
       "Cathay United Bank          0.406965   0.669303       2.62932e5    2101.04         16042.7               1.6057e5      0.0\n",
       "The Shanghai Bank           0.742573   0.976728   84708.6             0.0           5833.01          10933.0           0.0\n",
       "Union Bank                  0.0664239  0.109432   28607.9          1123.65          5671.76              2.2567e5      0.0\n",
       "Far Eastern Bank            1.0        1.0            0.0             0.0              0.0               0.0           0.0\n",
       "E. Sun Bank                 0.782742   1.0            1.50628e5     681.614         4857.9               0.0           0.0\n",
       "Cosmos Bank                 0.0119449  0.0289395  32486.0          1118.0           4943.0          112761.0        2104.0\n",
       "Taishin Bank                0.467838   0.798468   56043.9          3130.07         11485.8               1.02533e5     0.0\n",
       "Ta Chong Bank               0.58406    0.717942       0.0          1394.97           402.753         86299.5           0.0\n",
       "Jih Sun Bank                0.187491   0.264623   13184.2           339.941         2457.04         148341.0           0.0\n",
       "Entie Bank                  0.264671   0.305804   58873.3           401.014            0.0               1.43014e5     0.0\n",
       "China Trust Bank            1.0        1.0            0.0             0.0              0.0               0.0           0.0\n",
       "Sunny Bank                  0.0411917  0.0626337      0.0           515.884         6734.97              1.65582e5     0.0\n",
       "Bank of Panhsin             0.0185846  0.0295772  10089.7           323.971         5854.59              1.49088e5     0.0\n",
       "Taiwan Business Bank        0.720835   0.830044       0.0          1276.98          1983.44          64649.4           0.0\n",
       "Taichung Bank               0.123317   0.129741       0.0             0.0            481.703        194898.0           0.0\n",
       "China Development           1.0        1.0            0.0             0.0              0.0               0.0           0.0\n",
       "Hwatai Bank                 0.0413241  0.0462281   1955.87          109.696          286.032        128784.0           0.0\n",
       "Cota Bank                   0.0576783  0.0766959  29993.2           504.414            0.0           89301.6           0.0\n",
       "Industrial Bank of Taiwan   1.0        1.0           -2.32027e-10     0.0             -1.05914e-11       0.0          -3.41657e-11\n",
       "Bank SinoPac                0.773343   0.919748   67084.9          1172.74          1349.81          46597.5           0.0\n",
       "Shin Kong Bank              0.0935516  0.118674       0.0           636.774         3081.89              2.58025e5     0.0\n",
       "──────────────────────────────────────────────────────────────────────────────────────────────────────────────────────────────────"
      ]
     },
     "execution_count": 12,
     "metadata": {},
     "output_type": "execute_result"
    }
   ],
   "source": [
    "deaerg(X, Y, rts  = :VRS, names = banks)"
   ]
  },
  {
   "cell_type": "markdown",
   "metadata": {},
   "source": [
    "## 3.4. The Directional Distance Function"
   ]
  },
  {
   "cell_type": "code",
   "execution_count": 13,
   "metadata": {},
   "outputs": [
    {
     "data": {
      "text/plain": [
       "Profit DEA Model \n",
       "DMUs = 31; Inputs = 3; Outputs = 2\n",
       "Returns to Scale = VRS\n",
       "Gx = Mean; Gy = Mean\n",
       "───────────────────────────────────────────────────────────────────\n",
       "                                 Profit     Technical    Allocative\n",
       "───────────────────────────────────────────────────────────────────\n",
       "Export-Import Bank          0.0           0.0           0.0\n",
       "Bank of Taiwan              0.210065     -7.08067e-17   0.210065\n",
       "Taipei Fubon Bank           0.201694      0.0           0.201694\n",
       "Bank of Kaohsiung           0.36845       0.0418304     0.32662\n",
       "Land Bank                   1.93201e-15   0.0           1.93201e-15\n",
       "Cooperative Bank            0.207178      0.0           0.207178\n",
       "First Bank                  0.231552      0.0           0.231552\n",
       "Hua Nan Bank                0.244772      0.0561266     0.188645\n",
       "Chang Hwa Bank              0.349622      0.051373      0.298249\n",
       "Mega Bank                  -3.10894e-16   0.0          -3.10894e-16\n",
       "Cathay United Bank          0.862221      0.254697      0.607524\n",
       "The Shanghai Bank           0.503226      0.0404646     0.462762\n",
       "Union Bank                  3.06253       0.0976542     2.96488\n",
       "Far Eastern Bank            0.0964181    -2.98433e-17   0.0964181\n",
       "E. Sun Bank                 0.37127       0.0939234     0.277347\n",
       "Cosmos Bank                 2.91259       0.0635534     2.84904\n",
       "Taishin Bank                0.682194      0.084963      0.597231\n",
       "Ta Chong Bank               0.293772      0.0283267     0.265445\n",
       "Jih Sun Bank                0.57831       0.0613596     0.516951\n",
       "Entie Bank                  0.489252      0.0202506     0.469002\n",
       "China Trust Bank            0.590626      0.0           0.590626\n",
       "Sunny Bank                  1.23265       0.0574996     1.17516\n",
       "Bank of Panhsin             1.43501       0.0598455     1.37517\n",
       "Taiwan Business Bank        0.249419      0.0225036     0.226916\n",
       "Taichung Bank               0.659821      0.0510291     0.608792\n",
       "China Development           0.104117      0.0           0.104117\n",
       "Hwatai Bank                 0.670465      0.0476872     0.622777\n",
       "Cota Bank                   0.754719      0.0287997     0.725919\n",
       "Industrial Bank of Taiwan   0.0930958     0.0           0.0930958\n",
       "Bank SinoPac                0.258314      0.060563      0.197751\n",
       "Shin Kong Bank              1.49562       0.0863343     1.40929\n",
       "───────────────────────────────────────────────────────────────────"
      ]
     },
     "execution_count": 13,
     "metadata": {},
     "output_type": "execute_result"
    }
   ],
   "source": [
    "deaprofit(X, Y, W, P, Gx = :Mean, Gy = :Mean,  names = banks)"
   ]
  },
  {
   "cell_type": "code",
   "execution_count": 14,
   "metadata": {},
   "outputs": [
    {
     "data": {
      "text/plain": [
       "Directional DF DEA Model \n",
       "DMUs = 31; Inputs = 3; Outputs = 2\n",
       "Returns to Scale = VRS\n",
       "Gx = Mean; Gy = Mean\n",
       "────────────────────────────────────────────────────────────────────────────────────────────────────────────\n",
       "                             efficiency          slackX1   slackX2         slackX3          slackY1  slackY2\n",
       "────────────────────────────────────────────────────────────────────────────────────────────────────────────\n",
       "Export-Import Bank          0.0              0.0             0.0       0.0             -9.10433e-12      0.0\n",
       "Bank of Taiwan             -7.08067e-17     -1.52296e-10     0.0      -1.45519e-11      0.0              0.0\n",
       "Taipei Fubon Bank           0.0              0.0             0.0       0.0              0.0              0.0\n",
       "Bank of Kaohsiung           0.0418304        0.0           148.877     0.0           4758.7              0.0\n",
       "Land Bank                   0.0              0.0             0.0       0.0              0.0              0.0\n",
       "Cooperative Bank            0.0              0.0             0.0       0.0              0.0              0.0\n",
       "First Bank                  0.0              7.50579e-12     0.0       6.87668e-14      0.0              0.0\n",
       "Hua Nan Bank                0.0561266        0.0           708.111  3338.27             1.77128e-10      0.0\n",
       "Chang Hwa Bank              0.051373         0.0          1787.21   8437.06            -3.6612e-10       0.0\n",
       "Mega Bank                   0.0              0.0             0.0       0.0              0.0              0.0\n",
       "Cathay United Bank          0.254697         0.0          1130.98   8174.36             2.91038e-11      0.0\n",
       "The Shanghai Bank           0.0404646       -9.09007e-11     0.0    2006.96             0.0              0.0\n",
       "Union Bank                  0.0976542        0.0          1783.82   3935.28             3.92902e-10      0.0\n",
       "Far Eastern Bank           -2.98433e-17      8.68024e-11     0.0       4.7948e-12       0.0              0.0\n",
       "E. Sun Bank                 0.0939234        4.68063e-11     0.0    2002.67             0.0              0.0\n",
       "Cosmos Bank                 0.0635534        0.0          1102.81   4433.17             4.16094e-10      0.0\n",
       "Taishin Bank                0.084963         0.0          3072.88   8589.31             4.57487e-10      0.0\n",
       "Ta Chong Bank               0.0283267        0.0          1756.96      0.0              3.0559e-10       0.0\n",
       "Jih Sun Bank                0.0613596        0.0           654.773  1731.59            -9.55454e-11      0.0\n",
       "Entie Bank                  0.0202506    96985.2          1170.77      0.0           2639.25             0.0\n",
       "China Trust Bank            0.0              0.0             0.0       0.0              0.0              0.0\n",
       "Sunny Bank                  0.0574996        0.0           935.91   6111.96          3774.65             0.0\n",
       "Bank of Panhsin             0.0598455        0.0           613.651  5264.86             4.18368e-10      0.0\n",
       "Taiwan Business Bank        0.0225036        0.0          1526.86   1541.71            -4.06818e-10      0.0\n",
       "Taichung Bank               0.0510291     1777.77          671.942     0.0          32306.5              0.0\n",
       "China Development           0.0              0.0             0.0       0.0              0.0              0.0\n",
       "Hwatai Bank                 0.0476872        0.0           321.811    29.884           -3.84482e-11      0.0\n",
       "Cota Bank                   0.0287997    34060.5           681.077     0.0             -1.21496e-10      0.0\n",
       "Industrial Bank of Taiwan   0.0              0.0             0.0       0.0              0.0              0.0\n",
       "Bank SinoPac                0.060563         0.0          1052.87      0.0             -9.54776e-11      0.0\n",
       "Shin Kong Bank              0.0863343        0.0          1595.46   1387.2           9998.63             0.0\n",
       "────────────────────────────────────────────────────────────────────────────────────────────────────────────"
      ]
     },
     "execution_count": 14,
     "metadata": {},
     "output_type": "execute_result"
    }
   ],
   "source": [
    "deaddf(X, Y, rts  = :VRS, Gx = :Mean, Gy = :Mean, names = banks)"
   ]
  },
  {
   "cell_type": "markdown",
   "metadata": {},
   "source": [
    "## 3.5. The Hölder Distance Function}"
   ]
  },
  {
   "cell_type": "code",
   "execution_count": 15,
   "metadata": {},
   "outputs": [
    {
     "data": {
      "text/plain": [
       "Profit Hölder LInf DEA Model \n",
       "DMUs = 31; Inputs = 3; Outputs = 2\n",
       "Returns to Scale = VRS\n",
       "Weighted (weakly) Hölder distance function \n",
       "───────────────────────────────────────────────────────────────────\n",
       "                                 Profit     Technical    Allocative\n",
       "───────────────────────────────────────────────────────────────────\n",
       "Export-Import Bank          0.0          -9.77224e-17   9.77224e-17\n",
       "Bank of Taiwan              0.0609693    -2.04769e-17   0.0609693\n",
       "Taipei Fubon Bank           0.146089      0.0           0.146089\n",
       "Bank of Kaohsiung           1.72965       0.178596      1.55106\n",
       "Land Bank                   9.00745e-16   0.0           9.00745e-16\n",
       "Cooperative Bank            0.0762826     0.0           0.0762826\n",
       "First Bank                  0.115133      0.0           0.115133\n",
       "Hua Nan Bank                0.123537      0.0276888     0.0958478\n",
       "Chang Hwa Bank              0.211342      0.0316473     0.179695\n",
       "Mega Bank                  -1.87802e-16   0.0          -1.87802e-16\n",
       "Cathay United Bank          0.624558      0.165395      0.459163\n",
       "The Shanghai Bank           0.720585      0.0557505     0.664835\n",
       "Union Bank                 17.0564        0.290345     16.7661\n",
       "Far Eastern Bank            0.233646      0.0           0.233646\n",
       "E. Sun Bank                 0.32286       0.076178      0.246682\n",
       "Cosmos Bank                31.3006        0.519597     30.781\n",
       "Taishin Bank                0.639136      0.0923751     0.546761\n",
       "Ta Chong Bank               0.681552      0.0700579     0.611494\n",
       "Jih Sun Bank                2.38807       0.283993      2.10408\n",
       "Entie Bank                  1.62824       0.095742      1.5325\n",
       "China Trust Bank            0.296683      0.0           0.296683\n",
       "Sunny Bank                  4.54593       0.208411      4.33752\n",
       "Bank of Panhsin             8.16215       0.340497      7.82165\n",
       "Taiwan Business Bank        0.188249      0.016496      0.171753\n",
       "Taichung Bank               1.8106        0.142231      1.66837\n",
       "China Development           0.724468      0.0           0.724468\n",
       "Hwatai Bank                 4.69325       0.354964      4.33829\n",
       "Cota Bank                   6.1504        0.284206      5.8662\n",
       "Industrial Bank of Taiwan   0.870515      0.0           0.870515\n",
       "Bank SinoPac                0.235837      0.0544932     0.181344\n",
       "Shin Kong Bank              3.69483       0.160121      3.53471\n",
       "───────────────────────────────────────────────────────────────────"
      ]
     },
     "execution_count": 15,
     "metadata": {},
     "output_type": "execute_result"
    }
   ],
   "source": [
    "deaprofitholder(X, Y, W, P, l = Inf, weight = true, names = banks)"
   ]
  },
  {
   "cell_type": "code",
   "execution_count": 16,
   "metadata": {},
   "outputs": [
    {
     "data": {
      "text/plain": [
       "Hölder LInf DEA Model \n",
       "DMUs = 31; Inputs = 3; Outputs = 2\n",
       "Orientation = Graph; Returns to Scale = VRS\n",
       "Weighted (weakly) Hölder distance function \n",
       "────────────────────────────────────────────────────────────────────────────────────────────────────────────────\n",
       "                             efficiency          slackX1   slackX2         slackX3          slackY1      slackY2\n",
       "────────────────────────────────────────────────────────────────────────────────────────────────────────────────\n",
       "Export-Import Bank         -9.77224e-17      0.0             0.0       0.0              1.53736e-11  0.0\n",
       "Bank of Taiwan             -2.04769e-17     -1.52296e-10     0.0      -1.45519e-11      0.0          0.0\n",
       "Taipei Fubon Bank           0.0              0.0             0.0       0.0              0.0          0.0\n",
       "Bank of Kaohsiung           0.178596         0.0           149.48      0.0           5748.91         0.0\n",
       "Land Bank                   0.0              0.0             0.0       0.0              0.0          0.0\n",
       "Cooperative Bank            0.0              0.0             0.0       0.0              0.0          0.0\n",
       "First Bank                  0.0              7.50579e-12     0.0       6.87668e-14      0.0          0.0\n",
       "Hua Nan Bank                0.0276888        0.0           725.453  3395.75             3.1052e-10   0.0\n",
       "Chang Hwa Bank              0.0316473        0.0          1792.04   8387.27            -1.97626e-10  0.0\n",
       "Mega Bank                   0.0              0.0             0.0       0.0              0.0          0.0\n",
       "Cathay United Bank          0.165395         0.0          1266.03   7526.26            -4.36557e-11  0.0\n",
       "The Shanghai Bank           0.0557505       -1.50664e-12     0.0    1903.23             0.0          0.0\n",
       "Union Bank                  0.290345         0.0          1348.62   2965.12          7938.2          0.0\n",
       "Far Eastern Bank            0.0              0.0             0.0       0.0              0.0          0.0\n",
       "E. Sun Bank                 0.076178         0.0             0.0     979.534            0.0          2.32831e-10\n",
       "Cosmos Bank                 0.519597         0.0           523.375  2118.69          3976.65         0.0\n",
       "Taishin Bank                0.0923751        0.0          2814.3    8155.91             6.77324e-10  0.0\n",
       "Ta Chong Bank               0.0700579        0.0          1608.37      0.0             -2.32831e-10  0.0\n",
       "Jih Sun Bank                0.283993         0.0           484.311  1360.02            -1.09139e-10  0.0\n",
       "Entie Bank                  0.095742     76290.5          1036.59      0.0           5409.36         0.0\n",
       "China Trust Bank            0.0              0.0             0.0       0.0              0.0          0.0\n",
       "Sunny Bank                  0.208411         0.0           778.784  4965.86         14103.4          0.0\n",
       "Bank of Panhsin             0.340497         0.0           424.619  3541.71          8622.9          0.0\n",
       "Taiwan Business Bank        0.016496         0.0          1537.19   1587.32            -3.91662e-10  0.0\n",
       "Taichung Bank               0.142231         0.0           617.109     0.0          33758.7          0.0\n",
       "China Development           0.0              0.0             0.0       0.0              0.0          0.0\n",
       "Hwatai Bank                 0.354964         0.0           219.158    46.1137        4201.05         0.0\n",
       "Cota Bank                   0.284206     17845.0           461.754     0.0           5992.93         0.0\n",
       "Industrial Bank of Taiwan   0.0              0.0             0.0       0.0              0.0          0.0\n",
       "Bank SinoPac                0.0544932        0.0           974.4       0.0             -1.89175e-10  0.0\n",
       "Shin Kong Bank              0.160121         0.0          1422.07   1403.06         24207.2          0.0\n",
       "────────────────────────────────────────────────────────────────────────────────────────────────────────────────"
      ]
     },
     "execution_count": 16,
     "metadata": {},
     "output_type": "execute_result"
    }
   ],
   "source": [
    "deaholder(X, Y, l = Inf, weight = true, orient = :Graph, rts = :VRS, names = banks)"
   ]
  },
  {
   "cell_type": "markdown",
   "metadata": {},
   "source": [
    "## 3.6. The Modified Distance Function"
   ]
  },
  {
   "cell_type": "code",
   "execution_count": 17,
   "metadata": {},
   "outputs": [
    {
     "name": "stderr",
     "output_type": "stream",
     "text": [
      "┌ Warning: DMU 29 termination status: TIME_LIMIT. Primal status: INFEASIBLE_POINT. Dual status: NO_SOLUTION\n",
      "└ @ DataEnvelopmentAnalysis /Users/javierbarbero/.julia/packages/DataEnvelopmentAnalysis/CcljZ/src/deamddf.jl:177\n"
     ]
    },
    {
     "data": {
      "text/plain": [
       "Profit Modified DDF DEA Model \n",
       "DMUs = 31; Inputs = 3; Outputs = 2\n",
       "Returns to Scale = VRS\n",
       "Gx = Observed; Gy = Observed\n",
       "─────────────────────────────────────────────────────────────────────\n",
       "                                  Profit     Technical     Allocative\n",
       "─────────────────────────────────────────────────────────────────────\n",
       "Export-Import Bank           0.0           0.0            0.0\n",
       "Bank of Taiwan               0.596709      3.42411e-18    0.596709\n",
       "Taipei Fubon Bank            1.1001        0.0            1.1001\n",
       "Bank of Kaohsiung            9.75109       0.361837       9.38925\n",
       "Land Bank                    4.15667e-15   0.0            4.15667e-15\n",
       "Cooperative Bank             0.343185      0.0            0.343185\n",
       "First Bank                   0.716428     -7.11564e-18    0.716428\n",
       "Hua Nan Bank                 0.71398       0.0563877      0.657592\n",
       "Chang Hwa Bank               1.33121       0.0649374      1.26627\n",
       "Mega Bank                   -1.12099e-15   0.0           -1.12099e-15\n",
       "Cathay United Bank           4.07396       0.384205       3.68975\n",
       "The Shanghai Bank            4.70987       0.113383       4.59649\n",
       "Union Bank                 113.884         0.690593     113.193\n",
       "Far Eastern Bank             1.88403       0.0            1.88403\n",
       "E. Sun Bank                  2.06169       0.157678       1.90401\n",
       "Cosmos Bank                319.036         1.24411      317.792\n",
       "Taishin Bank                 5.60279       0.194112       5.40868\n",
       "Ta Chong Bank                7.64405       0.143568       7.50049\n",
       "Jih Sun Bank                26.78          0.628346      26.1516\n",
       "Entie Bank                   8.75374       0.193742       8.56\n",
       "China Trust Bank             2.42099       0.0            2.42099\n",
       "Sunny Bank                  24.2953        0.436228      23.8591\n",
       "Bank of Panhsin            625.176         0.74577      624.43\n",
       "Taiwan Business Bank         1.01131       0.0334356      0.977871\n",
       "Taichung Bank               12.005         0.294958      11.71\n",
       "China Development            3.76546       0.0            3.76546\n",
       "Hwatai Bank                 27.9857        0.731325      27.2544\n",
       "Cota Bank                   36.7423        0.638023      36.1043\n",
       "Industrial Bank of Taiwan    7.82245       0.0492317      7.77321\n",
       "Bank SinoPac                 1.62129       0.11124        1.51005\n",
       "Shin Kong Bank              25.8171        0.346674      25.4705\n",
       "─────────────────────────────────────────────────────────────────────"
      ]
     },
     "execution_count": 17,
     "metadata": {},
     "output_type": "execute_result"
    }
   ],
   "source": [
    "deaprofitmddf(X, Y, W, P, Gx = :Observed, Gy =  :Observed,  names = banks)"
   ]
  },
  {
   "cell_type": "code",
   "execution_count": 18,
   "metadata": {},
   "outputs": [
    {
     "name": "stderr",
     "output_type": "stream",
     "text": [
      "┌ Warning: DMU 29 termination status: TIME_LIMIT. Primal status: FEASIBLE_POINT. Dual status: NO_SOLUTION\n",
      "└ @ DataEnvelopmentAnalysis /Users/javierbarbero/.julia/packages/DataEnvelopmentAnalysis/CcljZ/src/deamddf.jl:177\n"
     ]
    },
    {
     "data": {
      "text/plain": [
       "Modified DDF DEA Model \n",
       "DMUs = 31; Inputs = 3; Outputs = 2\n",
       "Returns to Scale = VRS\n",
       "Gx = Observed; Gy = Observed\n",
       "────────────────────────────────────────────────────────────────────────────────────────────────────────────────────────────────────\n",
       "                             efficiency            βx        βy          slackX1   slackX2         slackX3          slackY1  slackY2\n",
       "────────────────────────────────────────────────────────────────────────────────────────────────────────────────────────────────────\n",
       "Export-Import Bank          0.0           0.0          0.0           0.0             0.0       0.0             -9.10433e-12      0.0\n",
       "Bank of Taiwan              3.42411e-18   3.42411e-18  0.0          -1.52296e-10     0.0      -1.45519e-11      0.0              0.0\n",
       "Taipei Fubon Bank           0.0           0.0          0.0           0.0             0.0       0.0              0.0              0.0\n",
       "Bank of Kaohsiung           0.361837      0.0          0.361837      0.0           209.97      0.0           7113.67             0.0\n",
       "Land Bank                   0.0           0.0          0.0           0.0             0.0       0.0              0.0              0.0\n",
       "Cooperative Bank            0.0           0.0          0.0           0.0             0.0       0.0              0.0              0.0\n",
       "First Bank                 -7.11564e-18  -7.11564e-18  0.0           7.50579e-12     0.0       6.87668e-14      0.0              0.0\n",
       "Hua Nan Bank                0.0563877     0.0563877    0.0           0.0           711.453  3445.97             1.90248e-10      0.0\n",
       "Chang Hwa Bank              0.0649374     0.0649374    0.0           0.0          1740.64   8277.05             2.89156e-10      0.0\n",
       "Mega Bank                   0.0           0.0          0.0           0.0             0.0       0.0              0.0              0.0\n",
       "Cathay United Bank          0.384205      0.0          0.384205      0.0          1551.42   9045.47            -2.61934e-10      0.0\n",
       "The Shanghai Bank           0.113383      0.113383     0.0          -6.72967e-11     0.0    1876.18             0.0              0.0\n",
       "Union Bank                  0.690593      0.0          0.690593      0.0          1951.94   4260.49         12936.6              0.0\n",
       "Far Eastern Bank            0.0           0.0          0.0           0.0             0.0       0.0              0.0              0.0\n",
       "E. Sun Bank                 0.157678      0.157678     0.0           7.27511e-11     0.0    2448.45             0.0              0.0\n",
       "Cosmos Bank                 1.24411       0.0          1.24411       0.0          1225.75   4627.61          9770.79             0.0\n",
       "Taishin Bank                0.194112      0.0          0.194112      0.0          3122.84   8994.65             9.54389e-10      0.0\n",
       "Ta Chong Bank               0.143568      0.143568     0.0           0.0          1464.32      0.0             -1.45519e-11      0.0\n",
       "Jih Sun Bank                0.628346      0.0          0.628346      0.0           747.663  1952.13             9.82254e-11      0.0\n",
       "Entie Bank                  0.193742      0.0          0.193742  80613.5          1147.95      0.0           7617.63             0.0\n",
       "China Trust Bank            0.0           0.0          0.0           0.0             0.0       0.0              0.0              0.0\n",
       "Sunny Bank                  0.436228      0.0          0.436228      0.0          1017.0    6326.2          18303.6              0.0\n",
       "Bank of Panhsin             0.74577       0.0          0.74577       0.0           708.912  5474.03         13701.7              0.0\n",
       "Taiwan Business Bank        0.0334356     0.0334356    0.0           0.0          1507.77   1557.5             -2.81087e-10      0.0\n",
       "Taichung Bank               0.294958      0.0          0.294958      0.0           740.78      0.0          39044.5              0.0\n",
       "China Development           0.0           0.0          0.0           0.0             0.0       0.0              0.0              0.0\n",
       "Hwatai Bank                 0.731325      0.0          0.731325      0.0           409.11    182.083         7638.98             0.0\n",
       "Cota Bank                   0.638023      0.0          0.638023  10850.5           651.144     0.0          12956.4              0.0\n",
       "Industrial Bank of Taiwan   0.0           0.0          0.0           0.0             0.0       0.0              0.0              0.0\n",
       "Bank SinoPac                0.11124       0.0          0.11124       0.0          1042.39      0.0             -3.0483e-10       0.0\n",
       "Shin Kong Bank              0.346674      0.0          0.346674      0.0          1717.21   1708.86         29414.5              0.0\n",
       "────────────────────────────────────────────────────────────────────────────────────────────────────────────────────────────────────"
      ]
     },
     "execution_count": 18,
     "metadata": {},
     "output_type": "execute_result"
    }
   ],
   "source": [
    "deamddf(X, Y, rts = :VRS, Gx = :Observed, Gy= :Observed, names = banks)"
   ]
  },
  {
   "cell_type": "markdown",
   "metadata": {},
   "source": [
    "## 3.7. The Reverse Directional Distance Function"
   ]
  },
  {
   "cell_type": "code",
   "execution_count": 19,
   "metadata": {},
   "outputs": [
    {
     "data": {
      "text/plain": [
       "Profit Reverse DDF DEA Model \n",
       "DMUs = 31; Inputs = 3; Outputs = 2\n",
       "Returns to Scale = VRS\n",
       "Associated efficiency measure = ERG\n",
       "───────────────────────────────────────────────────────────────────\n",
       "                                 Profit     Technical    Allocative\n",
       "───────────────────────────────────────────────────────────────────\n",
       "Export-Import Bank          0.0           0.0           0.0\n",
       "Bank of Taiwan              0.299725     -4.82974e-13   0.299725\n",
       "Taipei Fubon Bank           0.550048      0.0           0.550048\n",
       "Bank of Kaohsiung           2.72869       0.78295       1.94574\n",
       "Land Bank                   7.96057e-15   0.0           7.96057e-15\n",
       "Cooperative Bank            0.711845      0.0           0.711845\n",
       "First Bank                  0.564601     -1.98624e-13   0.564601\n",
       "Hua Nan Bank                0.293138      0.207607      0.085531\n",
       "Chang Hwa Bank              0.535171      0.36396       0.171212\n",
       "Mega Bank                  -1.07824e-15   0.0          -1.07824e-15\n",
       "Cathay United Bank          1.00923       0.593035      0.416196\n",
       "The Shanghai Bank           2.05978       0.257427      1.80235\n",
       "Union Bank                  3.49795       0.933576      2.56438\n",
       "Far Eastern Bank            0.942014      0.0           0.942014\n",
       "E. Sun Bank                 0.690357      0.217258      0.473098\n",
       "Cosmos Bank                 9.69323       0.988055      8.70517\n",
       "Taishin Bank                1.17544       0.532162      0.643274\n",
       "Ta Chong Bank               1.53687       0.41594       1.12093\n",
       "Jih Sun Bank                2.86828       0.812509      2.05577\n",
       "Entie Bank                  4.01472       0.735329      3.27939\n",
       "China Trust Bank            1.21049       0.0           1.21049\n",
       "Sunny Bank                  6.13961       0.958808      5.18081\n",
       "Bank of Panhsin             7.8391        0.981415      6.85769\n",
       "Taiwan Business Bank        0.611798      0.279165      0.332633\n",
       "Taichung Bank               7.24206       0.876683      6.36538\n",
       "China Development           4.77348       0.0           4.77348\n",
       "Hwatai Bank                13.5607        0.958676     12.602\n",
       "Cota Bank                   7.01996       0.942322      6.07764\n",
       "Industrial Bank of Taiwan   3.91122       0.0           3.91122\n",
       "Bank SinoPac                0.536348      0.226657      0.30969\n",
       "Shin Kong Bank              2.71129       0.906448      1.80485\n",
       "───────────────────────────────────────────────────────────────────"
      ]
     },
     "execution_count": 19,
     "metadata": {},
     "output_type": "execute_result"
    }
   ],
   "source": [
    "deaprofitrddf(X, Y, W, P, :ERG,  names = banks)"
   ]
  },
  {
   "cell_type": "code",
   "execution_count": 20,
   "metadata": {},
   "outputs": [
    {
     "data": {
      "text/plain": [
       "Reverse DDF DEA Model \n",
       "DMUs = 31; Inputs = 3; Outputs = 2\n",
       "Orientation = Graph; Returns to Scale = VRS\n",
       "Associated efficiency measure = ERG\n",
       "───────────────────────────────────────\n",
       "                             efficiency\n",
       "───────────────────────────────────────\n",
       "Export-Import Bank          0.0\n",
       "Bank of Taiwan             -4.82974e-13\n",
       "Taipei Fubon Bank           0.0\n",
       "Bank of Kaohsiung           0.78295\n",
       "Land Bank                   0.0\n",
       "Cooperative Bank            0.0\n",
       "First Bank                 -1.98624e-13\n",
       "Hua Nan Bank                0.207607\n",
       "Chang Hwa Bank              0.36396\n",
       "Mega Bank                   0.0\n",
       "Cathay United Bank          0.593035\n",
       "The Shanghai Bank           0.257427\n",
       "Union Bank                  0.933576\n",
       "Far Eastern Bank            0.0\n",
       "E. Sun Bank                 0.217258\n",
       "Cosmos Bank                 0.988055\n",
       "Taishin Bank                0.532162\n",
       "Ta Chong Bank               0.41594\n",
       "Jih Sun Bank                0.812509\n",
       "Entie Bank                  0.735329\n",
       "China Trust Bank            0.0\n",
       "Sunny Bank                  0.958808\n",
       "Bank of Panhsin             0.981415\n",
       "Taiwan Business Bank        0.279165\n",
       "Taichung Bank               0.876683\n",
       "China Development           0.0\n",
       "Hwatai Bank                 0.958676\n",
       "Cota Bank                   0.942322\n",
       "Industrial Bank of Taiwan   0.0\n",
       "Bank SinoPac                0.226657\n",
       "Shin Kong Bank              0.906448\n",
       "───────────────────────────────────────"
      ]
     },
     "execution_count": 20,
     "metadata": {},
     "output_type": "execute_result"
    }
   ],
   "source": [
    "dearddf(X, Y, :ERG, rts  = :VRS, names = banks)"
   ]
  },
  {
   "cell_type": "markdown",
   "metadata": {},
   "source": [
    "## 3.8. The General Direct Approach"
   ]
  },
  {
   "cell_type": "code",
   "execution_count": 21,
   "metadata": {},
   "outputs": [
    {
     "data": {
      "text/plain": [
       "General Direct Approach Profit DEA Model \n",
       "DMUs = 31; Inputs = 3; Outputs = 2\n",
       "Returns to Scale = VRS\n",
       "Associated efficiency measure = ERG\n",
       "───────────────────────────────────────────────────────────────────\n",
       "                                 Profit     Technical    Allocative\n",
       "───────────────────────────────────────────────────────────────────\n",
       "Export-Import Bank          0.0           0.0           0.0\n",
       "Bank of Taiwan              0.299725      1.11022e-16   0.299725\n",
       "Taipei Fubon Bank           0.550048      2.22045e-16   0.550048\n",
       "Bank of Kaohsiung           2.72869       0.78295       1.94574\n",
       "Land Bank                   7.96057e-15  -2.22045e-16   7.96057e-15\n",
       "Cooperative Bank            0.711845      0.0           0.711845\n",
       "First Bank                  0.564601      0.0           0.564601\n",
       "Hua Nan Bank                0.293138      0.207607      0.085531\n",
       "Chang Hwa Bank              0.535171      0.36396       0.171212\n",
       "Mega Bank                  -1.07824e-15   0.0          -1.07824e-15\n",
       "Cathay United Bank          1.00923       0.593035      0.416196\n",
       "The Shanghai Bank           2.05978       0.257427      1.80235\n",
       "Union Bank                  3.49795       0.933576      2.56438\n",
       "Far Eastern Bank            0.942014      0.0           0.942014\n",
       "E. Sun Bank                 0.690357      0.217258      0.473098\n",
       "Cosmos Bank                 9.69323       0.988055      8.70517\n",
       "Taishin Bank                1.17544       0.532162      0.643274\n",
       "Ta Chong Bank               1.53687       0.41594       1.12093\n",
       "Jih Sun Bank                2.86828       0.812509      2.05577\n",
       "Entie Bank                  4.01472       0.735329      3.27939\n",
       "China Trust Bank            1.21049       0.0           1.21049\n",
       "Sunny Bank                  6.13961       0.958808      5.18081\n",
       "Bank of Panhsin             7.8391        0.981415      6.85769\n",
       "Taiwan Business Bank        0.611798      0.279165      0.332633\n",
       "Taichung Bank               7.24206       0.876683      6.36538\n",
       "China Development           4.77348       0.0           4.77348\n",
       "Hwatai Bank                13.5607        0.958676     12.602\n",
       "Cota Bank                   7.01996       0.942322      6.07764\n",
       "Industrial Bank of Taiwan   3.91122      -3.10862e-15   3.91122\n",
       "Bank SinoPac                0.536348      0.226657      0.30969\n",
       "Shin Kong Bank              2.71129       0.906448      1.80485\n",
       "───────────────────────────────────────────────────────────────────"
      ]
     },
     "execution_count": 21,
     "metadata": {},
     "output_type": "execute_result"
    }
   ],
   "source": [
    "deaprofitgda(X, Y, W, P, :ERG, names = banks)"
   ]
  },
  {
   "cell_type": "code",
   "execution_count": 22,
   "metadata": {},
   "outputs": [
    {
     "data": {
      "text/plain": [
       "Enhanced Russell Graph Slack Based Measure DEA Model \n",
       "DMUs = 31; Inputs = 3; Outputs = 2\n",
       "Orientation = Graph; Returns to Scale = VRS\n",
       "──────────────────────────────────────────────────────────────────────────────────────────────────────────────────────────────────\n",
       "                           efficiency       beta          slackX1         slackX2          slackX3         slackY1         slackY2\n",
       "──────────────────────────────────────────────────────────────────────────────────────────────────────────────────────────────────\n",
       "Export-Import Bank          1.0        1.0            0.0             0.0              0.0               0.0           0.0\n",
       "Bank of Taiwan              1.0        1.0            2.07846e-10     0.0              1.80339e-11       0.0           0.0\n",
       "Taipei Fubon Bank           1.0        1.0            2.1264e-10      3.08885e-12      0.0               0.0           0.0\n",
       "Bank of Kaohsiung           0.21705    0.221979    1680.17            0.0            129.166             1.17345e5     0.0\n",
       "Land Bank                   1.0        1.0            0.0             0.0              0.0               0.0           0.0\n",
       "Cooperative Bank            1.0        1.0            0.0             0.0              0.0               0.0           0.0\n",
       "First Bank                  1.0        1.0            0.0             0.0              0.0               0.0           0.0\n",
       "Hua Nan Bank                0.792393   1.0        62264.6          1594.05          8968.74              0.0           0.0\n",
       "Chang Hwa Bank              0.63604    0.887174       0.0          2071.22         12530.9           65394.4           0.0\n",
       "Mega Bank                   1.0        1.0            0.0             0.0              0.0               0.0           0.0\n",
       "Cathay United Bank          0.406965   0.669303       2.62932e5    2101.04         16042.7               1.6057e5      0.0\n",
       "The Shanghai Bank           0.742573   0.976728   84708.6             0.0           5833.01          10933.0           0.0\n",
       "Union Bank                  0.0664239  0.109432   28607.9          1123.65          5671.76              2.2567e5      0.0\n",
       "Far Eastern Bank            1.0        1.0            0.0             0.0              0.0               0.0           0.0\n",
       "E. Sun Bank                 0.782742   1.0            1.50628e5     681.614         4857.9               0.0           0.0\n",
       "Cosmos Bank                 0.0119449  0.0289395  32486.0          1118.0           4943.0          112761.0        2104.0\n",
       "Taishin Bank                0.467838   0.798468   56043.9          3130.07         11485.8               1.02533e5     0.0\n",
       "Ta Chong Bank               0.58406    0.717942       0.0          1394.97           402.753         86299.5           0.0\n",
       "Jih Sun Bank                0.187491   0.264623   13184.2           339.941         2457.04         148341.0           0.0\n",
       "Entie Bank                  0.264671   0.305804   58873.3           401.014            0.0               1.43014e5     0.0\n",
       "China Trust Bank            1.0        1.0            0.0             0.0              0.0               0.0           0.0\n",
       "Sunny Bank                  0.0411917  0.0626337      0.0           515.884         6734.97              1.65582e5     0.0\n",
       "Bank of Panhsin             0.0185846  0.0295772  10089.7           323.971         5854.59              1.49088e5     0.0\n",
       "Taiwan Business Bank        0.720835   0.830044       0.0          1276.98          1983.44          64649.4           0.0\n",
       "Taichung Bank               0.123317   0.129741       0.0             0.0            481.703        194898.0           0.0\n",
       "China Development           1.0        1.0            0.0             0.0              0.0               0.0           0.0\n",
       "Hwatai Bank                 0.0413241  0.0462281   1955.87          109.696          286.032        128784.0           0.0\n",
       "Cota Bank                   0.0576783  0.0766959  29993.2           504.414            0.0           89301.6           0.0\n",
       "Industrial Bank of Taiwan   1.0        1.0           -2.32027e-10     0.0             -1.05914e-11       0.0          -3.41657e-11\n",
       "Bank SinoPac                0.773343   0.919748   67084.9          1172.74          1349.81          46597.5           0.0\n",
       "Shin Kong Bank              0.0935516  0.118674       0.0           636.774         3081.89              2.58025e5     0.0\n",
       "──────────────────────────────────────────────────────────────────────────────────────────────────────────────────────────────────"
      ]
     },
     "execution_count": 22,
     "metadata": {},
     "output_type": "execute_result"
    }
   ],
   "source": [
    "deaerg(X, Y, rts = :VRS,  names = banks)"
   ]
  },
  {
   "cell_type": "markdown",
   "metadata": {},
   "source": [
    "# 4. Measuring and decomposing profitability efficiency"
   ]
  },
  {
   "cell_type": "code",
   "execution_count": 23,
   "metadata": {},
   "outputs": [
    {
     "data": {
      "text/plain": [
       "Profitability DEA Model \n",
       "DMUs = 31; Inputs = 3; Outputs = 2\n",
       "alpha = 0.5; Returns to Scale = VRS\n",
       "──────────────────────────────────────────────────────────────────────────────────\n",
       "                           Profitability       CRS       VRS     Scale  Allocative\n",
       "──────────────────────────────────────────────────────────────────────────────────\n",
       "Export-Import Bank             0.999999   0.999997  0.999999  0.999998    1.0\n",
       "Bank of Taiwan                 0.393451   1.0       1.0       1.0         0.393451\n",
       "Taipei Fubon Bank              0.444591   0.614278  1.0       0.614278    0.723762\n",
       "Bank of Kaohsiung              0.400458   0.48107   0.700667  0.686588    0.832432\n",
       "Land Bank                      0.501915   0.830479  1.0       0.830479    0.604368\n",
       "Cooperative Bank               0.392848   0.671643  1.0       0.671643    0.584905\n",
       "First Bank                     0.417051   0.666708  1.0       0.666708    0.625538\n",
       "Hua Nan Bank                   0.411813   0.602187  0.946148  0.636462    0.683863\n",
       "Chang Hwa Bank                 0.384587   0.522761  0.938701  0.556899    0.735684\n",
       "Mega Bank                      0.590678   0.855397  1.0       0.855397    0.690531\n",
       "Cathay United Bank             0.227546   0.43513   0.716689  0.60714     0.522937\n",
       "The Shanghai Bank              0.387033   0.754879  0.894588  0.843829    0.512709\n",
       "Union Bank                     0.0477634  0.208514  0.556532  0.374666    0.229066\n",
       "Far Eastern Bank               0.425327   0.999999  1.0       0.999999    0.425327\n",
       "E. Sun Bank                    0.37043    0.57754   0.85951   0.671941    0.641392\n",
       "Cosmos Bank                    0.0551375  0.195268  0.354387  0.551002    0.282368\n",
       "Taishin Bank                   0.264467   0.343468  0.831188  0.413226    0.76999\n",
       "Ta Chong Bank                  0.363111   0.656777  0.869459  0.755385    0.552868\n",
       "Jih Sun Bank                   0.242394   0.27645   0.566591  0.487919    0.876809\n",
       "Entie Bank                     0.33126    0.631489  0.825885  0.764621    0.524569\n",
       "China Trust Bank               0.290487   0.41696   1.0       0.41696     0.696679\n",
       "Sunny Bank                     0.215654   0.249083  0.659845  0.377487    0.865791\n",
       "Bank of Panhsin                0.180715   0.228758  0.507625  0.450643    0.789985\n",
       "Taiwan Business Bank           0.411315   0.544561  0.967551  0.562824    0.755315\n",
       "Taichung Bank                  0.335957   0.477897  0.752598  0.634996    0.702992\n",
       "China Development              0.523334   0.999999  1.0       0.999999    0.523334\n",
       "Hwatai Bank                    0.272076   0.328527  0.496978  0.661049    0.828168\n",
       "Cota Bank                      0.26831    0.475605  0.565756  0.840654    0.564144\n",
       "Industrial Bank of Taiwan      0.448944   0.947522  0.999997  0.947525    0.473809\n",
       "Bank SinoPac                   0.461054   0.647851  0.896737  0.722453    0.711667\n",
       "Shin Kong Bank                 0.15606    0.287427  0.725546  0.396153    0.542955\n",
       "──────────────────────────────────────────────────────────────────────────────────"
      ]
     },
     "execution_count": 23,
     "metadata": {},
     "output_type": "execute_result"
    }
   ],
   "source": [
    "deaprofitability(X, Y, W, P, alpha = 0.5, names = banks)"
   ]
  },
  {
   "cell_type": "code",
   "execution_count": 24,
   "metadata": {},
   "outputs": [
    {
     "name": "stderr",
     "output_type": "stream",
     "text": [
      "┌ Warning: DMU 28 termination status: ALMOST_LOCALLY_SOLVED. Primal status: NEARLY_FEASIBLE_POINT. Dual status: NEARLY_FEASIBLE_POINT\n",
      "└ @ DataEnvelopmentAnalysis /Users/javierbarbero/.julia/packages/DataEnvelopmentAnalysis/CcljZ/src/deaadd.jl:217\n"
     ]
    },
    {
     "data": {
      "text/plain": [
       "Generalized DF DEA Model \n",
       "DMUs = 31; Inputs = 3; Outputs = 2\n",
       "alpha = 0.5; Returns to Scale = CRS\n",
       "─────────────────────────────────────────────────────────────────────────────────────────────────────────────────\n",
       "                           efficiency          slackX1         slackX2        slackX3        slackY1      slackY2\n",
       "─────────────────────────────────────────────────────────────────────────────────────────────────────────────────\n",
       "Export-Import Bank           0.999997       0.0963408     -9.997e-9        0.00128176    -8.3712e-9    0.00622012\n",
       "Bank of Taiwan               1.0           21.5583        -9.99997e-9      0.585936      -9.99132e-9  -9.98696e-9\n",
       "Taipei Fubon Bank            0.614278       2.75815e5      0.00250125     -9.99319e-9    -8.8296e-9   -6.82675e-9\n",
       "Bank of Kaohsiung            0.48107    51656.5            0.000468985    -9.9893e-9     -7.79733e-9  -6.342e-9\n",
       "Land Bank                    0.830479       7.34806e5     -9.99997e-9      0.411265      -9.99132e-9  -9.98696e-9\n",
       "Cooperative Bank             0.671643       5.07406e5     -9.99997e-9      0.696759      -9.99132e-9  -9.98696e-9\n",
       "First Bank                   0.666708       3.67302e5     -9.99992e-9      0.557489      -9.97608e-9  -9.96408e-9\n",
       "Hua Nan Bank                 0.602187       2.93928e5     -9.99992e-9      0.593274      -9.97607e-9  -9.96407e-9\n",
       "Chang Hwa Bank               0.522761   98050.0           -9.99992e-9      0.574526      -9.97607e-9  -9.96406e-9\n",
       "Mega Bank                    0.855397       8.19368e5     -9.99992e-9      0.351226      -9.97623e-9  -9.96431e-9\n",
       "Cathay United Bank           0.43513        1.24863e5     -9.99992e-9      0.594218      -9.97606e-9  -9.96406e-9\n",
       "The Shanghai Bank            0.754879   81707.1           -9.99997e-9      0.168634      -9.99132e-9  -9.98696e-9\n",
       "Union Bank                   0.208514      -8.98305e-9   276.759         997.649         -6.52788e-9   0.181184\n",
       "Far Eastern Bank             0.999999       0.184381       0.000507709    -9.98914e-9    -7.72581e-9  -6.16908e-9\n",
       "E. Sun Bank                  0.57754   147698.0           -9.99992e-9      0.389421      -9.97612e-9  -9.96415e-9\n",
       "Cosmos Bank                  0.195268      -9.61706e-9   353.102        1744.22        2252.25         0.0652588\n",
       "Taishin Bank                 0.343468      -8.98305e-9   302.231        2298.46          -6.52788e-9   0.373605\n",
       "Ta Chong Bank                0.656777   44047.3         1025.15           -9.98916e-9    -7.7254e-9   -6.17099e-9\n",
       "Jih Sun Bank                 0.27645       -9.41489e-9    51.3214        420.235         -7.53048e-9   0.0970742\n",
       "Entie Bank                   0.631489       1.32106e5    741.33           -9.98914e-9    -7.7258e-9   -6.16909e-9\n",
       "China Trust Bank             0.41696       35.0018        -9.99992e-9   5385.75          -9.9761e-9   -9.96411e-9\n",
       "Sunny Bank                   0.249083      -8.94444e-9    34.9085       2403.54        2195.89         0.112181\n",
       "Bank of Panhsin              0.228758      -8.94443e-9    54.1823       2163.85        3808.56         0.0787224\n",
       "Taiwan Business Bank         0.544561  240297.0           -9.99992e-9      0.438262      -9.97614e-9  -9.96418e-9\n",
       "Taichung Bank                0.477897       1.00311e5    335.328          -9.98924e-9    -7.75546e-9  -6.25677e-9\n",
       "China Development            0.999999       0.0902798     -9.997e-9        0.00145327    -8.3712e-9    0.0176889\n",
       "Hwatai Bank                  0.328527   13222.9          108.439          -9.99227e-9   467.452        0.0378672\n",
       "Cota Bank                    0.475605   36459.2          433.56           -9.99764e-9    -9.51573e-9  -9.55487e-9\n",
       "Industrial Bank of Taiwan    0.947522       0.695759      -9.99992e-9    856.678         -9.97606e-9  -9.96405e-9\n",
       "Bank SinoPac                 0.647851       2.46382e5      0.00176082     -9.98914e-9    -7.7258e-9   -6.16908e-9\n",
       "Shin Kong Bank               0.287427   34280.4          119.439          -9.99606e-9    -9.17497e-9  -8.61023e-9\n",
       "─────────────────────────────────────────────────────────────────────────────────────────────────────────────────"
      ]
     },
     "execution_count": 24,
     "metadata": {},
     "output_type": "execute_result"
    }
   ],
   "source": [
    "deagdf(X, Y, alpha = 0.5, rts = :CRS, names = banks)"
   ]
  },
  {
   "cell_type": "code",
   "execution_count": 25,
   "metadata": {},
   "outputs": [
    {
     "data": {
      "text/plain": [
       "Generalized DF DEA Model \n",
       "DMUs = 31; Inputs = 3; Outputs = 2\n",
       "alpha = 0.5; Returns to Scale = VRS\n",
       "──────────────────────────────────────────────────────────────────────────────────────────────────────────────────\n",
       "                           efficiency         slackX1         slackX2        slackX3         slackY1       slackY2\n",
       "──────────────────────────────────────────────────────────────────────────────────────────────────────────────────\n",
       "Export-Import Bank           0.999999     -7.06512e-9     0.000166836     0.00128651      0.0080689   -7.38061e-9\n",
       "Bank of Taiwan               1.0           0.130379      -9.96657e-9      0.00862377     -6.06987e-9  -8.3297e-11\n",
       "Taipei Fubon Bank            1.0           0.242837       0.00402907     -9.99152e-9     -9.85056e-9  -8.93276e-9\n",
       "Bank of Kaohsiung            0.700667     -6.90948e-9   154.782          -9.91863e-9   5868.52        -8.11283e-9\n",
       "Land Bank                    1.0           0.022368      -9.8476e-9       0.00134814      0.053665     1.37392e-8\n",
       "Cooperative Bank             1.0           0.0546115      0.000574522     0.00397375      1.86786e-7   4.18152e-9\n",
       "First Bank                   1.0           0.0152309     -9.8476e-9       0.00128946      0.0533155    1.08222e-8\n",
       "Hua Nan Bank                 0.946148      3.85855e-9   725.642        3395.07            0.16277     -6.46711e-10\n",
       "Chang Hwa Bank               0.938701      4.27559e-9  1792.83         8388.97            0.136211    -4.82348e-10\n",
       "Mega Bank                    1.0           0.0508866     -8.8495e-9      -9.53163e-9      0.0284624    5.6754e-9\n",
       "Cathay United Bank           0.716689     -7.06508e-9  1286.69         7636.21            0.237517    -7.3806e-9\n",
       "The Shanghai Bank            0.894588      0.0803865      1.35992e-9   1903.98            2.24145e-6   4.01436e-6\n",
       "Union Bank                   0.556532     -7.06517e-9  1424.16         3127.33         8564.12        -7.38068e-9\n",
       "Far Eastern Bank             1.0           3.92916e-9     6.26188e-5      0.00145004      0.016269    -5.97358e-10\n",
       "E. Sun Bank                  0.85951      -2.09332e-9    -9.76026e-9    886.053          -8.8937e-9    0.134452\n",
       "Cosmos Bank                  0.354387     -7.06539e-9   678.697        2673.51         5257.95        -7.38088e-9\n",
       "Taishin Bank                 0.831188     -7.06511e-9  2827.9          8192.87            0.123453    -7.38062e-9\n",
       "Ta Chong Bank                0.869459     -6.90969e-9  1613.28           -9.91863e-9      0.0635361   -8.11291e-9\n",
       "Jih Sun Bank                 0.566591     -7.06533e-9   518.357        1436.57            0.043103    -7.38081e-9\n",
       "Entie Bank                   0.825885  76494.5         1041.85           -9.98084e-9   5513.79        -8.18553e-9\n",
       "China Trust Bank             1.0           1.79695e-9     0.00416882      0.0178776      -8.26568e-9   0.116418\n",
       "Sunny Bank                   0.659845     -7.06531e-9   802.467        5101.1         14520.9         -7.3808e-9\n",
       "Bank of Panhsin              0.507625     -7.0654e-9    468.851        3842.35         9413.09        -7.38089e-9\n",
       "Taiwan Business Bank         0.967551     -7.06525e-9  1537.43         1587.57            0.157385    -7.38049e-9\n",
       "Taichung Bank                0.752598     -6.90949e-9   625.591          -9.91863e-9  34121.2         -8.11283e-9\n",
       "China Development            1.0          -6.20746e-9    -9.85073e-9      0.00157046      0.01279     -6.85753e-9\n",
       "Hwatai Bank                  0.496978     -7.06569e-9   251.228          69.0713       4781.49        -7.38112e-9\n",
       "Cota Bank                    0.565756  16949.5          485.992          -9.98543e-9   6884.22        -8.5985e-9\n",
       "Industrial Bank of Taiwan    0.999997      0.936817      -9.99925e-9      0.0431671      -9.76106e-9   0.0146659\n",
       "Bank SinoPac                 0.896737     -6.91703e-9   976.215          -9.91868e-9      0.168696    -8.11588e-9\n",
       "Shin Kong Bank               0.725546     -7.06514e-9  1444.03         1425.81        24594.6         -7.38065e-9\n",
       "──────────────────────────────────────────────────────────────────────────────────────────────────────────────────"
      ]
     },
     "execution_count": 25,
     "metadata": {},
     "output_type": "execute_result"
    }
   ],
   "source": [
    "deagdf(X, Y, alpha = 0.5, rts = :VRS, names = banks)"
   ]
  },
  {
   "cell_type": "markdown",
   "metadata": {},
   "source": [
    "# 5. Measuring and decomposing cost and revenue efficiency"
   ]
  },
  {
   "cell_type": "markdown",
   "metadata": {},
   "source": [
    "## 5.1. Multiplicative models based on the radial input-oriented and output-oriented measures"
   ]
  },
  {
   "cell_type": "markdown",
   "metadata": {},
   "source": [
    "### Cost efficiency"
   ]
  },
  {
   "cell_type": "code",
   "execution_count": 28,
   "metadata": {},
   "outputs": [
    {
     "data": {
      "text/plain": [
       "Cost DEA Model \n",
       "DMUs = 31; Inputs = 3; Outputs = 2\n",
       "Orientation = Input; Returns to Scale = VRS\n",
       "──────────────────────────────────────────────────────────\n",
       "                               Cost  Technical  Allocative\n",
       "──────────────────────────────────────────────────────────\n",
       "Export-Import Bank         1.0        1.0         1.0\n",
       "Bank of Taiwan             1.0        1.0         1.0\n",
       "Taipei Fubon Bank          0.9216     1.0         0.9216\n",
       "Bank of Kaohsiung          0.597026   0.647333    0.922285\n",
       "Land Bank                  1.0        1.0         1.0\n",
       "Cooperative Bank           0.960035   1.0         0.960035\n",
       "First Bank                 0.989871   1.0         0.989871\n",
       "Hua Nan Bank               0.81141    0.943612    0.859898\n",
       "Chang Hwa Bank             0.70393    0.935063    0.752816\n",
       "Mega Bank                  1.0        1.0         1.0\n",
       "Cathay United Bank         0.543989   0.709586    0.766629\n",
       "The Shanghai Bank          0.787542   0.886617    0.888255\n",
       "Union Bank                 0.31538    0.499034    0.631981\n",
       "Far Eastern Bank           1.0        1.0         1.0\n",
       "E. Sun Bank                0.778897   0.842322    0.924703\n",
       "Cosmos Bank                0.127372   0.228009    0.558627\n",
       "Taishin Bank               0.46743    0.82375     0.567442\n",
       "Ta Chong Bank              0.641286   0.856432    0.748788\n",
       "Jih Sun Bank               0.324345   0.481795    0.673202\n",
       "Entie Bank                 0.539321   0.810722    0.665236\n",
       "China Trust Bank           0.744039   1.0         0.744039\n",
       "Sunny Bank                 0.388004   0.600932    0.64567\n",
       "Bank of Panhsin            0.24951    0.373427    0.668163\n",
       "Taiwan Business Bank       0.805515   0.966564    0.83338\n",
       "Taichung Bank              0.60993    0.725314    0.840918\n",
       "China Development          1.0        1.0         1.0\n",
       "Hwatai Bank                0.301393   0.346335    0.870235\n",
       "Cota Bank                  0.282291   0.487503    0.579054\n",
       "Industrial Bank of Taiwan  0.645693   1.0         0.645693\n",
       "Bank SinoPac               0.789264   0.893178    0.883659\n",
       "Shin Kong Bank             0.512079   0.702444    0.728997\n",
       "──────────────────────────────────────────────────────────"
      ]
     },
     "execution_count": 28,
     "metadata": {},
     "output_type": "execute_result"
    }
   ],
   "source": [
    "deacost(X, Y, W, names = banks)"
   ]
  },
  {
   "cell_type": "code",
   "execution_count": 29,
   "metadata": {},
   "outputs": [
    {
     "data": {
      "text/plain": [
       "Radial DEA Model \n",
       "DMUs = 31; Inputs = 3; Outputs = 2\n",
       "Orientation = Input; Returns to Scale = VRS\n",
       "───────────────────────────────────────────────────────────────────────────────────────────────────────────────────\n",
       "                           efficiency          slackX1    slackX2         slackX3          slackY1          slackY2\n",
       "───────────────────────────────────────────────────────────────────────────────────────────────────────────────────\n",
       "Export-Import Bank           1.0           0.0             0.0        0.0             -2.19254e-11      0.0\n",
       "Bank of Taiwan               1.0          -1.52296e-10     0.0       -1.45519e-11      0.0              0.0\n",
       "Taipei Fubon Bank            1.0           0.0             0.0        0.0              0.0              0.0\n",
       "Bank of Kaohsiung            0.647333      0.0            90.5226     0.0           4418.74             0.0\n",
       "Land Bank                    1.0           0.0             0.0        0.0              0.0              0.0\n",
       "Cooperative Bank             1.0           0.0             0.0        0.0              0.0              0.0\n",
       "First Bank                   1.0           7.50579e-12     0.0        6.87668e-14      0.0              0.0\n",
       "Hua Nan Bank                 0.943612      0.0           711.453   3445.97             1.37766e-10      0.0\n",
       "Chang Hwa Bank               0.935063      0.0          1740.64    8277.05            -2.5904e-10       0.0\n",
       "Mega Bank                    1.0           0.0             0.0        0.0              0.0              0.0\n",
       "Cathay United Bank           0.709586      0.0          1050.31    6377.92             1.16415e-10      0.0\n",
       "The Shanghai Bank            0.886617     -6.72967e-11     0.0     1876.18             0.0              0.0\n",
       "Union Bank                   0.499034      0.0           910.954   2025.45          4312.27             0.0\n",
       "Far Eastern Bank             1.0           0.0             0.0        0.0              0.0              0.0\n",
       "E. Sun Bank                  0.842322     -2.42416e-10     0.0     2448.45             0.0              0.0\n",
       "Cosmos Bank                  0.228009      0.0           182.196    899.993         1444.0          11774.0\n",
       "Taishin Bank                 0.82375       0.0          2534.15    7394.35             3.31158e-10      0.0\n",
       "Ta Chong Bank                0.856432      0.0          1464.32       0.0             -1.45519e-11      0.0\n",
       "Jih Sun Bank                 0.481795      0.0           267.12     871.705           -9.02088e-12      0.0\n",
       "Entie Bank                   0.810722  72067.1           927.784      0.0           3251.96             0.0\n",
       "China Trust Bank             1.0           0.0             0.0        6.47274e-12      0.0              2.22742e-10\n",
       "Sunny Bank                   0.600932      0.0           560.858   3721.41         10260.9              0.0\n",
       "Bank of Panhsin              0.373427      0.0           185.765   1918.23          4355.82             0.0\n",
       "Taiwan Business Bank         0.966564      0.0          1507.77    1557.5             -5.61485e-11      0.0\n",
       "Taichung Bank                0.725314      0.0           501.938      0.0          28836.1              0.0\n",
       "China Development            1.0           0.0             0.0        0.0              0.0              0.0\n",
       "Hwatai Bank                  0.346335   2910.03           67.7067     0.0           1896.62             0.0\n",
       "Cota Bank                    0.487503  23463.3           309.625      0.0            399.475            0.0\n",
       "Industrial Bank of Taiwan    1.0           0.0             0.0        0.0              0.0              0.0\n",
       "Bank SinoPac                 0.893178      0.0           909.108      0.0             -2.76486e-10      0.0\n",
       "Shin Kong Bank               0.702444      0.0          1168.75    1140.58         19737.6              0.0\n",
       "───────────────────────────────────────────────────────────────────────────────────────────────────────────────────"
      ]
     },
     "execution_count": 29,
     "metadata": {},
     "output_type": "execute_result"
    }
   ],
   "source": [
    "dea(X, Y, orient = :Input, rts = :VRS, names = banks)"
   ]
  },
  {
   "cell_type": "markdown",
   "metadata": {},
   "source": [
    "### Revenue efficiency"
   ]
  },
  {
   "cell_type": "code",
   "execution_count": 30,
   "metadata": {},
   "outputs": [
    {
     "data": {
      "text/plain": [
       "Revenue DEA Model \n",
       "DMUs = 31; Inputs = 3; Outputs = 2\n",
       "Orientation = Output; Returns to Scale = VRS\n",
       "──────────────────────────────────────────────────────────\n",
       "                            Revenue  Technical  Allocative\n",
       "──────────────────────────────────────────────────────────\n",
       "Export-Import Bank         1.0        1.0         1.0\n",
       "Bank of Taiwan             1.0        1.0         1.0\n",
       "Taipei Fubon Bank          0.919161   1.0         0.919161\n",
       "Bank of Kaohsiung          0.507508   0.734302    0.691143\n",
       "Land Bank                  1.0        1.0         1.0\n",
       "Cooperative Bank           1.0        1.0         1.0\n",
       "First Bank                 0.964614   1.0         0.964614\n",
       "Hua Nan Bank               0.944698   0.948404    0.996092\n",
       "Chang Hwa Bank             0.927525   0.941856    0.984784\n",
       "Mega Bank                  1.0        1.0         1.0\n",
       "Cathay United Bank         0.571303   0.722436    0.7908\n",
       "The Shanghai Bank          0.836444   0.901161    0.928185\n",
       "Union Bank                 0.10421    0.591508    0.176177\n",
       "Far Eastern Bank           0.994577   1.0         0.994577\n",
       "E. Sun Bank                0.859386   0.890725    0.964816\n",
       "Cosmos Bank                0.128185   0.445612    0.287661\n",
       "Taishin Bank               0.822503   0.837442    0.98216\n",
       "Ta Chong Bank              0.860808   0.879642    0.978589\n",
       "Jih Sun Bank               0.450279   0.61412     0.733211\n",
       "Entie Bank                 0.682186   0.837702    0.814353\n",
       "China Trust Bank           0.947473   1.0         0.947473\n",
       "Sunny Bank                 0.443116   0.696269    0.636415\n",
       "Bank of Panhsin            0.350426   0.572813    0.611762\n",
       "Taiwan Business Bank       0.9511     0.968467    0.982068\n",
       "Taichung Bank              0.72383    0.772226    0.937329\n",
       "China Development          0.897719   1.0         0.897719\n",
       "Hwatai Bank                0.567062   0.577592    0.98177\n",
       "Cota Bank                  0.402459   0.610492    0.659236\n",
       "Industrial Bank of Taiwan  0.784708   1.0         0.784708\n",
       "Bank SinoPac               0.896409   0.899896    0.996125\n",
       "Shin Kong Bank             0.299121   0.74257     0.402818\n",
       "──────────────────────────────────────────────────────────"
      ]
     },
     "execution_count": 30,
     "metadata": {},
     "output_type": "execute_result"
    }
   ],
   "source": [
    "dearevenue(X, Y, P, names = banks)"
   ]
  },
  {
   "cell_type": "code",
   "execution_count": 31,
   "metadata": {},
   "outputs": [
    {
     "data": {
      "text/plain": [
       "Radial DEA Model \n",
       "DMUs = 31; Inputs = 3; Outputs = 2\n",
       "Orientation = Output; Returns to Scale = VRS\n",
       "────────────────────────────────────────────────────────────────────────────────────────────────────────────────\n",
       "                           efficiency          slackX1         slackX2         slackX3          slackY1  slackY2\n",
       "────────────────────────────────────────────────────────────────────────────────────────────────────────────────\n",
       "Export-Import Bank            1.0          0.0             0.0             0.0             -9.10433e-12      0.0\n",
       "Bank of Taiwan                1.0         -1.0835e-9       0.0            -4.36557e-11      0.0              0.0\n",
       "Taipei Fubon Bank             1.0          1.28176e-9      1.52105e-11     0.0              0.0              0.0\n",
       "Bank of Kaohsiung             1.36184      0.0           209.97            0.0           7113.67             0.0\n",
       "Land Bank                     1.0          0.0             0.0             0.0              0.0              0.0\n",
       "Cooperative Bank              1.0          0.0             0.0             0.0              0.0              0.0\n",
       "First Bank                    1.0          7.50579e-12     0.0             6.87668e-14      0.0              0.0\n",
       "Hua Nan Bank                  1.0544       0.0           738.959        3347.3              3.38846e-10      0.0\n",
       "Chang Hwa Bank                1.06173      0.0          1840.9          8492.05            -6.10987e-10      0.0\n",
       "Mega Bank                     1.0          0.0             0.0             0.0              0.0              0.0\n",
       "Cathay United Bank            1.3842       0.0          1551.42         9045.47            -2.03727e-10      0.0\n",
       "The Shanghai Bank             1.10968      1.61713e-10     0.0          1929.4              0.0              0.0\n",
       "Union Bank                    1.69059      0.0          1951.94         4260.49         12936.6              0.0\n",
       "Far Eastern Bank              1.0          0.0             0.0             0.0              0.0              0.0\n",
       "E. Sun Bank                   1.12268      0.0           337.542           0.0              0.0          13700.0\n",
       "Cosmos Bank                   2.24411      0.0          1225.75         4627.61          9770.79             0.0\n",
       "Taishin Bank                  1.19411      0.0          3122.84         8994.65             1.97986e-9       0.0\n",
       "Ta Chong Bank                 1.13683      0.0          1745.66            0.0             -8.73115e-11      0.0\n",
       "Jih Sun Bank                  1.62835      0.0           747.663        1952.13             1.05501e-10      0.0\n",
       "Entie Bank                    1.19374  80613.5          1147.95            0.0           7617.63             0.0\n",
       "China Trust Bank              1.0          0.0             0.0             0.0              0.0              0.0\n",
       "Sunny Bank                    1.43623      0.0          1017.0          6326.2          18303.6              0.0\n",
       "Bank of Panhsin               1.74577      0.0           708.912        5474.03         13701.7              0.0\n",
       "Taiwan Business Bank          1.03256      0.0          1565.83         1616.36            -3.68927e-10      0.0\n",
       "Taichung Bank                 1.29496      0.0           740.78            0.0          39044.5              0.0\n",
       "China Development             1.0          0.0             0.0             0.0              0.0              0.0\n",
       "Hwatai Bank                   1.73133      0.0           409.11          182.083         7638.98             0.0\n",
       "Cota Bank                     1.63802  10850.5           651.144           0.0          12956.4              0.0\n",
       "Industrial Bank of Taiwan     1.0          0.0             0.0             0.0              0.0              0.0\n",
       "Bank SinoPac                  1.11124      0.0          1042.39            0.0             -3.0483e-10       0.0\n",
       "Shin Kong Bank                1.34667      0.0          1717.21         1708.86         29414.5              0.0\n",
       "────────────────────────────────────────────────────────────────────────────────────────────────────────────────"
      ]
     },
     "execution_count": 31,
     "metadata": {},
     "output_type": "execute_result"
    }
   ],
   "source": [
    "dea(X, Y, orient = :Output, rts = :VRS, names = banks)"
   ]
  },
  {
   "cell_type": "markdown",
   "metadata": {},
   "source": [
    "## 5.2. Additive models based on inefficiency measures"
   ]
  },
  {
   "cell_type": "markdown",
   "metadata": {},
   "source": [
    "### The Russell inefficiency measure"
   ]
  },
  {
   "cell_type": "code",
   "execution_count": 32,
   "metadata": {},
   "outputs": [
    {
     "data": {
      "text/plain": [
       "Russell Cost DEA Model \n",
       "DMUs = 31; Inputs = 3; Outputs = 2\n",
       "Orientation = Input; Returns to Scale = VRS\n",
       "────────────────────────────────────────────────────────────────\n",
       "                                   Cost  Technical    Allocative\n",
       "────────────────────────────────────────────────────────────────\n",
       "Export-Import Bank         -9.16829e-16   0.0       -9.16829e-16\n",
       "Bank of Taiwan             -1.56276e-14   0.0       -1.56276e-14\n",
       "Taipei Fubon Bank           0.084176      0.0        0.084176\n",
       "Bank of Kaohsiung           0.687483      0.387981   0.299501\n",
       "Land Bank                   5.53221e-16   0.0        5.53221e-16\n",
       "Cooperative Bank            0.0792926     0.0        0.0792926\n",
       "First Bank                  0.0157307     0.0        0.0157307\n",
       "Hua Nan Bank                0.287933      0.207607   0.0803257\n",
       "Chang Hwa Bank              0.464024      0.31642    0.147603\n",
       "Mega Bank                  -5.46585e-15   0.0       -5.46585e-15\n",
       "Cathay United Bank          0.490611      0.44973    0.0408809\n",
       "The Shanghai Bank           0.286489      0.256019   0.0304702\n",
       "Union Bank                  0.748492      0.686893   0.0615991\n",
       "Far Eastern Bank           -5.57032e-16   0.0       -5.57032e-16\n",
       "E. Sun Bank                 0.240469      0.217258   0.0232105\n",
       "Cosmos Bank                 1.40783       0.856719   0.551109\n",
       "Taishin Bank                0.767689      0.480661   0.287028\n",
       "Ta Chong Bank               0.439395      0.313858   0.125537\n",
       "Jih Sun Bank                0.889635      0.65638    0.233254\n",
       "Entie Bank                  0.654316      0.428805   0.225511\n",
       "China Trust Bank            0.396267      0.0        0.396267\n",
       "Sunny Bank                  0.962165      0.639589   0.322576\n",
       "Bank of Panhsin             0.960141      0.76155    0.198591\n",
       "Taiwan Business Bank        0.350844      0.193199   0.157646\n",
       "Taichung Bank               0.553636      0.37001    0.183626\n",
       "China Development           0.0           0.0        0.0\n",
       "Hwatai Bank                 1.04664       0.689211   0.357431\n",
       "Cota Bank                   1.20371       0.680199   0.523514\n",
       "Industrial Bank of Taiwan   0.475617      0.0        0.475617\n",
       "Bank SinoPac                0.279735      0.1944     0.0853348\n",
       "Shin Kong Bank              0.532691      0.474766   0.0579251\n",
       "────────────────────────────────────────────────────────────────"
      ]
     },
     "execution_count": 32,
     "metadata": {},
     "output_type": "execute_result"
    }
   ],
   "source": [
    "deacostrussell(X, Y, W, names = banks)"
   ]
  },
  {
   "cell_type": "code",
   "execution_count": 33,
   "metadata": {},
   "outputs": [
    {
     "data": {
      "text/plain": [
       "Russell Revenue DEA Model \n",
       "DMUs = 31; Inputs = 3; Outputs = 2\n",
       "Orientation = Output; Returns to Scale = VRS\n",
       "─────────────────────────────────────────────────────────────\n",
       "                              Revenue  Technical   Allocative\n",
       "─────────────────────────────────────────────────────────────\n",
       "Export-Import Bank          0.0         0.0       0.0\n",
       "Bank of Taiwan              0.0         0.0       0.0\n",
       "Taipei Fubon Bank           0.164297    0.0       0.164297\n",
       "Bank of Kaohsiung           3.53388     3.53223   0.0016523\n",
       "Land Bank                   0.0         0.0       0.0\n",
       "Cooperative Bank            0.0         0.0       0.0\n",
       "First Bank                  0.0990394   0.0       0.0990394\n",
       "Hua Nan Bank                0.139932    0.139545  0.000386895\n",
       "Chang Hwa Bank              0.219293    0.195248  0.0240449\n",
       "Mega Bank                   0.0         0.0       0.0\n",
       "Cathay United Bank          1.10549     1.05484   0.05065\n",
       "The Shanghai Bank           0.420213    0.124158  0.296056\n",
       "Union Bank                  8.86893     8.86595   0.00297988\n",
       "Far Eastern Bank            0.0105232   0.0       0.0105232\n",
       "E. Sun Bank                 0.253296    0.1467    0.106596\n",
       "Cosmos Bank                41.7209     40.0773    1.64366\n",
       "Taishin Bank                0.451033    0.411438  0.0395949\n",
       "Ta Chong Bank               0.446192    0.436083  0.0101091\n",
       "Jih Sun Bank                3.07023     2.9738    0.0964308\n",
       "Entie Bank                  2.49051     2.27007   0.220438\n",
       "China Trust Bank            0.100147    0.0       0.100147\n",
       "Sunny Bank                 16.735      15.2579    1.47714\n",
       "Bank of Panhsin            35.3701     34.3048    1.06533\n",
       "Taiwan Business Bank        0.239508    0.204755  0.0347524\n",
       "Taichung Bank               7.1944      6.93709   0.257312\n",
       "China Development           0.145367    0.0       0.145367\n",
       "Hwatai Bank                29.0629     20.8455    8.21737\n",
       "Cota Bank                  13.779      12.0385    1.74048\n",
       "Industrial Bank of Taiwan   0.605975    0.0       0.605975\n",
       "Bank SinoPac                0.225709    0.155268  0.0704405\n",
       "Shin Kong Bank              8.14648     7.42645   0.720031\n",
       "─────────────────────────────────────────────────────────────"
      ]
     },
     "execution_count": 33,
     "metadata": {},
     "output_type": "execute_result"
    }
   ],
   "source": [
    "dearevenuerussell(X, Y, P, names = banks)"
   ]
  },
  {
   "cell_type": "code",
   "execution_count": 34,
   "metadata": {},
   "outputs": [
    {
     "data": {
      "text/plain": [
       "Russell DEA Model \n",
       "DMUs = 31; Inputs = 3; Outputs = 2\n",
       "Orientation = Input; Returns to Scale = VRS\n",
       "──────────────────────────────────────────────────────────────────────────────────────────────\n",
       "                           efficiency     effX1     effX2      effX3          slackY1  slackY2\n",
       "──────────────────────────────────────────────────────────────────────────────────────────────\n",
       "Export-Import Bank           1.0       1.0       1.0       1.0           -9.10433e-12      0.0\n",
       "Bank of Taiwan               1.0       1.0       1.0       1.0            0.0              0.0\n",
       "Taipei Fubon Bank            1.0       1.0       1.0       1.0            0.0              0.0\n",
       "Bank of Kaohsiung            0.612019  0.668261  0.563576  0.604219    8535.19             0.0\n",
       "Land Bank                    1.0       1.0       1.0       1.0            0.0              0.0\n",
       "Cooperative Bank             1.0       1.0       1.0       1.0            0.0              0.0\n",
       "First Bank                   1.0       1.0       1.0       1.0            0.0              0.0\n",
       "Hua Nan Bank                 0.792393  0.960964  0.776304  0.639911       0.0              0.0\n",
       "Chang Hwa Bank               0.68358   0.974689  0.612128  0.463923       1.96451e-10      0.0\n",
       "Mega Bank                    1.0       1.0       1.0       1.0            0.0              0.0\n",
       "Cathay United Bank           0.55027   0.724674  0.5145    0.411636       5.82077e-11      0.0\n",
       "The Shanghai Bank            0.743981  0.844629  0.959693  0.427623       0.0              0.0\n",
       "Union Bank                   0.313107  0.499034  0.19283   0.247457    4312.27             0.0\n",
       "Far Eastern Bank             1.0       1.0       1.0       1.0            0.0              0.0\n",
       "E. Sun Bank                  0.782742  0.839177  0.851273  0.657774       0.0              0.0\n",
       "Cosmos Bank                  0.143281  0.228009  0.119881  0.0819539   1444.0          11774.0\n",
       "Taishin Bank                 0.519339  0.861753  0.360764  0.335501       0.0              0.0\n",
       "Ta Chong Bank                0.686142  0.866762  0.394227  0.797436      -5.52973e-10      0.0\n",
       "Jih Sun Bank                 0.34362   0.498615  0.277332  0.254913       3.93907e-11      0.0\n",
       "Entie Bank                   0.571195  0.569153  0.333711  0.810722    3251.96             0.0\n",
       "China Trust Bank             1.0       1.0       1.0       1.0            0.0              0.0\n",
       "Sunny Bank                   0.360411  0.600932  0.287598  0.192703   10260.9              0.0\n",
       "Bank of Panhsin              0.23845   0.373427  0.227156  0.114766    4355.82             0.0\n",
       "Taiwan Business Bank         0.806801  0.98184   0.645099  0.793466       2.91038e-11      0.0\n",
       "Taichung Bank                0.62999   0.740699  0.460186  0.689087   33850.5              0.0\n",
       "China Development            1.0       1.0       1.0       1.0            0.0              0.0\n",
       "Hwatai Bank                  0.310789  0.318793  0.267238  0.346335    1896.62             0.0\n",
       "Cota Bank                    0.319801  0.27162   0.20028   0.487503     399.475            0.0\n",
       "Industrial Bank of Taiwan    1.0       1.0       1.0       1.0            0.0              0.0\n",
       "Bank SinoPac                 0.8056    0.905783  0.665555  0.845461       0.0              0.0\n",
       "Shin Kong Bank               0.525234  0.702444  0.330941  0.542317   19737.6              0.0\n",
       "──────────────────────────────────────────────────────────────────────────────────────────────"
      ]
     },
     "execution_count": 34,
     "metadata": {},
     "output_type": "execute_result"
    }
   ],
   "source": [
    "dearussell(X, Y, orient = :Input, rts  = :VRS, names = banks)"
   ]
  },
  {
   "cell_type": "code",
   "execution_count": 35,
   "metadata": {},
   "outputs": [
    {
     "data": {
      "text/plain": [
       "Russell DEA Model \n",
       "DMUs = 31; Inputs = 3; Outputs = 2\n",
       "Orientation = Output; Returns to Scale = VRS\n",
       "─────────────────────────────────────────────────────────────────────────────────────────────────────\n",
       "                           efficiency     effY1    effY2          slackX1     slackX2         slackX3\n",
       "─────────────────────────────────────────────────────────────────────────────────────────────────────\n",
       "Export-Import Bank            1.0       1.0      1.0          0.0             0.0         0.0\n",
       "Bank of Taiwan                1.0       1.0      1.0         -1.52296e-10     0.0        -1.45519e-11\n",
       "Taipei Fubon Bank             1.0       1.0      1.0          0.0             0.0         0.0\n",
       "Bank of Kaohsiung             4.53223   8.06446  1.0        147.515           0.0        -1.47978e-12\n",
       "Land Bank                     1.0       1.0      1.0          0.0             0.0         0.0\n",
       "Cooperative Bank              1.0       1.0      1.0          0.0             0.0         0.0\n",
       "First Bank                    1.0       1.0      1.0          7.50579e-12     0.0         6.87668e-14\n",
       "Hua Nan Bank                  1.13955   1.27909  1.0          0.0           131.29     2231.66\n",
       "Chang Hwa Bank                1.19525   1.3905   1.0          0.0          1259.24     7424.17\n",
       "Mega Bank                     1.0       1.0      1.0          0.0             0.0         0.0\n",
       "Cathay United Bank            2.05484   3.01315  1.09653      0.0             0.0        -7.42081e-12\n",
       "The Shanghai Bank             1.12416   1.20404  1.04427     -2.75352e-11     0.0        -1.49534e-12\n",
       "Union Bank                    9.86595  18.638    1.09384      0.0           929.797    5496.64\n",
       "Far Eastern Bank              1.0       1.0      1.0          0.0             0.0         0.0\n",
       "E. Sun Bank                   1.1467    1.0989   1.1945       0.0             7.34408  1933.84\n",
       "Cosmos Bank                  41.0773   80.8344   1.32013      0.0           897.865    4744.14\n",
       "Taishin Bank                  1.41144   1.82288  1.0          0.0          1538.65     4753.97\n",
       "Ta Chong Bank                 1.43608   1.87217  1.0          0.0          1303.46      107.085\n",
       "Jih Sun Bank                  3.9738    6.88395  1.06366      0.0           250.602    2376.33\n",
       "Entie Bank                    3.27007   5.54014  1.0      58873.3           401.014       0.0\n",
       "China Trust Bank              1.0       1.0      1.0          0.0             0.0         0.0\n",
       "Sunny Bank                   16.2579   31.5157   1.0          0.0           307.099    7218.24\n",
       "Bank of Panhsin              35.3048   69.5506   1.05892      0.0           255.601    5792.83\n",
       "Taiwan Business Bank          1.20476   1.40951  1.0          0.0          1276.98     1983.44\n",
       "Taichung Bank                 7.93709  14.8742   1.0          0.0             0.0        62.8159\n",
       "China Development             1.0       1.0      1.0          0.0             0.0         0.0\n",
       "Hwatai Bank                  21.8455   42.6773   1.0138       0.0            96.443     274.059\n",
       "Cota Bank                    13.0385   25.077    1.0      29993.2           504.414       0.0\n",
       "Industrial Bank of Taiwan     1.0       1.0      1.0          0.0             0.0         0.0\n",
       "Bank SinoPac                  1.15527   1.23663  1.0739       4.28115e-12   862.136       0.0\n",
       "Shin Kong Bank                8.42645  15.8529   1.0          0.0           636.774    3081.89\n",
       "─────────────────────────────────────────────────────────────────────────────────────────────────────"
      ]
     },
     "execution_count": 35,
     "metadata": {},
     "output_type": "execute_result"
    }
   ],
   "source": [
    "dearussell(X, Y, orient = :Output, rts  = :VRS, names = banks)"
   ]
  },
  {
   "cell_type": "markdown",
   "metadata": {},
   "source": [
    "### The Weighted Additive Distance Function"
   ]
  },
  {
   "cell_type": "code",
   "execution_count": 36,
   "metadata": {},
   "outputs": [
    {
     "data": {
      "text/plain": [
       "Cost Additive DEA Model \n",
       "DMUs = 31; Inputs = 3; Outputs = 2\n",
       "Orientation = Input; Returns to Scale = VRS\n",
       "Weights = MIP\n",
       "───────────────────────────────────────────────────────────────────\n",
       "                                   Cost     Technical    Allocative\n",
       "───────────────────────────────────────────────────────────────────\n",
       "Export-Import Bank         -2.75049e-15  -1.78195e-16  -2.57229e-15\n",
       "Bank of Taiwan             -4.68828e-14  -2.52669e-16  -4.66302e-14\n",
       "Taipei Fubon Bank           0.252528      0.0           0.252528\n",
       "Bank of Kaohsiung           2.06245       1.16394       0.898504\n",
       "Land Bank                   1.65966e-15   0.0           1.65966e-15\n",
       "Cooperative Bank            0.237878      0.0           0.237878\n",
       "First Bank                  0.047192      7.69353e-18   0.047192\n",
       "Hua Nan Bank                0.863798      0.622821      0.240977\n",
       "Chang Hwa Bank              1.39207       0.94926       0.44281\n",
       "Mega Bank                  -1.63976e-14   0.0          -1.63976e-14\n",
       "Cathay United Bank          1.47183       1.34919       0.122643\n",
       "The Shanghai Bank           0.859466      0.768056      0.0914105\n",
       "Union Bank                  2.24548       2.06068       0.184797\n",
       "Far Eastern Bank           -1.6711e-15    0.0          -1.6711e-15\n",
       "E. Sun Bank                 0.721406      0.651775      0.0696314\n",
       "Cosmos Bank                 4.22348       2.57016       1.65333\n",
       "Taishin Bank                2.30307       1.44198       0.861085\n",
       "Ta Chong Bank               1.31818       0.941575      0.37661\n",
       "Jih Sun Bank                2.6689        1.96914       0.699763\n",
       "Entie Bank                  1.96295       1.28641       0.676533\n",
       "China Trust Bank            1.1888        0.0           1.1888\n",
       "Sunny Bank                  2.8865        1.91877       0.967729\n",
       "Bank of Panhsin             2.88042       2.28465       0.595772\n",
       "Taiwan Business Bank        1.05253       0.579596      0.472937\n",
       "Taichung Bank               1.66091       1.11003       0.550879\n",
       "China Development           0.0           0.0           0.0\n",
       "Hwatai Bank                 3.13993       2.06763       1.07229\n",
       "Cota Bank                   3.61114       2.0406        1.57054\n",
       "Industrial Bank of Taiwan   1.42685       0.0           1.42685\n",
       "Bank SinoPac                0.839205      0.5832        0.256005\n",
       "Shin Kong Bank              1.59807       1.4243        0.173775\n",
       "───────────────────────────────────────────────────────────────────"
      ]
     },
     "execution_count": 36,
     "metadata": {},
     "output_type": "execute_result"
    }
   ],
   "source": [
    "deacostadd(X, Y, W, :MIP, names = banks)"
   ]
  },
  {
   "cell_type": "code",
   "execution_count": 37,
   "metadata": {},
   "outputs": [
    {
     "data": {
      "text/plain": [
       "Revenue Additive DEA Model \n",
       "DMUs = 31; Inputs = 3; Outputs = 2\n",
       "Orientation = Output; Returns to Scale = VRS\n",
       "Weights = MIP\n",
       "─────────────────────────────────────────────────────────────────\n",
       "                              Revenue     Technical    Allocative\n",
       "─────────────────────────────────────────────────────────────────\n",
       "Export-Import Bank          0.0        -2.91339e-15   2.91339e-15\n",
       "Bank of Taiwan              0.0         1.9367e-18   -1.9367e-18\n",
       "Taipei Fubon Bank           0.328594    0.0           0.328594\n",
       "Bank of Kaohsiung           7.06777     7.06446       0.00330459\n",
       "Land Bank                   0.0         0.0           0.0\n",
       "Cooperative Bank            0.0         0.0           0.0\n",
       "First Bank                  0.198079   -1.94126e-17   0.198079\n",
       "Hua Nan Bank                0.279865    0.279091      0.00077379\n",
       "Chang Hwa Bank              0.438585    0.390496      0.0480898\n",
       "Mega Bank                   0.0         0.0           0.0\n",
       "Cathay United Bank          2.21098     2.10968       0.1013\n",
       "The Shanghai Bank           0.840427    0.248315      0.592111\n",
       "Union Bank                 17.7379     17.7319        0.00595975\n",
       "Far Eastern Bank            0.0210463   0.0           0.0210463\n",
       "E. Sun Bank                 0.506591    0.2934        0.213192\n",
       "Cosmos Bank                83.4419     80.1546        3.28733\n",
       "Taishin Bank                0.902066    0.822877      0.0791898\n",
       "Ta Chong Bank               0.892384    0.872166      0.0202181\n",
       "Jih Sun Bank                6.14046     5.9476        0.192862\n",
       "Entie Bank                  4.98101     4.54014       0.440876\n",
       "China Trust Bank            0.200294    0.0           0.200294\n",
       "Sunny Bank                 33.47       30.5157        2.95428\n",
       "Bank of Panhsin            70.7402     68.6095        2.13065\n",
       "Taiwan Business Bank        0.479015    0.409511      0.0695048\n",
       "Taichung Bank              14.3888     13.8742        0.514625\n",
       "China Development           0.290735    0.0           0.290735\n",
       "Hwatai Bank                58.1258     41.6911       16.4347\n",
       "Cota Bank                  27.558      24.077         3.48097\n",
       "Industrial Bank of Taiwan   1.21195     0.0           1.21195\n",
       "Bank SinoPac                0.451418    0.310537      0.140881\n",
       "Shin Kong Bank             16.293      14.8529        1.44006\n",
       "─────────────────────────────────────────────────────────────────"
      ]
     },
     "execution_count": 37,
     "metadata": {},
     "output_type": "execute_result"
    }
   ],
   "source": [
    "dearevenueadd(X, Y, P, :MIP, names = banks)"
   ]
  },
  {
   "cell_type": "code",
   "execution_count": 38,
   "metadata": {},
   "outputs": [
    {
     "data": {
      "text/plain": [
       "Weighted Additive DEA Model \n",
       "DMUs = 31; Inputs = 3; Outputs = 2\n",
       "Orientation = Input; Returns to Scale = VRS\n",
       "Weights = Ones\n",
       "──────────────────────────────────────────────────────────────────────────────────────────────────────────────────\n",
       "                                 efficiency           slackX1         slackX2          slackX3    slackY1  slackY2\n",
       "──────────────────────────────────────────────────────────────────────────────────────────────────────────────────\n",
       "Export-Import Bank             -7.00546e-12      -6.93771e-12    -5.22354e-16     -6.72259e-14      0.0        0.0\n",
       "Bank of Taiwan                 -1.66848e-10      -1.52296e-10     0.0             -1.45519e-11      0.0        0.0\n",
       "Taipei Fubon Bank               0.0               0.0             0.0              0.0              0.0        0.0\n",
       "Bank of Kaohsiung           73051.5           72004.1           421.091          626.316            0.0        0.0\n",
       "Land Bank                       0.0               0.0             0.0              0.0              0.0        0.0\n",
       "Cooperative Bank                0.0               0.0             0.0              0.0              0.0        0.0\n",
       "First Bank                      7.57456e-12       7.50579e-12     0.0              6.87668e-14      0.0        0.0\n",
       "Hua Nan Bank                95904.2           89940.5          1113.27          4850.41             0.0        0.0\n",
       "Chang Hwa Bank              94302.3           82323.2          2158.05          9821.14             0.0        0.0\n",
       "Mega Bank                       0.0               0.0             0.0              0.0              0.0        0.0\n",
       "Cathay United Bank              4.08506e5         3.91975e5    2810.8          13721.0              0.0        0.0\n",
       "The Shanghai Bank               1.05604e5         1.00302e5       0.0           5302.15             0.0        0.0\n",
       "Union Bank                      1.56438e5         1.47978e5    2401.32          6058.72          4312.27       0.0\n",
       "Far Eastern Bank                0.0               0.0             0.0              0.0              0.0        0.0\n",
       "E. Sun Bank                     1.58284e5    153166.0           637.53          4480.27             0.0        0.0\n",
       "Cosmos Bank                 91849.0           84709.0          1483.0           5657.0           1444.0    11774.0\n",
       "Taishin Bank                    1.4483e5          1.30757e5    3633.25         10439.6              0.0        0.0\n",
       "Ta Chong Bank               53387.9           51315.5          1893.63           178.714            0.0        0.0\n",
       "Jih Sun Bank                98558.8           94431.5          1059.46          3067.86             0.0        0.0\n",
       "Entie Bank                 138251.0               1.36955e5    1272.58            23.5769           0.0        0.0\n",
       "China Trust Bank                0.0               0.0             0.0              0.0              0.0        0.0\n",
       "Sunny Bank                  93650.8           85016.3          1275.18          7359.32         10260.9        0.0\n",
       "Bank of Panhsin             97314.3           89767.9           981.518         6564.9           4355.82       0.0\n",
       "Taiwan Business Bank        38339.7           34632.6          1675.28          2031.78             0.0        0.0\n",
       "Taichung Bank                   1.04395e5    102849.0          1063.44           482.786        11421.3        0.0\n",
       "China Development               0.0               0.0             0.0              0.0              0.0        0.0\n",
       "Hwatai Bank                 74574.5           72876.4           630.42          1067.68           958.575      0.0\n",
       "Cota Bank                   81007.8           79585.7           863.207          558.923            0.0        0.0\n",
       "Industrial Bank of Taiwan       0.0               0.0             0.0              0.0              0.0        0.0\n",
       "Bank SinoPac                    1.17748e5         1.16446e5    1301.33             0.0              0.0        0.0\n",
       "Shin Kong Bank             133015.0               1.2765e5     2104.86          3260.07         19737.6        0.0\n",
       "──────────────────────────────────────────────────────────────────────────────────────────────────────────────────"
      ]
     },
     "execution_count": 38,
     "metadata": {},
     "output_type": "execute_result"
    }
   ],
   "source": [
    "deaadd(X, Y, orient = :Input, rts  = :VRS, names = banks)"
   ]
  },
  {
   "cell_type": "code",
   "execution_count": 39,
   "metadata": {},
   "outputs": [
    {
     "name": "stderr",
     "output_type": "stream",
     "text": [
      "┌ Warning: DMU 29 termination status: TIME_LIMIT. Primal status: INFEASIBLE_POINT. Dual status: NO_SOLUTION\n",
      "└ @ DataEnvelopmentAnalysis /Users/javierbarbero/.julia/packages/DataEnvelopmentAnalysis/CcljZ/src/deaadd.jl:217\n"
     ]
    },
    {
     "data": {
      "text/plain": [
       "Weighted Additive DEA Model \n",
       "DMUs = 31; Inputs = 3; Outputs = 2\n",
       "Orientation = Output; Returns to Scale = VRS\n",
       "Weights = Ones\n",
       "─────────────────────────────────────────────────────────────────────────────────────────────────────────────────────\n",
       "                                 efficiency   slackX1     slackX2         slackX3           slackY1           slackY2\n",
       "─────────────────────────────────────────────────────────────────────────────────────────────────────────────────────\n",
       "Export-Import Bank             -9.10433e-12      0.0      0.0         0.0              -9.10433e-12       0.0\n",
       "Bank of Taiwan                 -1.22974e-10      0.0      0.0        -8.96205e-12       0.0              -1.22974e-10\n",
       "Taipei Fubon Bank               0.0              0.0      0.0         0.0               0.0               0.0\n",
       "Bank of Kaohsiung               1.18743e5        0.0      0.0         0.0               1.14518e5      4224.91\n",
       "Land Bank                       0.0              0.0      0.0         0.0               0.0               0.0\n",
       "Cooperative Bank                0.0              0.0      0.0         0.0               0.0               0.0\n",
       "First Bank                     -1.21155e-11      0.0      0.0        -1.06718e-12       0.0              -1.21155e-11\n",
       "Hua Nan Bank                    1.09688e5        0.0    131.29     2231.66              1.09688e5         0.0\n",
       "Chang Hwa Bank                  1.00398e5        0.0   1259.24     7424.17              1.00398e5         0.0\n",
       "Mega Bank                       0.0              0.0      0.0         0.0               0.0               0.0\n",
       "Cathay United Bank              4.63488e5        0.0      0.0      6547.58              2.94729e5         1.68759e5\n",
       "The Shanghai Bank           72962.7              0.0      0.0      4171.97              0.0           72962.7\n",
       "Union Bank                      2.62495e5        0.0    929.797    5496.64              2.44552e5     17943.8\n",
       "Far Eastern Bank                0.0              0.0      0.0         0.0               0.0               0.0\n",
       "E. Sun Bank                     1.52596e5        0.0      7.34408  1933.84          35357.6          117238.0\n",
       "Cosmos Bank                     1.56682e5        0.0    897.865    4744.14              1.34202e5     22480.2\n",
       "Taishin Bank                    1.78772e5        0.0   2383.09     8110.25              1.56184e5     22588.3\n",
       "Ta Chong Bank               95791.7              0.0   1303.46      107.085         95791.7               0.0\n",
       "Jih Sun Bank               165312.0              0.0    250.602    2376.33              1.57043e5      8269.52\n",
       "Entie Bank                      1.43014e5    58873.3    401.014       0.0               1.43014e5         0.0\n",
       "China Trust Bank                0.0              0.0      0.0         0.0               0.0               0.0\n",
       "Sunny Bank                      1.68813e5        0.0    307.099    7218.24              1.68813e5         0.0\n",
       "Bank of Panhsin                 1.62076e5        0.0    255.601    5792.83         155747.0            6328.58\n",
       "Taiwan Business Bank        64649.4              0.0   1276.98     1983.44          64649.4               0.0\n",
       "Taichung Bank              201564.0              0.0      0.0        62.8159       201564.0               0.0\n",
       "China Development               0.0              0.0      0.0         0.0               0.0               0.0\n",
       "Hwatai Bank                     1.31302e5        0.0     96.443     274.059             1.30075e5      1226.78\n",
       "Cota Bank                       1.11122e5     1009.05   313.017       0.0           73852.3           37269.5\n",
       "Industrial Bank of Taiwan    5704.27         46566.8      0.0      2142.26              0.0            5704.27\n",
       "Bank SinoPac                    1.14963e5        0.0    862.136       0.0           63186.0           51777.0\n",
       "Shin Kong Bank                  2.58025e5        0.0    636.774    3081.89              2.58025e5         0.0\n",
       "─────────────────────────────────────────────────────────────────────────────────────────────────────────────────────"
      ]
     },
     "execution_count": 39,
     "metadata": {},
     "output_type": "execute_result"
    }
   ],
   "source": [
    "deaadd(X, Y, orient = :Output, rts  = :VRS, names = banks)"
   ]
  },
  {
   "cell_type": "markdown",
   "metadata": {},
   "source": [
    "### The Directional Distance Function"
   ]
  },
  {
   "cell_type": "code",
   "execution_count": 40,
   "metadata": {},
   "outputs": [
    {
     "data": {
      "text/plain": [
       "Cost DDF DEA Model \n",
       "DMUs = 31; Inputs = 3; Outputs = 2\n",
       "Orientation = Input; Returns to Scale = VRS\n",
       "Gx = Ones\n",
       "─────────────────────────────────────────────────────────────────────────\n",
       "                                     Cost       Technical      Allocative\n",
       "─────────────────────────────────────────────────────────────────────────\n",
       "Export-Import Bank           -1.72083e-13     0.0            -1.72083e-13\n",
       "Bank of Taiwan               -1.72929e-10    -3.29584e-13    -1.72599e-10\n",
       "Taipei Fubon Bank           966.275           0.0           966.275\n",
       "Bank of Kaohsiung           700.921         432.577         268.344\n",
       "Land Bank                     4.36743e-12     0.0             4.36743e-12\n",
       "Cooperative Bank            833.586           0.0           833.586\n",
       "First Bank                  144.041          -2.06159e-13   144.041\n",
       "Hua Nan Bank               2808.01         2297.68          510.328\n",
       "Chang Hwa Bank             3758.22         2660.23         1097.98\n",
       "Mega Bank                    -4.74366e-11     0.0            -4.74366e-11\n",
       "Cathay United Bank         6455.15         3035.53         3419.62\n",
       "The Shanghai Bank          1055.12          411.631         643.492\n",
       "Union Bank                 4619.48         2401.32         2218.16\n",
       "Far Eastern Bank             -1.87951e-12     0.0            -1.87951e-12\n",
       "E. Sun Bank                2400.99         1299.85         1101.13\n",
       "Cosmos Bank                2871.32         1483.0          1388.32\n",
       "Taishin Bank               6168.85         4175.93         1992.93\n",
       "Ta Chong Bank              1577.17          649.826         927.344\n",
       "Jih Sun Bank               2098.99         1135.03          963.957\n",
       "Entie Bank                 1528.99          400.135        1128.86\n",
       "China Trust Bank           4591.92            0.0          4591.92\n",
       "Sunny Bank                 2444.19         1275.18         1169.01\n",
       "Bank of Panhsin            2195.25          981.518        1213.74\n",
       "Taiwan Business Bank       1999.01         1799.61          199.402\n",
       "Taichung Bank              1308.39          989.979         318.413\n",
       "China Development             0.0             0.0             0.0\n",
       "Hwatai Bank                1104.85          630.42          474.43\n",
       "Cota Bank                  1197.78          570.409         627.372\n",
       "Industrial Bank of Taiwan   255.75            0.0           255.75\n",
       "Bank SinoPac               1763.43         1475.97          287.467\n",
       "Shin Kong Bank             2962.94         2104.86          858.077\n",
       "─────────────────────────────────────────────────────────────────────────"
      ]
     },
     "execution_count": 40,
     "metadata": {},
     "output_type": "execute_result"
    }
   ],
   "source": [
    "deacostddf(X, Y, W, Gx = :Ones, names = banks)"
   ]
  },
  {
   "cell_type": "code",
   "execution_count": 41,
   "metadata": {},
   "outputs": [
    {
     "name": "stderr",
     "output_type": "stream",
     "text": [
      "┌ Warning: DMU 29 termination status: TIME_LIMIT. Primal status: FEASIBLE_POINT. Dual status: NO_SOLUTION\n",
      "└ @ DataEnvelopmentAnalysis /Users/javierbarbero/.julia/packages/DataEnvelopmentAnalysis/CcljZ/src/deaddf.jl:173\n"
     ]
    },
    {
     "data": {
      "text/plain": [
       "Revenue DDF DEA Model \n",
       "DMUs = 31; Inputs = 3; Outputs = 2\n",
       "Orientation = Output; Returns to Scale = VRS\n",
       "Gy = Ones\n",
       "───────────────────────────────────────────────────────────────────────\n",
       "                                 Revenue      Technical      Allocative\n",
       "───────────────────────────────────────────────────────────────────────\n",
       "Export-Import Bank             0.0            0.0             0.0\n",
       "Bank of Taiwan                 0.0            0.0             0.0\n",
       "Taipei Fubon Bank          57583.8            0.0         57583.8\n",
       "Bank of Kaohsiung          71920.5        45282.4         26638.1\n",
       "Land Bank                      0.0            0.0             0.0\n",
       "Cooperative Bank               0.0            0.0             0.0\n",
       "First Bank                 36268.7            0.0         36268.7\n",
       "Hua Nan Bank               50398.0        47862.9          2535.04\n",
       "Chang Hwa Bank             53218.0        43809.2          9408.75\n",
       "Mega Bank                      0.0            0.0             0.0\n",
       "Cathay United Bank             2.65178e5      2.23726e5   41452.0\n",
       "The Shanghai Bank          65901.3        33361.9         32539.4\n",
       "Union Bank                     2.28327e5  94968.4        133359.0\n",
       "Far Eastern Bank            1370.46           0.0          1370.46\n",
       "E. Sun Bank                80736.0        43857.9         36878.0\n",
       "Cosmos Bank                    1.10467e5  61805.5         48661.5\n",
       "Taishin Bank               83391.9        80883.3          2508.61\n",
       "Ta Chong Bank              33937.1        29699.8          4237.3\n",
       "Jih Sun Bank               89658.8        59672.0         29986.8\n",
       "Entie Bank                 61676.8        32689.0         28987.8\n",
       "China Trust Bank           42397.2            0.0         42397.2\n",
       "Sunny Bank                     1.01994e5  57195.9         44798.4\n",
       "Bank of Panhsin            89986.3        58199.5         31786.8\n",
       "Taiwan Business Bank       31459.5        21884.6          9574.84\n",
       "Taichung Bank              66275.6        64141.6          2133.97\n",
       "China Development           9629.12           0.0          9629.12\n",
       "Hwatai Bank                49878.6        46375.7          3502.96\n",
       "Cota Bank                  58043.9        45631.3         12412.7\n",
       "Industrial Bank of Taiwan  14777.7            0.0         14777.7\n",
       "Bank SinoPac               57190.0        57010.8           179.245\n",
       "Shin Kong Bank                 2.15279e5  87344.5             1.27934e5\n",
       "───────────────────────────────────────────────────────────────────────"
      ]
     },
     "execution_count": 41,
     "metadata": {},
     "output_type": "execute_result"
    }
   ],
   "source": [
    "dearevenueddf(X, Y, P, Gy = :Ones, names = banks)"
   ]
  },
  {
   "cell_type": "code",
   "execution_count": 42,
   "metadata": {},
   "outputs": [
    {
     "data": {
      "text/plain": [
       "Directional DF DEA Model \n",
       "DMUs = 31; Inputs = 3; Outputs = 2\n",
       "Returns to Scale = VRS\n",
       "Gx = Ones; Gy = Zeros\n",
       "──────────────────────────────────────────────────────────────────────────────────────────────────────────────\n",
       "                               efficiency          slackX1   slackX2         slackX3          slackY1  slackY2\n",
       "──────────────────────────────────────────────────────────────────────────────────────────────────────────────\n",
       "Export-Import Bank            0.0              0.0             0.0       0.0             -9.10433e-12      0.0\n",
       "Bank of Taiwan               -3.29584e-13     -1.52296e-10     0.0      -1.45519e-11      0.0              0.0\n",
       "Taipei Fubon Bank             0.0              0.0             0.0       0.0              0.0              0.0\n",
       "Bank of Kaohsiung           432.577        69379.2             0.0       5.01316          0.0              0.0\n",
       "Land Bank                     0.0              0.0             0.0       0.0              0.0              0.0\n",
       "Cooperative Bank              0.0              0.0             0.0       0.0              0.0              0.0\n",
       "First Bank                   -2.06159e-13      7.50579e-12     0.0       6.87668e-14      0.0              0.0\n",
       "Hua Nan Bank               2297.68             5.02214e-12     0.0    2118.5              0.0              0.0\n",
       "Chang Hwa Bank             2660.23            -7.76536e-10     0.0     156.983            0.0              0.0\n",
       "Mega Bank                     0.0              0.0             0.0       0.0              0.0              0.0\n",
       "Cathay United Bank         3035.53             3.46046e5       0.0    6992.99             0.0              0.0\n",
       "The Shanghai Bank           411.631        42358.8             0.0      -4.73528e-12      0.0              0.0\n",
       "Union Bank                 2401.32             1.45577e5       0.0    3657.4           4312.27             0.0\n",
       "Far Eastern Bank              0.0              0.0             0.0       0.0              0.0              0.0\n",
       "E. Sun Bank                1299.85         99225.9             0.0      -4.32095e-12      0.0              0.0\n",
       "Cosmos Bank                1483.0          83226.0             0.0    4174.0           1444.0          11774.0\n",
       "Taishin Bank               4175.93         37854.5             0.0       0.0              0.0              0.0\n",
       "Ta Chong Bank               649.826        42364.1          1297.73      0.0             -4.02537e-11      0.0\n",
       "Jih Sun Bank               1135.03         79835.6             0.0     764.596            0.0              0.0\n",
       "Entie Bank                  400.135            1.28134e5     895.796     0.0           3251.96             0.0\n",
       "China Trust Bank              0.0              0.0             0.0       0.0              0.0              0.0\n",
       "Sunny Bank                 1275.18         83741.2             0.0    6084.14         10260.9              0.0\n",
       "Bank of Panhsin             981.518        88786.3             0.0    5583.38          4355.82             0.0\n",
       "Taiwan Business Bank       1799.61         11760.0             0.0       0.0              0.0              0.0\n",
       "Taichung Bank               989.979        81039.9             0.0       0.0          33068.9              0.0\n",
       "China Development             0.0              0.0             0.0       0.0              0.0              0.0\n",
       "Hwatai Bank                 630.42         72246.0             0.0     437.261          958.575            0.0\n",
       "Cota Bank                   570.409        78593.6           291.686     0.0            399.475            0.0\n",
       "Industrial Bank of Taiwan     0.0              0.0             0.0       0.0              0.0              0.0\n",
       "Bank SinoPac               1475.97         88722.9             0.0       0.0              4.27081e-12      0.0\n",
       "Shin Kong Bank             2104.86             1.25545e5       0.0    1155.21         19737.6              0.0\n",
       "──────────────────────────────────────────────────────────────────────────────────────────────────────────────"
      ]
     },
     "execution_count": 42,
     "metadata": {},
     "output_type": "execute_result"
    }
   ],
   "source": [
    "deaddf(X, Y, rts = :VRS, Gx = :Ones, Gy = :Zeros, names = banks)"
   ]
  },
  {
   "cell_type": "code",
   "execution_count": 43,
   "metadata": {},
   "outputs": [
    {
     "name": "stderr",
     "output_type": "stream",
     "text": [
      "┌ Warning: DMU 29 termination status: TIME_LIMIT. Primal status: INFEASIBLE_POINT. Dual status: NO_SOLUTION\n",
      "└ @ DataEnvelopmentAnalysis /Users/javierbarbero/.julia/packages/DataEnvelopmentAnalysis/CcljZ/src/deaddf.jl:173\n"
     ]
    },
    {
     "data": {
      "text/plain": [
       "Directional DF DEA Model \n",
       "DMUs = 31; Inputs = 3; Outputs = 2\n",
       "Returns to Scale = VRS\n",
       "Gx = Zeros; Gy = Ones\n",
       "───────────────────────────────────────────────────────────────────────────────────────────────────────────\n",
       "                              efficiency          slackX1    slackX2         slackX3       slackY1  slackY2\n",
       "───────────────────────────────────────────────────────────────────────────────────────────────────────────\n",
       "Export-Import Bank             0.0            0.0             0.0        0.0          -9.10433e-12      0.0\n",
       "Bank of Taiwan                 0.0           -1.52296e-10     0.0       -1.45519e-11   0.0              0.0\n",
       "Taipei Fubon Bank              0.0            0.0             0.0        0.0           0.0              0.0\n",
       "Bank of Kaohsiung          45282.4            0.0            28.6909     0.0          -5.32964e-10      0.0\n",
       "Land Bank                      0.0            0.0             0.0        0.0           0.0              0.0\n",
       "Cooperative Bank               0.0            0.0             0.0        0.0           0.0              0.0\n",
       "First Bank                     0.0            7.50579e-12     0.0        6.87668e-14   0.0              0.0\n",
       "Hua Nan Bank               47862.9            0.0           556.731   3012.74         -1.16844e-10      0.0\n",
       "Chang Hwa Bank             43809.2            0.0          1648.65    8139.1           3.26573e-10      0.0\n",
       "Mega Bank                      0.0            0.0             0.0        0.0           0.0              0.0\n",
       "Cathay United Bank             2.23726e5      0.0           488.594   7444.6          -2.49291e-10      0.0\n",
       "The Shanghai Bank          33361.9           -1.44371e-10     0.0     1198.84          0.0              0.0\n",
       "Union Bank                 94968.4            0.0          1600.24    4707.43          3.12866e-10      0.0\n",
       "Far Eastern Bank               0.0            0.0             0.0        0.0           0.0              0.0\n",
       "E. Sun Bank                43857.9            0.0           337.542      0.0           0.0          43791.0\n",
       "Cosmos Bank                61805.5            0.0           983.33    4935.69          3.96085e-10      0.0\n",
       "Taishin Bank               80883.3            0.0          2901.26    9061.58          7.14135e-10      0.0\n",
       "Ta Chong Bank              29699.8            0.0          1662.83       0.0          -1.27329e-10      0.0\n",
       "Jih Sun Bank               59672.0            0.0           539.419   2216.77         -1.29469e-10      0.0\n",
       "Entie Bank                 32689.0        77424.0          1038.37       0.0          -1.35216e-11      0.0\n",
       "China Trust Bank               0.0            0.0             0.0        0.0           0.0              0.0\n",
       "Sunny Bank                 57195.9            0.0           839.933   6551.22         -1.75437e-10      0.0\n",
       "Bank of Panhsin            58199.5            0.0           501.144   5738.06          2.30102e-10      0.0\n",
       "Taiwan Business Bank       21884.6            0.0          1484.56    1719.65          4.85885e-11      0.0\n",
       "Taichung Bank              64141.6            0.0           623.29       0.0          -2.18279e-11      0.0\n",
       "China Development              0.0            0.0             0.0        0.0           0.0              0.0\n",
       "Hwatai Bank                46375.7            0.0           232.161    406.95         -5.11413e-11      0.0\n",
       "Cota Bank                  45631.3         5754.29          476.051      0.0           5.17229e-11      0.0\n",
       "Industrial Bank of Taiwan      0.0            0.0             0.0        0.0           0.0              0.0\n",
       "Bank SinoPac               57010.8            0.0           895.078      0.0          -3.25342e-11      0.0\n",
       "Shin Kong Bank             87344.5            0.0          1465.26    2029.05         -1.56563e-11      0.0\n",
       "───────────────────────────────────────────────────────────────────────────────────────────────────────────"
      ]
     },
     "execution_count": 43,
     "metadata": {},
     "output_type": "execute_result"
    }
   ],
   "source": [
    "deaddf(X, Y, rts = :VRS, Gx = :Zeros, Gy = :Ones, names = banks)"
   ]
  },
  {
   "cell_type": "markdown",
   "metadata": {},
   "source": [
    "### The Hölder Distance Function"
   ]
  },
  {
   "cell_type": "code",
   "execution_count": 44,
   "metadata": {},
   "outputs": [
    {
     "data": {
      "text/plain": [
       "Cost Hölder LInf DEA Model \n",
       "DMUs = 31; Inputs = 3; Outputs = 2\n",
       "Orientation = Input; Returns to Scale = VRS\n",
       "Weighted (weakly) Hölder distance function \n",
       "───────────────────────────────────────────────────────────────────\n",
       "                                   Cost     Technical    Allocative\n",
       "───────────────────────────────────────────────────────────────────\n",
       "Export-Import Bank         -3.64381e-16   0.0          -3.64381e-16\n",
       "Bank of Taiwan             -6.32845e-15  -4.15853e-17  -6.28686e-15\n",
       "Taipei Fubon Bank           0.0783999     0.0           0.0783999\n",
       "Bank of Kaohsiung           0.402974      0.352667      0.0503073\n",
       "Land Bank                   2.90597e-16   0.0           2.90597e-16\n",
       "Cooperative Bank            0.0399645     0.0           0.0399645\n",
       "First Bank                  0.010129      0.0           0.010129\n",
       "Hua Nan Bank                0.18859       0.0563877     0.132202\n",
       "Chang Hwa Bank              0.29607       0.0649374     0.231132\n",
       "Mega Bank                  -4.57527e-15   0.0          -4.57527e-15\n",
       "Cathay United Bank          0.456011      0.290414      0.165597\n",
       "The Shanghai Bank           0.212458      0.113383      0.0990746\n",
       "Union Bank                  0.68462       0.500966      0.183654\n",
       "Far Eastern Bank           -5.04924e-16   0.0          -5.04924e-16\n",
       "E. Sun Bank                 0.221103      0.157678      0.0634245\n",
       "Cosmos Bank                 0.872628      0.771991      0.100637\n",
       "Taishin Bank                0.53257       0.17625       0.35632\n",
       "Ta Chong Bank               0.358714      0.143568      0.215146\n",
       "Jih Sun Bank                0.675655      0.518205      0.157449\n",
       "Entie Bank                  0.460679      0.189278      0.271401\n",
       "China Trust Bank            0.255961      0.0           0.255961\n",
       "Sunny Bank                  0.611996      0.399068      0.212928\n",
       "Bank of Panhsin             0.75049       0.626573      0.123917\n",
       "Taiwan Business Bank        0.194485      0.0334356     0.161049\n",
       "Taichung Bank               0.39007       0.274686      0.115384\n",
       "China Development           0.0           0.0           0.0\n",
       "Hwatai Bank                 0.698607      0.653665      0.0449421\n",
       "Cota Bank                   0.717709      0.512497      0.205213\n",
       "Industrial Bank of Taiwan   0.354307      5.71364e-17   0.354307\n",
       "Bank SinoPac                0.210736      0.106822      0.103913\n",
       "Shin Kong Bank              0.487921      0.297556      0.190365\n",
       "───────────────────────────────────────────────────────────────────"
      ]
     },
     "execution_count": 44,
     "metadata": {},
     "output_type": "execute_result"
    }
   ],
   "source": [
    "deacostholder(X, Y, W, l = Inf, weight = true, names = banks)"
   ]
  },
  {
   "cell_type": "code",
   "execution_count": 45,
   "metadata": {},
   "outputs": [
    {
     "data": {
      "text/plain": [
       "Revenue Hölder LInf DEA Model \n",
       "DMUs = 31; Inputs = 3; Outputs = 2\n",
       "Orientation = Output; Returns to Scale = VRS\n",
       "Weighted (weakly) Hölder distance function \n",
       "────────────────────────────────────────────────────────────────\n",
       "                              Revenue     Technical   Allocative\n",
       "────────────────────────────────────────────────────────────────\n",
       "Export-Import Bank         0.0          0.0          0.0\n",
       "Bank of Taiwan             0.0          0.0          0.0\n",
       "Taipei Fubon Bank          0.0879491    1.34385e-16  0.0879491\n",
       "Bank of Kaohsiung          0.970414     0.361837     0.608577\n",
       "Land Bank                  0.0          0.0          0.0\n",
       "Cooperative Bank           0.0          0.0          0.0\n",
       "First Bank                 0.0366845    0.0          0.0366845\n",
       "Hua Nan Bank               0.0585395    0.0544031    0.00413647\n",
       "Chang Hwa Bank             0.0781379    0.061733     0.0164048\n",
       "Mega Bank                  0.0         -5.63202e-17  5.63202e-17\n",
       "Cathay United Bank         0.750385     0.384205     0.36618\n",
       "The Shanghai Bank          0.195537     0.10968      0.0858569\n",
       "Union Bank                 8.59597      0.690593     7.90538\n",
       "Far Eastern Bank           0.00545245   0.0          0.00545245\n",
       "E. Sun Bank                0.163621     0.122681     0.0409409\n",
       "Cosmos Bank                6.80121      1.24411      5.5571\n",
       "Taishin Bank               0.215802     0.194112     0.0216898\n",
       "Ta Chong Bank              0.161699     0.136825     0.0248733\n",
       "Jih Sun Bank               1.22084      0.628346     0.592498\n",
       "Entie Bank                 0.465877     0.193742     0.272135\n",
       "China Trust Bank           0.0554387    0.0          0.0554387\n",
       "Sunny Bank                 1.25675      0.436228     0.820518\n",
       "Bank of Panhsin            1.85367      0.74577      1.1079\n",
       "Taiwan Business Bank       0.051414     0.03256      0.0188541\n",
       "Taichung Bank              0.38154      0.294958     0.0865826\n",
       "China Development          0.113934     0.0          0.113934\n",
       "Hwatai Bank                0.763474     0.731325     0.032149\n",
       "Cota Bank                  1.48473      0.638023     0.846704\n",
       "Industrial Bank of Taiwan  0.27436      0.0          0.27436\n",
       "Bank SinoPac               0.115562     0.11124      0.00432242\n",
       "Shin Kong Bank             2.34313      0.346674     1.99646\n",
       "────────────────────────────────────────────────────────────────"
      ]
     },
     "execution_count": 45,
     "metadata": {},
     "output_type": "execute_result"
    }
   ],
   "source": [
    "dearevenueholder(X, Y, P, l = Inf, weight = true, names = banks)"
   ]
  },
  {
   "cell_type": "code",
   "execution_count": 46,
   "metadata": {},
   "outputs": [
    {
     "data": {
      "text/plain": [
       "Hölder LInf DEA Model \n",
       "DMUs = 31; Inputs = 3; Outputs = 2\n",
       "Orientation = Input; Returns to Scale = VRS\n",
       "Weighted (weakly) Hölder distance function \n",
       "─────────────────────────────────────────────────────────────────────────────────────────────────────────────\n",
       "                             efficiency          slackX1    slackX2         slackX3          slackY1  slackY2\n",
       "─────────────────────────────────────────────────────────────────────────────────────────────────────────────\n",
       "Export-Import Bank          0.0              0.0             0.0        0.0             -9.10433e-12      0.0\n",
       "Bank of Taiwan             -4.15853e-17     -1.52296e-10     0.0       -1.45519e-11      0.0              0.0\n",
       "Taipei Fubon Bank           0.0              0.0             0.0        0.0              0.0              0.0\n",
       "Bank of Kaohsiung           0.352667         0.0            90.5226     0.0           4418.74             0.0\n",
       "Land Bank                   0.0              0.0             0.0        0.0              0.0              0.0\n",
       "Cooperative Bank            0.0              0.0             0.0        0.0              0.0              0.0\n",
       "First Bank                  0.0              7.50579e-12     0.0        6.87668e-14      0.0              0.0\n",
       "Hua Nan Bank                0.0563877        0.0           711.453   3445.97            -1.50887e-10      0.0\n",
       "Chang Hwa Bank              0.0649374        0.0          1740.64    8277.05            -2.05795e-10      0.0\n",
       "Mega Bank                   0.0              0.0             0.0        0.0              0.0              0.0\n",
       "Cathay United Bank          0.290414         0.0          1050.31    6377.92            -8.73115e-11      0.0\n",
       "The Shanghai Bank           0.113383         7.53321e-11     0.0     1876.18             0.0              0.0\n",
       "Union Bank                  0.500966         0.0           910.954   2025.45          4312.27             0.0\n",
       "Far Eastern Bank            0.0              0.0             0.0        0.0              0.0              0.0\n",
       "E. Sun Bank                 0.157678         7.27511e-11     0.0     2448.45             0.0              0.0\n",
       "Cosmos Bank                 0.771991         0.0           182.196    899.993         1444.0          11774.0\n",
       "Taishin Bank                0.17625          0.0          2534.15    7394.35             2.75415e-10      0.0\n",
       "Ta Chong Bank               0.143568         0.0          1464.32       0.0             -1.45519e-11      0.0\n",
       "Jih Sun Bank                0.518205         0.0           267.12     871.705            4.77506e-11      0.0\n",
       "Entie Bank                  0.189278     72067.1           927.784      0.0           3251.96             0.0\n",
       "China Trust Bank            0.0              0.0             0.0        0.0              0.0              0.0\n",
       "Sunny Bank                  0.399068         0.0           560.858   3721.41         10260.9              0.0\n",
       "Bank of Panhsin             0.626573         0.0           185.765   1918.23          4355.82             0.0\n",
       "Taiwan Business Bank        0.0334356        0.0          1507.77    1557.5             -2.81087e-10      0.0\n",
       "Taichung Bank               0.274686         0.0           501.938      0.0          28836.1              0.0\n",
       "China Development           0.0              0.0             0.0        0.0              0.0              0.0\n",
       "Hwatai Bank                 0.653665      2910.03           67.7067     0.0           1896.62             0.0\n",
       "Cota Bank                   0.512497     23463.3           309.625      0.0            399.475            0.0\n",
       "Industrial Bank of Taiwan   5.71364e-17      0.0             0.0        0.0              0.0              0.0\n",
       "Bank SinoPac                0.106822         0.0           909.108      0.0              1.45519e-11      0.0\n",
       "Shin Kong Bank              0.297556         0.0          1168.75    1140.58         19737.6              0.0\n",
       "─────────────────────────────────────────────────────────────────────────────────────────────────────────────"
      ]
     },
     "execution_count": 46,
     "metadata": {},
     "output_type": "execute_result"
    }
   ],
   "source": [
    "deaholder(X, Y, l = Inf, weight = true, orient = :Input, rts = :VRS, names = banks)"
   ]
  },
  {
   "cell_type": "code",
   "execution_count": 47,
   "metadata": {},
   "outputs": [
    {
     "data": {
      "text/plain": [
       "Hölder LInf DEA Model \n",
       "DMUs = 31; Inputs = 3; Outputs = 2\n",
       "Orientation = Output; Returns to Scale = VRS\n",
       "Weighted (weakly) Hölder distance function \n",
       "──────────────────────────────────────────────────────────────────────────────────────────────────────────────────\n",
       "                             efficiency          slackX1         slackX2         slackX3          slackY1  slackY2\n",
       "──────────────────────────────────────────────────────────────────────────────────────────────────────────────────\n",
       "Export-Import Bank          0.0              0.0             0.0             0.0             -9.10433e-12      0.0\n",
       "Bank of Taiwan              0.0             -1.52296e-10     0.0            -1.45519e-11      0.0              0.0\n",
       "Taipei Fubon Bank           1.34385e-16     -5.54318e-10    -7.41219e-12     0.0              0.0              0.0\n",
       "Bank of Kaohsiung           0.361837         0.0           209.97            0.0           7113.67             0.0\n",
       "Land Bank                   0.0              0.0             0.0             0.0              0.0              0.0\n",
       "Cooperative Bank            0.0              0.0             0.0             0.0              0.0              0.0\n",
       "First Bank                  0.0              7.50579e-12     0.0             6.87668e-14      0.0              0.0\n",
       "Hua Nan Bank                0.0544031        0.0           738.959        3347.3             -2.62898e-11      0.0\n",
       "Chang Hwa Bank              0.061733         0.0          1840.9          8492.05            -3.10218e-10      0.0\n",
       "Mega Bank                  -5.63202e-17      0.0             0.0             0.0              0.0              0.0\n",
       "Cathay United Bank          0.384205         0.0          1551.42         9045.47            -2.61934e-10      0.0\n",
       "The Shanghai Bank           0.10968         -6.75478e-11     0.0          1929.4              0.0              0.0\n",
       "Union Bank                  0.690593         0.0          1951.94         4260.49         12936.6              0.0\n",
       "Far Eastern Bank            0.0              0.0             0.0             0.0              0.0              0.0\n",
       "E. Sun Bank                 0.122681         0.0           337.542           0.0              0.0          13700.0\n",
       "Cosmos Bank                 1.24411          0.0          1225.75         4627.61          9770.79             0.0\n",
       "Taishin Bank                0.194112         0.0          3122.84         8994.65             1.75128e-9       0.0\n",
       "Ta Chong Bank               0.136825         0.0          1745.66            0.0             -8.73115e-11      0.0\n",
       "Jih Sun Bank                0.628346         0.0           747.663        1952.13             9.82254e-11      0.0\n",
       "Entie Bank                  0.193742     80613.5          1147.95            0.0           7617.63             0.0\n",
       "China Trust Bank            0.0              0.0             0.0             0.0              0.0              0.0\n",
       "Sunny Bank                  0.436228         0.0          1017.0          6326.2          18303.6              0.0\n",
       "Bank of Panhsin             0.74577          0.0           708.912        5474.03         13701.7              0.0\n",
       "Taiwan Business Bank        0.03256          0.0          1565.83         1616.36            -5.96277e-10      0.0\n",
       "Taichung Bank               0.294958         0.0           740.78            0.0          39044.5              0.0\n",
       "China Development           0.0              0.0             0.0             0.0              0.0              0.0\n",
       "Hwatai Bank                 0.731325         0.0           409.11          182.083         7638.98             0.0\n",
       "Cota Bank                   0.638023     10850.5           651.144           0.0          12956.4              0.0\n",
       "Industrial Bank of Taiwan   0.0              0.0             0.0             0.0              0.0              0.0\n",
       "Bank SinoPac                0.11124          0.0          1042.39            0.0              2.21695e-11      0.0\n",
       "Shin Kong Bank              0.346674         0.0          1717.21         1708.86         29414.5              0.0\n",
       "──────────────────────────────────────────────────────────────────────────────────────────────────────────────────"
      ]
     },
     "execution_count": 47,
     "metadata": {},
     "output_type": "execute_result"
    }
   ],
   "source": [
    "deaholder(X, Y, l = Inf, weight = true, orient = :Output, rts = :VRS, names = banks)"
   ]
  },
  {
   "cell_type": "markdown",
   "metadata": {},
   "source": [
    "### The Reverse Directional Distance Function"
   ]
  },
  {
   "cell_type": "code",
   "execution_count": 48,
   "metadata": {},
   "outputs": [
    {
     "data": {
      "text/plain": [
       "Cost Reverse DDF DEA Model \n",
       "DMUs = 31; Inputs = 3; Outputs = 2\n",
       "Returns to Scale: VRS\n",
       "Associated efficiency measure = ERG\n",
       "───────────────────────────────────────────────────────────────────\n",
       "                                   Cost     Technical    Allocative\n",
       "───────────────────────────────────────────────────────────────────\n",
       "Export-Import Bank         -9.16829e-16   0.0          -9.16829e-16\n",
       "Bank of Taiwan             -1.56276e-14  -3.29584e-13   3.13956e-13\n",
       "Taipei Fubon Bank           0.084176      0.0           0.084176\n",
       "Bank of Kaohsiung           0.400148      0.387981      0.0121665\n",
       "Land Bank                   5.53221e-16   0.0           5.53221e-16\n",
       "Cooperative Bank            0.0792926     0.0           0.0792926\n",
       "First Bank                  0.0157307    -2.06159e-13   0.0157307\n",
       "Hua Nan Bank                0.210872      0.207607      0.00326531\n",
       "Chang Hwa Bank              0.31642       0.31642      -2.22045e-16\n",
       "Mega Bank                  -5.46585e-15   0.0          -5.46585e-15\n",
       "Cathay United Bank          0.44973       0.44973      -5.55112e-17\n",
       "The Shanghai Bank           0.256019      0.256019      1.66533e-16\n",
       "Union Bank                  0.686893      0.686893     -2.22045e-16\n",
       "Far Eastern Bank           -5.57032e-16   0.0          -5.57032e-16\n",
       "E. Sun Bank                 0.217258      0.217258     -3.44169e-15\n",
       "Cosmos Bank                 0.856719      0.856719      2.22045e-16\n",
       "Taishin Bank                0.480661      0.480661      7.21645e-16\n",
       "Ta Chong Bank               0.313858      0.313858     -1.16573e-15\n",
       "Jih Sun Bank                0.65638       0.65638      -5.55112e-16\n",
       "Entie Bank                  0.428805      0.428805     -4.996e-16\n",
       "China Trust Bank            0.396267      0.0           0.396267\n",
       "Sunny Bank                  0.639589      0.639589     -3.33067e-16\n",
       "Bank of Panhsin             0.76155       0.76155      -2.22045e-16\n",
       "Taiwan Business Bank        0.193199      0.193199     -2.22045e-16\n",
       "Taichung Bank               0.373287      0.37001       0.00327707\n",
       "China Development           0.0           0.0           0.0\n",
       "Hwatai Bank                 0.690854      0.689211      0.00164267\n",
       "Cota Bank                   0.680328      0.680199      0.000129177\n",
       "Industrial Bank of Taiwan   0.475617      0.0           0.475617\n",
       "Bank SinoPac                0.1944        0.1944       -5.55112e-16\n",
       "Shin Kong Bank              0.474766      0.474766     -6.66134e-16\n",
       "───────────────────────────────────────────────────────────────────"
      ]
     },
     "execution_count": 48,
     "metadata": {},
     "output_type": "execute_result"
    }
   ],
   "source": [
    "deacostrddf(X, Y, W, :ERG, rts = :VRS, names = banks)"
   ]
  },
  {
   "cell_type": "code",
   "execution_count": 49,
   "metadata": {},
   "outputs": [
    {
     "name": "stderr",
     "output_type": "stream",
     "text": [
      "┌ Warning: DMU 29 termination status: TIME_LIMIT. Primal status: INFEASIBLE_POINT. Dual status: NO_SOLUTION\n",
      "└ @ DataEnvelopmentAnalysis /Users/javierbarbero/.julia/packages/DataEnvelopmentAnalysis/CcljZ/src/deaddf.jl:173\n"
     ]
    },
    {
     "data": {
      "text/plain": [
       "Revenue Reverse DDF DEA Model \n",
       "DMUs = 31; Inputs = 3; Outputs = 2\n",
       "Returns to Scale: VRS\n",
       "Associated efficiency measure = ERG\n",
       "─────────────────────────────────────────────────────────────\n",
       "                             Revenue  Technical    Allocative\n",
       "─────────────────────────────────────────────────────────────\n",
       "Export-Import Bank         0.0         0.0        0.0\n",
       "Bank of Taiwan             0.0         0.0        0.0\n",
       "Taipei Fubon Bank          0.164297    0.0        0.164297\n",
       "Bank of Kaohsiung          0.779723    0.779358   0.000364566\n",
       "Land Bank                  0.0         0.0        0.0\n",
       "Cooperative Bank           0.0         0.0        0.0\n",
       "First Bank                 0.0990394   0.0        0.0990394\n",
       "Hua Nan Bank               0.122797    0.122457   0.000339517\n",
       "Chang Hwa Bank             0.18347     0.163353   0.0201171\n",
       "Mega Bank                  0.0         0.0        0.0\n",
       "Cathay United Bank         0.515661    0.513344   0.00231686\n",
       "The Shanghai Bank          0.265163    0.110445   0.154718\n",
       "Union Bank                 0.898641    0.898641   7.77156e-16\n",
       "Far Eastern Bank           0.0105232   0.0        0.0105232\n",
       "E. Sun Bank                0.127932    0.127932   1.11022e-16\n",
       "Cosmos Bank                0.975656    0.975656   5.55112e-16\n",
       "Taishin Bank               0.319556    0.291503   0.0280529\n",
       "Ta Chong Bank              0.310701    0.303661   0.00703934\n",
       "Jih Sun Bank               0.748352    0.748352   4.44089e-16\n",
       "Entie Bank                 0.761607    0.694196   0.0674108\n",
       "China Trust Bank           0.100147    0.0        0.100147\n",
       "Sunny Bank                 1.02935     0.938491   0.090857\n",
       "Bank of Panhsin            0.971675    0.971675  -1.11022e-16\n",
       "Taiwan Business Bank       0.198802    0.169956   0.028846\n",
       "Taichung Bank              0.906428    0.874009   0.032419\n",
       "China Development          0.145367    0.0        0.145367\n",
       "Hwatai Bank                1.29853     0.954224   0.344303\n",
       "Cota Bank                  1.05679     0.923304   0.133488\n",
       "Industrial Bank of Taiwan  0.605975    0.0        0.605975\n",
       "Bank SinoPac               0.1344      0.1344     2.498e-16\n",
       "Shin Kong Bank             0.966775    0.881326   0.0854489\n",
       "─────────────────────────────────────────────────────────────"
      ]
     },
     "execution_count": 49,
     "metadata": {},
     "output_type": "execute_result"
    }
   ],
   "source": [
    "dearevenuerddf(X, Y, P, :ERG, rts = :VRS, names = banks)"
   ]
  },
  {
   "cell_type": "code",
   "execution_count": 50,
   "metadata": {},
   "outputs": [
    {
     "data": {
      "text/plain": [
       "Reverse DDF DEA Model \n",
       "DMUs = 31; Inputs = 3; Outputs = 2\n",
       "Orientation = Input; Returns to Scale = VRS\n",
       "Associated efficiency measure = ERG\n",
       "───────────────────────────────────────\n",
       "                             efficiency\n",
       "───────────────────────────────────────\n",
       "Export-Import Bank          0.0\n",
       "Bank of Taiwan             -3.29584e-13\n",
       "Taipei Fubon Bank           0.0\n",
       "Bank of Kaohsiung           0.387981\n",
       "Land Bank                   0.0\n",
       "Cooperative Bank            0.0\n",
       "First Bank                 -2.06159e-13\n",
       "Hua Nan Bank                0.207607\n",
       "Chang Hwa Bank              0.31642\n",
       "Mega Bank                   0.0\n",
       "Cathay United Bank          0.44973\n",
       "The Shanghai Bank           0.256019\n",
       "Union Bank                  0.686893\n",
       "Far Eastern Bank            0.0\n",
       "E. Sun Bank                 0.217258\n",
       "Cosmos Bank                 0.856719\n",
       "Taishin Bank                0.480661\n",
       "Ta Chong Bank               0.313858\n",
       "Jih Sun Bank                0.65638\n",
       "Entie Bank                  0.428805\n",
       "China Trust Bank            0.0\n",
       "Sunny Bank                  0.639589\n",
       "Bank of Panhsin             0.76155\n",
       "Taiwan Business Bank        0.193199\n",
       "Taichung Bank               0.37001\n",
       "China Development           0.0\n",
       "Hwatai Bank                 0.689211\n",
       "Cota Bank                   0.680199\n",
       "Industrial Bank of Taiwan   0.0\n",
       "Bank SinoPac                0.1944\n",
       "Shin Kong Bank              0.474766\n",
       "───────────────────────────────────────"
      ]
     },
     "execution_count": 50,
     "metadata": {},
     "output_type": "execute_result"
    }
   ],
   "source": [
    "dearddf(X, Y, :ERG, orient = :Input, rts = :VRS, names = banks)"
   ]
  },
  {
   "cell_type": "code",
   "execution_count": 51,
   "metadata": {},
   "outputs": [
    {
     "name": "stderr",
     "output_type": "stream",
     "text": [
      "┌ Warning: DMU 29 termination status: TIME_LIMIT. Primal status: INFEASIBLE_POINT. Dual status: NO_SOLUTION\n",
      "└ @ DataEnvelopmentAnalysis /Users/javierbarbero/.julia/packages/DataEnvelopmentAnalysis/CcljZ/src/deaddf.jl:173\n"
     ]
    },
    {
     "data": {
      "text/plain": [
       "Reverse DDF DEA Model \n",
       "DMUs = 31; Inputs = 3; Outputs = 2\n",
       "Orientation = Output; Returns to Scale = VRS\n",
       "Associated efficiency measure = ERG\n",
       "──────────────────────────────────────\n",
       "                            efficiency\n",
       "──────────────────────────────────────\n",
       "Export-Import Bank            0.0\n",
       "Bank of Taiwan                0.0\n",
       "Taipei Fubon Bank             0.0\n",
       "Bank of Kaohsiung             0.779358\n",
       "Land Bank                     0.0\n",
       "Cooperative Bank              0.0\n",
       "First Bank                    0.0\n",
       "Hua Nan Bank                  0.122457\n",
       "Chang Hwa Bank                0.163353\n",
       "Mega Bank                     0.0\n",
       "Cathay United Bank            0.513344\n",
       "The Shanghai Bank             0.110445\n",
       "Union Bank                    0.898641\n",
       "Far Eastern Bank              0.0\n",
       "E. Sun Bank                   0.127932\n",
       "Cosmos Bank                   0.975656\n",
       "Taishin Bank                  0.291503\n",
       "Ta Chong Bank                 0.303661\n",
       "Jih Sun Bank                  0.748352\n",
       "Entie Bank                    0.694196\n",
       "China Trust Bank              0.0\n",
       "Sunny Bank                    0.938491\n",
       "Bank of Panhsin               0.971675\n",
       "Taiwan Business Bank          0.169956\n",
       "Taichung Bank                 0.874009\n",
       "China Development             0.0\n",
       "Hwatai Bank                   0.954224\n",
       "Cota Bank                     0.923304\n",
       "Industrial Bank of Taiwan  2268.24\n",
       "Bank SinoPac                  0.1344\n",
       "Shin Kong Bank                0.881326\n",
       "──────────────────────────────────────"
      ]
     },
     "execution_count": 51,
     "metadata": {},
     "output_type": "execute_result"
    }
   ],
   "source": [
    "dearddf(X, Y, :ERG, orient = :Output, rts = :VRS, names = banks)"
   ]
  },
  {
   "cell_type": "markdown",
   "metadata": {},
   "source": [
    "### The General Direct Approach"
   ]
  },
  {
   "cell_type": "code",
   "execution_count": 52,
   "metadata": {},
   "outputs": [
    {
     "data": {
      "text/plain": [
       "General Direct Approach Cost DEA Model \n",
       "DMUs = 31; Inputs = 3; Outputs = 2\n",
       "Returns to Scale = VRS\n",
       "Associated efficiency measure = ERG\n",
       "────────────────────────────────────────────────────────────────\n",
       "                                   Cost  Technical    Allocative\n",
       "────────────────────────────────────────────────────────────────\n",
       "Export-Import Bank         -9.16829e-16   0.0        3.0561e-16\n",
       "Bank of Taiwan             -1.56276e-14   0.0       -8.24791e-15\n",
       "Taipei Fubon Bank           0.084176      0.0        0.084176\n",
       "Bank of Kaohsiung           0.400148      0.387981   0.0121665\n",
       "Land Bank                   5.53221e-16   0.0       -1.93627e-15\n",
       "Cooperative Bank            0.0792926     0.0        0.0792926\n",
       "First Bank                  0.0157307     0.0        0.0157307\n",
       "Hua Nan Bank                0.210872      0.207607   0.00326531\n",
       "Chang Hwa Bank              0.31642       0.31642   -7.18524e-16\n",
       "Mega Bank                  -5.46585e-15   0.0       -1.57902e-14\n",
       "Cathay United Bank          0.44973       0.44973   -5.01706e-16\n",
       "The Shanghai Bank           0.256019      0.256019  -1.55523e-15\n",
       "Union Bank                  0.686893      0.686893   1.95651e-16\n",
       "Far Eastern Bank           -5.57032e-16   0.0       -1.39258e-16\n",
       "E. Sun Bank                 0.217258      0.217258  -5.22075e-15\n",
       "Cosmos Bank                 0.856719      0.856719   7.05228e-17\n",
       "Taishin Bank                0.480661      0.480661   5.16646e-17\n",
       "Ta Chong Bank               0.313858      0.313858   4.28811e-16\n",
       "Jih Sun Bank                0.65638       0.65638    2.23231e-16\n",
       "Entie Bank                  0.428805      0.428805   8.90935e-17\n",
       "China Trust Bank            0.396267      0.0        0.396267\n",
       "Sunny Bank                  0.639589      0.639589  -1.21547e-16\n",
       "Bank of Panhsin             0.76155       0.76155    0.0\n",
       "Taiwan Business Bank        0.193199      0.193199  -5.61342e-16\n",
       "Taichung Bank               0.373287      0.37001    0.00327707\n",
       "China Development           0.0           0.0        7.85401e-16\n",
       "Hwatai Bank                 0.690854      0.689211   0.00164267\n",
       "Cota Bank                   0.680328      0.680199   0.000129177\n",
       "Industrial Bank of Taiwan   0.475617      0.0        0.475617\n",
       "Bank SinoPac                0.1944        0.1944    -7.00718e-16\n",
       "Shin Kong Bank              0.474766      0.474766   2.43862e-16\n",
       "────────────────────────────────────────────────────────────────"
      ]
     },
     "execution_count": 52,
     "metadata": {},
     "output_type": "execute_result"
    }
   ],
   "source": [
    "deacostgda(X, Y, W, :ERG, names = banks)"
   ]
  },
  {
   "cell_type": "code",
   "execution_count": 53,
   "metadata": {},
   "outputs": [
    {
     "data": {
      "text/plain": [
       "General Direct Approach Revenue DEA Model \n",
       "DMUs = 31; Inputs = 3; Outputs = 2\n",
       "Returns to Scale = VRS\n",
       "Associated efficiency measure = ERG\n",
       "─────────────────────────────────────────────────────────────\n",
       "                              Revenue  Technical   Allocative\n",
       "─────────────────────────────────────────────────────────────\n",
       "Export-Import Bank          0.0         0.0       0.0\n",
       "Bank of Taiwan              0.0         0.0       0.0\n",
       "Taipei Fubon Bank           0.164297    0.0       0.164297\n",
       "Bank of Kaohsiung           3.53388     3.53223   0.0016523\n",
       "Land Bank                   0.0         0.0       0.0\n",
       "Cooperative Bank            0.0         0.0       0.0\n",
       "First Bank                  0.0990394   0.0       0.0990394\n",
       "Hua Nan Bank                0.139932    0.139545  0.000386895\n",
       "Chang Hwa Bank              0.219293    0.195248  0.0240449\n",
       "Mega Bank                   0.0         0.0       0.0\n",
       "Cathay United Bank          1.0596      1.05484   0.00476077\n",
       "The Shanghai Bank           0.298085    0.124158  0.173927\n",
       "Union Bank                  8.86595     8.86595   0.0\n",
       "Far Eastern Bank            0.0105232   0.0       0.0105232\n",
       "E. Sun Bank                 0.1467      0.1467    1.92877e-16\n",
       "Cosmos Bank                40.0773     40.0773    2.44952e-14\n",
       "Taishin Bank                0.451033    0.411438  0.0395949\n",
       "Ta Chong Bank               0.446192    0.436083  0.0101091\n",
       "Jih Sun Bank                2.9738      2.9738    6.88226e-16\n",
       "Entie Bank                  2.49051     2.27007   0.220438\n",
       "China Trust Bank            0.100147    0.0       0.100147\n",
       "Sunny Bank                 16.735      15.2579    1.47714\n",
       "Bank of Panhsin            34.3048     34.3048    2.38406e-14\n",
       "Taiwan Business Bank        0.239508    0.204755  0.0347524\n",
       "Taichung Bank               7.1944      6.93709   0.257312\n",
       "China Development           0.145367    0.0       0.145367\n",
       "Hwatai Bank                28.367      20.8455    7.52148\n",
       "Cota Bank                  13.779      12.0385    1.74048\n",
       "Industrial Bank of Taiwan   0.605975    0.0       0.605975\n",
       "Bank SinoPac                0.155268    0.155268  0.0\n",
       "Shin Kong Bank              8.14648     7.42645   0.720031\n",
       "─────────────────────────────────────────────────────────────"
      ]
     },
     "execution_count": 53,
     "metadata": {},
     "output_type": "execute_result"
    }
   ],
   "source": [
    "dearevenuegda(X, Y, P, :ERG, names = banks)"
   ]
  },
  {
   "cell_type": "code",
   "execution_count": 54,
   "metadata": {},
   "outputs": [
    {
     "data": {
      "text/plain": [
       "Russell DEA Model \n",
       "DMUs = 31; Inputs = 3; Outputs = 2\n",
       "Orientation = Input; Returns to Scale = VRS\n",
       "──────────────────────────────────────────────────────────────────────────────────────────────\n",
       "                           efficiency     effX1     effX2      effX3          slackY1  slackY2\n",
       "──────────────────────────────────────────────────────────────────────────────────────────────\n",
       "Export-Import Bank           1.0       1.0       1.0       1.0           -9.10433e-12      0.0\n",
       "Bank of Taiwan               1.0       1.0       1.0       1.0            0.0              0.0\n",
       "Taipei Fubon Bank            1.0       1.0       1.0       1.0            0.0              0.0\n",
       "Bank of Kaohsiung            0.612019  0.668261  0.563576  0.604219    8535.19             0.0\n",
       "Land Bank                    1.0       1.0       1.0       1.0            0.0              0.0\n",
       "Cooperative Bank             1.0       1.0       1.0       1.0            0.0              0.0\n",
       "First Bank                   1.0       1.0       1.0       1.0            0.0              0.0\n",
       "Hua Nan Bank                 0.792393  0.960964  0.776304  0.639911       0.0              0.0\n",
       "Chang Hwa Bank               0.68358   0.974689  0.612128  0.463923       1.96451e-10      0.0\n",
       "Mega Bank                    1.0       1.0       1.0       1.0            0.0              0.0\n",
       "Cathay United Bank           0.55027   0.724674  0.5145    0.411636       5.82077e-11      0.0\n",
       "The Shanghai Bank            0.743981  0.844629  0.959693  0.427623       0.0              0.0\n",
       "Union Bank                   0.313107  0.499034  0.19283   0.247457    4312.27             0.0\n",
       "Far Eastern Bank             1.0       1.0       1.0       1.0            0.0              0.0\n",
       "E. Sun Bank                  0.782742  0.839177  0.851273  0.657774       0.0              0.0\n",
       "Cosmos Bank                  0.143281  0.228009  0.119881  0.0819539   1444.0          11774.0\n",
       "Taishin Bank                 0.519339  0.861753  0.360764  0.335501       0.0              0.0\n",
       "Ta Chong Bank                0.686142  0.866762  0.394227  0.797436      -5.52973e-10      0.0\n",
       "Jih Sun Bank                 0.34362   0.498615  0.277332  0.254913       3.93907e-11      0.0\n",
       "Entie Bank                   0.571195  0.569153  0.333711  0.810722    3251.96             0.0\n",
       "China Trust Bank             1.0       1.0       1.0       1.0            0.0              0.0\n",
       "Sunny Bank                   0.360411  0.600932  0.287598  0.192703   10260.9              0.0\n",
       "Bank of Panhsin              0.23845   0.373427  0.227156  0.114766    4355.82             0.0\n",
       "Taiwan Business Bank         0.806801  0.98184   0.645099  0.793466       2.91038e-11      0.0\n",
       "Taichung Bank                0.62999   0.740699  0.460186  0.689087   33850.5              0.0\n",
       "China Development            1.0       1.0       1.0       1.0            0.0              0.0\n",
       "Hwatai Bank                  0.310789  0.318793  0.267238  0.346335    1896.62             0.0\n",
       "Cota Bank                    0.319801  0.27162   0.20028   0.487503     399.475            0.0\n",
       "Industrial Bank of Taiwan    1.0       1.0       1.0       1.0            0.0              0.0\n",
       "Bank SinoPac                 0.8056    0.905783  0.665555  0.845461       0.0              0.0\n",
       "Shin Kong Bank               0.525234  0.702444  0.330941  0.542317   19737.6              0.0\n",
       "──────────────────────────────────────────────────────────────────────────────────────────────"
      ]
     },
     "execution_count": 54,
     "metadata": {},
     "output_type": "execute_result"
    }
   ],
   "source": [
    "dearussell(X, Y, orient = :Input, rts = :VRS,  names = banks)"
   ]
  },
  {
   "cell_type": "code",
   "execution_count": 56,
   "metadata": {},
   "outputs": [
    {
     "data": {
      "text/plain": [
       "Russell DEA Model \n",
       "DMUs = 31; Inputs = 3; Outputs = 2\n",
       "Orientation = Output; Returns to Scale = VRS\n",
       "─────────────────────────────────────────────────────────────────────────────────────────────────────\n",
       "                           efficiency     effY1    effY2          slackX1     slackX2         slackX3\n",
       "─────────────────────────────────────────────────────────────────────────────────────────────────────\n",
       "Export-Import Bank            1.0       1.0      1.0          0.0             0.0         0.0\n",
       "Bank of Taiwan                1.0       1.0      1.0         -1.52296e-10     0.0        -1.45519e-11\n",
       "Taipei Fubon Bank             1.0       1.0      1.0          0.0             0.0         0.0\n",
       "Bank of Kaohsiung             4.53223   8.06446  1.0        147.515           0.0        -1.47978e-12\n",
       "Land Bank                     1.0       1.0      1.0          0.0             0.0         0.0\n",
       "Cooperative Bank              1.0       1.0      1.0          0.0             0.0         0.0\n",
       "First Bank                    1.0       1.0      1.0          7.50579e-12     0.0         6.87668e-14\n",
       "Hua Nan Bank                  1.13955   1.27909  1.0          0.0           131.29     2231.66\n",
       "Chang Hwa Bank                1.19525   1.3905   1.0          0.0          1259.24     7424.17\n",
       "Mega Bank                     1.0       1.0      1.0          0.0             0.0         0.0\n",
       "Cathay United Bank            2.05484   3.01315  1.09653      0.0             0.0        -7.42081e-12\n",
       "The Shanghai Bank             1.12416   1.20404  1.04427     -2.75352e-11     0.0        -1.49534e-12\n",
       "Union Bank                    9.86595  18.638    1.09384      0.0           929.797    5496.64\n",
       "Far Eastern Bank              1.0       1.0      1.0          0.0             0.0         0.0\n",
       "E. Sun Bank                   1.1467    1.0989   1.1945       0.0             7.34408  1933.84\n",
       "Cosmos Bank                  41.0773   80.8344   1.32013      0.0           897.865    4744.14\n",
       "Taishin Bank                  1.41144   1.82288  1.0          0.0          1538.65     4753.97\n",
       "Ta Chong Bank                 1.43608   1.87217  1.0          0.0          1303.46      107.085\n",
       "Jih Sun Bank                  3.9738    6.88395  1.06366      0.0           250.602    2376.33\n",
       "Entie Bank                    3.27007   5.54014  1.0      58873.3           401.014       0.0\n",
       "China Trust Bank              1.0       1.0      1.0          0.0             0.0         0.0\n",
       "Sunny Bank                   16.2579   31.5157   1.0          0.0           307.099    7218.24\n",
       "Bank of Panhsin              35.3048   69.5506   1.05892      0.0           255.601    5792.83\n",
       "Taiwan Business Bank          1.20476   1.40951  1.0          0.0          1276.98     1983.44\n",
       "Taichung Bank                 7.93709  14.8742   1.0          0.0             0.0        62.8159\n",
       "China Development             1.0       1.0      1.0          0.0             0.0         0.0\n",
       "Hwatai Bank                  21.8455   42.6773   1.0138       0.0            96.443     274.059\n",
       "Cota Bank                    13.0385   25.077    1.0      29993.2           504.414       0.0\n",
       "Industrial Bank of Taiwan     1.0       1.0      1.0          0.0             0.0         0.0\n",
       "Bank SinoPac                  1.15527   1.23663  1.0739       4.28115e-12   862.136       0.0\n",
       "Shin Kong Bank                8.42645  15.8529   1.0          0.0           636.774    3081.89\n",
       "─────────────────────────────────────────────────────────────────────────────────────────────────────"
      ]
     },
     "execution_count": 56,
     "metadata": {},
     "output_type": "execute_result"
    }
   ],
   "source": [
    "dearussell(X, Y, orient = :Output, rts = :VRS,  names = banks)"
   ]
  },
  {
   "cell_type": "markdown",
   "metadata": {},
   "source": [
    "# 6. Advanced options"
   ]
  },
  {
   "cell_type": "markdown",
   "metadata": {},
   "source": [
    "## 6.1. Using a different solver"
   ]
  },
  {
   "cell_type": "code",
   "execution_count": null,
   "metadata": {},
   "outputs": [],
   "source": [
    "Pkg.add(\"Ipopt\")\n",
    "using Ipopt"
   ]
  },
  {
   "cell_type": "code",
   "execution_count": 65,
   "metadata": {},
   "outputs": [
    {
     "name": "stderr",
     "output_type": "stream",
     "text": [
      "\u001b[32mProgress: 100%|█████████████████████████████████████████| Time: 0:00:00\u001b[39m\n"
     ]
    },
    {
     "data": {
      "text/plain": [
       "Cost DEA Model \n",
       "DMUs = 31; Inputs = 3; Outputs = 2\n",
       "Orientation = Input; Returns to Scale = VRS\n",
       "──────────────────────────────────────────────────────────\n",
       "                               Cost  Technical  Allocative\n",
       "──────────────────────────────────────────────────────────\n",
       "Export-Import Bank         0.999998   0.999999    0.999999\n",
       "Bank of Taiwan             1.0        1.0         1.0\n",
       "Taipei Fubon Bank          0.9216     1.0         0.9216\n",
       "Bank of Kaohsiung          0.597026   0.647333    0.922285\n",
       "Land Bank                  1.0        1.0         1.0\n",
       "Cooperative Bank           0.960035   1.0         0.960035\n",
       "First Bank                 0.989871   1.0         0.989871\n",
       "Hua Nan Bank               0.81141    0.943612    0.859897\n",
       "Chang Hwa Bank             0.70393    0.935063    0.752816\n",
       "Mega Bank                  1.0        1.0         1.0\n",
       "Cathay United Bank         0.543989   0.709586    0.766629\n",
       "The Shanghai Bank          0.787542   0.886617    0.888255\n",
       "Union Bank                 0.31538    0.499034    0.631981\n",
       "Far Eastern Bank           1.0        1.0         1.0\n",
       "E. Sun Bank                0.778897   0.842322    0.924703\n",
       "Cosmos Bank                0.127371   0.228007    0.558628\n",
       "Taishin Bank               0.46743    0.82375     0.567442\n",
       "Ta Chong Bank              0.641286   0.856432    0.748788\n",
       "Jih Sun Bank               0.324345   0.481795    0.673202\n",
       "Entie Bank                 0.53932    0.810721    0.665236\n",
       "China Trust Bank           0.744039   1.0         0.744039\n",
       "Sunny Bank                 0.388003   0.600931    0.64567\n",
       "Bank of Panhsin            0.24951    0.373427    0.668163\n",
       "Taiwan Business Bank       0.805515   0.966564    0.83338\n",
       "Taichung Bank              0.609929   0.725314    0.840918\n",
       "China Development          0.999999   1.0         0.999999\n",
       "Hwatai Bank                0.301393   0.346334    0.870237\n",
       "Cota Bank                  0.28229    0.487501    0.579055\n",
       "Industrial Bank of Taiwan  0.645691   0.999998    0.645692\n",
       "Bank SinoPac               0.789264   0.893178    0.883659\n",
       "Shin Kong Bank             0.512079   0.702444    0.728996\n",
       "──────────────────────────────────────────────────────────"
      ]
     },
     "execution_count": 65,
     "metadata": {},
     "output_type": "execute_result"
    }
   ],
   "source": [
    "myoptimizer = DEAOptimizer(Ipopt.Optimizer, time_limit = 10, silent = true);\n",
    "\n",
    "deacost(X, Y, W, names = banks, optimizer = myoptimizer)"
   ]
  },
  {
   "cell_type": "markdown",
   "metadata": {},
   "source": [
    "## 6.2. Accessing results"
   ]
  },
  {
   "cell_type": "code",
   "execution_count": 66,
   "metadata": {},
   "outputs": [],
   "source": [
    "model1 = deaprofitrussell(X, Y, W, P, names = banks);"
   ]
  },
  {
   "cell_type": "code",
   "execution_count": 67,
   "metadata": {},
   "outputs": [
    {
     "data": {
      "text/plain": [
       "31-element Vector{Float64}:\n",
       "   3.0391108923815352e-5\n",
       "   0.17983501594536466\n",
       "   0.22001922607792812\n",
       "   4.957206309409705\n",
       "   1.3702950419996339e-7\n",
       "   0.28473804077016246\n",
       "   0.23868854569104117\n",
       "   0.24015691526021593\n",
       "   0.44490999895175604\n",
       "   9.614945777992197e-8\n",
       "   0.8147914720459225\n",
       "   1.34536874844074\n",
       "  25.11526329237874\n",
       "   ⋮\n",
       "   6.5393588415663535\n",
       "   0.49454429279451206\n",
       "  47.148646760602084\n",
       " 125.035282407008\n",
       "   0.6634552135758668\n",
       "  23.7745207962115\n",
       "   2.8640898839080084\n",
       " 136.01042820514445\n",
       "  43.612876314755574\n",
       "   1.5644900882674457\n",
       "   0.4221279505394159\n",
       "   9.67215044340051"
      ]
     },
     "execution_count": 67,
     "metadata": {},
     "output_type": "execute_result"
    }
   ],
   "source": [
    "efficiency(model1, :Economic)"
   ]
  },
  {
   "cell_type": "code",
   "execution_count": 68,
   "metadata": {},
   "outputs": [
    {
     "data": {
      "text/plain": [
       "31-element Vector{Float64}:\n",
       " 4.813465512176762e-6\n",
       " 2.7176397798811536e-9\n",
       " 2.3459150000348927e-7\n",
       " 0.3195454766859903\n",
       " 5.045728190822274e-8\n",
       " 2.9702607262649394e-8\n",
       " 1.1901096219624208e-8\n",
       " 0.12456421692504316\n",
       " 0.21119900678961423\n",
       " 2.1158563345835546e-8\n",
       " 0.33481772743194893\n",
       " 0.15361118680391705\n",
       " 0.5399876353001531\n",
       " ⋮\n",
       " 0.32275678010315123\n",
       " 4.3204104427374546e-7\n",
       " 0.5355539616272312\n",
       " 0.6152685737281816\n",
       " 0.13970392253940211\n",
       " 0.3619754103054784\n",
       " 5.084797318755108e-7\n",
       " 0.5444496334706193\n",
       " 0.5286020402320507\n",
       " 1.7079032784916848e-5\n",
       " 0.12522399717845045\n",
       " 0.4353758930341637"
      ]
     },
     "execution_count": 68,
     "metadata": {},
     "output_type": "execute_result"
    }
   ],
   "source": [
    "efficiency(model1, :Technical)"
   ]
  },
  {
   "cell_type": "code",
   "execution_count": 69,
   "metadata": {},
   "outputs": [
    {
     "data": {
      "text/plain": [
       "31-element Vector{Float64}:\n",
       "   2.557764341163859e-5\n",
       "   0.17983501322772488\n",
       "   0.22001899148642812\n",
       "   4.637660832723715\n",
       "   8.657222229174065e-8\n",
       "   0.2847380110675552\n",
       "   0.23868853378994495\n",
       "   0.11559269833517277\n",
       "   0.2337109921621418\n",
       "   7.499089443408642e-8\n",
       "   0.4799737446139736\n",
       "   1.1917575616368228\n",
       "  24.575275657078585\n",
       "   ⋮\n",
       "   6.2166020614632025\n",
       "   0.4945438607534678\n",
       "  46.613092798974854\n",
       " 124.42001383327981\n",
       "   0.5237512910364647\n",
       "  23.41254538590602\n",
       "   2.864089375428277\n",
       " 135.46597857167384\n",
       "  43.08427427452352\n",
       "   1.5644730092346608\n",
       "   0.2969039533609654\n",
       "   9.236774550366345"
      ]
     },
     "execution_count": 69,
     "metadata": {},
     "output_type": "execute_result"
    }
   ],
   "source": [
    "efficiency(model1, :Allocative)"
   ]
  },
  {
   "cell_type": "code",
   "execution_count": 70,
   "metadata": {},
   "outputs": [
    {
     "data": {
      "text/plain": [
       "31×31 SparseArrays.SparseMatrixCSC{Float64, Int64} with 961 stored entries:\n",
       "⣿⣿⣿⣿⣿⣿⣿⣿⣿⣿⣿⣿⣿⣿⣿⡇\n",
       "⣿⣿⣿⣿⣿⣿⣿⣿⣿⣿⣿⣿⣿⣿⣿⡇\n",
       "⣿⣿⣿⣿⣿⣿⣿⣿⣿⣿⣿⣿⣿⣿⣿⡇\n",
       "⣿⣿⣿⣿⣿⣿⣿⣿⣿⣿⣿⣿⣿⣿⣿⡇\n",
       "⣿⣿⣿⣿⣿⣿⣿⣿⣿⣿⣿⣿⣿⣿⣿⡇\n",
       "⣿⣿⣿⣿⣿⣿⣿⣿⣿⣿⣿⣿⣿⣿⣿⡇\n",
       "⣿⣿⣿⣿⣿⣿⣿⣿⣿⣿⣿⣿⣿⣿⣿⡇\n",
       "⠿⠿⠿⠿⠿⠿⠿⠿⠿⠿⠿⠿⠿⠿⠿⠇"
      ]
     },
     "execution_count": 70,
     "metadata": {},
     "output_type": "execute_result"
    }
   ],
   "source": [
    "peersmatrix(model1)"
   ]
  },
  {
   "cell_type": "code",
   "execution_count": null,
   "metadata": {},
   "outputs": [],
   "source": []
  }
 ],
 "metadata": {
  "kernelspec": {
   "display_name": "Julia 1.7.1",
   "language": "julia",
   "name": "julia-1.7"
  },
  "language_info": {
   "file_extension": ".jl",
   "mimetype": "application/julia",
   "name": "julia",
   "version": "1.7.1"
  }
 },
 "nbformat": 4,
 "nbformat_minor": 2
}
