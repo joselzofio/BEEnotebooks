{
 "cells": [
  {
   "cell_type": "markdown",
   "metadata": {},
   "source": [
    "# Chapter 12. The Reverse Directional Distance Function (RDDF): Economic Inefficiency Decompositions"
   ]
  },
  {
   "cell_type": "markdown",
   "metadata": {},
   "source": [
    "Install requiered packages:"
   ]
  },
  {
   "cell_type": "code",
   "execution_count": null,
   "metadata": {},
   "outputs": [],
   "source": [
    "using Pkg\n",
    "Pkg.add(\"DataEnvelopmentAnalysis\")\n",
    "Pkg.add(\"BenchmarkingEconomicEfficiency\")"
   ]
  },
  {
   "cell_type": "markdown",
   "metadata": {},
   "source": [
    "Or, instantiate environment to install required packages:"
   ]
  },
  {
   "cell_type": "code",
   "execution_count": 1,
   "metadata": {},
   "outputs": [],
   "source": [
    "using Pkg\n",
    "Pkg.instantiate()"
   ]
  },
  {
   "cell_type": "markdown",
   "metadata": {},
   "source": [
    "Load required packages:"
   ]
  },
  {
   "cell_type": "code",
   "execution_count": 2,
   "metadata": {},
   "outputs": [],
   "source": [
    "using DataEnvelopmentAnalysis\n",
    "using BenchmarkingEconomicEfficiency"
   ]
  },
  {
   "cell_type": "markdown",
   "metadata": {},
   "source": [
    "Increase the number of lineas and columns displayed in the notebook:"
   ]
  },
  {
   "cell_type": "code",
   "execution_count": 3,
   "metadata": {},
   "outputs": [],
   "source": [
    "ENV[\"LINES\"]   = 100;\n",
    "ENV[\"COLUMNS\"] = 100;"
   ]
  },
  {
   "cell_type": "markdown",
   "metadata": {},
   "source": [
    "# Profit Reverse Directional Distance Function"
   ]
  },
  {
   "cell_type": "markdown",
   "metadata": {},
   "source": [
    "Data for the Profit model:\n",
    "* `X`: Inputs.\n",
    "* `Y`: Outputs.\n",
    "* `W`: Price of Inputs.\n",
    "* `P`: Price of Outputs.\n",
    "* `FIRMS`: Name of Decision Making Units (DMUs)."
   ]
  },
  {
   "cell_type": "code",
   "execution_count": 4,
   "metadata": {},
   "outputs": [],
   "source": [
    "X = [2; 4; 8; 12; 6; 14; 14; 9.412];\n",
    "Y = [1; 5; 8; 9; 3; 7; 9; 2.353];\n",
    "W = [1; 1; 1; 1; 1; 1; 1; 1];\n",
    "P = [2; 2; 2; 2; 2; 2; 2; 2];\n",
    "FIRMS = [\"A\"; \"B\"; \"C\"; \"D\"; \"E\"; \"F\"; \"G\"; \"H\"];"
   ]
  },
  {
   "cell_type": "code",
   "execution_count": 5,
   "metadata": {},
   "outputs": [
    {
     "data": {
      "text/plain": [
       "Profit Reverse DDF DEA Model \n",
       "DMUs = 8; Inputs = 1; Outputs = 1\n",
       "Returns to Scale = VRS\n",
       "Associated efficiency measure = ERG\n",
       "──────────────────────────────────\n",
       "     Profit  Technical  Allocative\n",
       "──────────────────────────────────\n",
       "A  4.0        0.0         4.0\n",
       "B  0.5        0.0         0.5\n",
       "C  0.0        0.0         0.0\n",
       "D  0.166667   0.0         0.166667\n",
       "E  0.8        0.6         0.2\n",
       "F  0.571429   0.52381     0.047619\n",
       "G  0.285714   0.142857    0.142857\n",
       "H  0.949449   0.8         0.149449\n",
       "──────────────────────────────────"
      ]
     },
     "execution_count": 5,
     "metadata": {},
     "output_type": "execute_result"
    }
   ],
   "source": [
    "deaprofitrddf(X, Y, W, P, :ERG, names = FIRMS)"
   ]
  },
  {
   "cell_type": "markdown",
   "metadata": {},
   "source": [
    "Peers of the economic model:"
   ]
  },
  {
   "cell_type": "code",
   "execution_count": 6,
   "metadata": {},
   "outputs": [
    {
     "data": {
      "text/plain": [
       "8×8 SparseArrays.SparseMatrixCSC{Float64, Int64} with 8 stored entries:\n",
       "  ⋅    ⋅   1.0   ⋅    ⋅    ⋅    ⋅    ⋅ \n",
       "  ⋅    ⋅   1.0   ⋅    ⋅    ⋅    ⋅    ⋅ \n",
       "  ⋅    ⋅   1.0   ⋅    ⋅    ⋅    ⋅    ⋅ \n",
       "  ⋅    ⋅   1.0   ⋅    ⋅    ⋅    ⋅    ⋅ \n",
       "  ⋅    ⋅   1.0   ⋅    ⋅    ⋅    ⋅    ⋅ \n",
       "  ⋅    ⋅   1.0   ⋅    ⋅    ⋅    ⋅    ⋅ \n",
       "  ⋅    ⋅   1.0   ⋅    ⋅    ⋅    ⋅    ⋅ \n",
       "  ⋅    ⋅   1.0   ⋅    ⋅    ⋅    ⋅    ⋅ "
      ]
     },
     "execution_count": 6,
     "metadata": {},
     "output_type": "execute_result"
    }
   ],
   "source": [
    "peersmatrix(deaprofitrddf(X, Y, W, P, :ERG, names = FIRMS))"
   ]
  },
  {
   "cell_type": "markdown",
   "metadata": {},
   "source": [
    "Corresponding technical efficiency model:"
   ]
  },
  {
   "cell_type": "code",
   "execution_count": 7,
   "metadata": {},
   "outputs": [
    {
     "data": {
      "text/plain": [
       "Reverse DDF DEA Model \n",
       "DMUs = 8; Inputs = 1; Outputs = 1\n",
       "Orientation = Graph; Returns to Scale = VRS\n",
       "Associated efficiency measure = ERG\n",
       "─────────────\n",
       "   efficiency\n",
       "─────────────\n",
       "A    0.0\n",
       "B    0.0\n",
       "C    0.0\n",
       "D    0.0\n",
       "E    0.6\n",
       "F    0.52381\n",
       "G    0.142857\n",
       "H    0.8\n",
       "─────────────"
      ]
     },
     "execution_count": 7,
     "metadata": {},
     "output_type": "execute_result"
    }
   ],
   "source": [
    "dearddf(X, Y, :ERG, rts = :VRS, names = FIRMS)"
   ]
  },
  {
   "cell_type": "markdown",
   "metadata": {},
   "source": [
    "Obtain information on the reference peers:"
   ]
  },
  {
   "cell_type": "code",
   "execution_count": 8,
   "metadata": {},
   "outputs": [
    {
     "data": {
      "text/plain": [
       "8×8 SparseArrays.SparseMatrixCSC{Float64, Int64} with 11 stored entries:\n",
       " 1.0   ⋅          ⋅            ⋅    ⋅    ⋅    ⋅    ⋅ \n",
       "  ⋅   1.0         ⋅            ⋅    ⋅    ⋅    ⋅    ⋅ \n",
       "  ⋅    ⋅         1.0           ⋅    ⋅    ⋅    ⋅    ⋅ \n",
       "  ⋅    ⋅          ⋅           1.0   ⋅    ⋅    ⋅    ⋅ \n",
       "  ⋅   1.0       -3.38354e-16   ⋅    ⋅    ⋅    ⋅    ⋅ \n",
       "  ⋅   0.333333   0.666667      ⋅    ⋅    ⋅    ⋅    ⋅ \n",
       "  ⋅    ⋅          ⋅           1.0   ⋅    ⋅    ⋅    ⋅ \n",
       "  ⋅   1.0       -1.57551e-16   ⋅    ⋅    ⋅    ⋅    ⋅ "
      ]
     },
     "execution_count": 8,
     "metadata": {},
     "output_type": "execute_result"
    }
   ],
   "source": [
    "peersmatrix(dearddf(X, Y, :ERG, rts = :VRS, names = FIRMS))"
   ]
  },
  {
   "cell_type": "markdown",
   "metadata": {},
   "source": [
    "# Cost Reverse Directional Distance Function"
   ]
  },
  {
   "cell_type": "markdown",
   "metadata": {},
   "source": [
    "Data for the Cost model:\n",
    "* `X`: Inputs.\n",
    "* `Y`: Outputs.\n",
    "* `W`: Price of Inputs.\n",
    "* `FIRMS`: Name of Decision Making Units (DMUs)."
   ]
  },
  {
   "cell_type": "code",
   "execution_count": 9,
   "metadata": {},
   "outputs": [],
   "source": [
    "X = [2 2; 1 4; 4 1; 4 3; 5 5; 6 1; 2 5; 1.6 8];\n",
    "Y = [1; 1; 1; 1; 1; 1; 1; 1];\n",
    "W = [1 1; 1 1; 1 1; 1 1; 1 1; 1 1; 1 1; 1 1];\n",
    "FIRMS = [\"A\"; \"B\"; \"C\"; \"D\"; \"E\"; \"F\"; \"G\"; \"H\"];"
   ]
  },
  {
   "cell_type": "code",
   "execution_count": 10,
   "metadata": {},
   "outputs": [
    {
     "data": {
      "text/plain": [
       "Cost Reverse DDF DEA Model \n",
       "DMUs = 8; Inputs = 2; Outputs = 1\n",
       "Returns to Scale: VRS\n",
       "Associated efficiency measure = ERG\n",
       "──────────────────────────────────\n",
       "       Cost  Technical  Allocative\n",
       "──────────────────────────────────\n",
       "A  0.0        0.0        0.0\n",
       "B  0.5        0.0        0.5\n",
       "C  0.5        0.0        0.5\n",
       "D  0.416667   0.416667   0.0\n",
       "E  0.6        0.6        0.0\n",
       "F  0.25       0.166667   0.0833333\n",
       "G  0.525      0.35       0.175\n",
       "H  0.532609   0.4375     0.0951087\n",
       "──────────────────────────────────"
      ]
     },
     "execution_count": 10,
     "metadata": {},
     "output_type": "execute_result"
    }
   ],
   "source": [
    "deacostrddf(X, Y, W, :ERG, rts = :VRS, names = FIRMS)"
   ]
  },
  {
   "cell_type": "markdown",
   "metadata": {},
   "source": [
    "Peers of the economic model:"
   ]
  },
  {
   "cell_type": "code",
   "execution_count": 11,
   "metadata": {},
   "outputs": [
    {
     "data": {
      "text/plain": [
       "8×8 SparseArrays.SparseMatrixCSC{Float64, Int64} with 8 stored entries:\n",
       " 1.0   ⋅    ⋅    ⋅    ⋅    ⋅    ⋅    ⋅ \n",
       " 1.0   ⋅    ⋅    ⋅    ⋅    ⋅    ⋅    ⋅ \n",
       " 1.0   ⋅    ⋅    ⋅    ⋅    ⋅    ⋅    ⋅ \n",
       " 1.0   ⋅    ⋅    ⋅    ⋅    ⋅    ⋅    ⋅ \n",
       " 1.0   ⋅    ⋅    ⋅    ⋅    ⋅    ⋅    ⋅ \n",
       " 1.0   ⋅    ⋅    ⋅    ⋅    ⋅    ⋅    ⋅ \n",
       " 1.0   ⋅    ⋅    ⋅    ⋅    ⋅    ⋅    ⋅ \n",
       " 1.0   ⋅    ⋅    ⋅    ⋅    ⋅    ⋅    ⋅ "
      ]
     },
     "execution_count": 11,
     "metadata": {},
     "output_type": "execute_result"
    }
   ],
   "source": [
    "peersmatrix(deacostrddf(X, Y, W, :ERG, rts = :VRS, names = FIRMS))"
   ]
  },
  {
   "cell_type": "markdown",
   "metadata": {},
   "source": [
    "Corresponding technical efficiency model:"
   ]
  },
  {
   "cell_type": "code",
   "execution_count": 12,
   "metadata": {},
   "outputs": [
    {
     "data": {
      "text/plain": [
       "Reverse DDF DEA Model \n",
       "DMUs = 8; Inputs = 2; Outputs = 1\n",
       "Orientation = Input; Returns to Scale = VRS\n",
       "Associated efficiency measure = ERG\n",
       "─────────────\n",
       "   efficiency\n",
       "─────────────\n",
       "A    0.0\n",
       "B    0.0\n",
       "C    0.0\n",
       "D    0.416667\n",
       "E    0.6\n",
       "F    0.166667\n",
       "G    0.35\n",
       "H    0.4375\n",
       "─────────────"
      ]
     },
     "execution_count": 12,
     "metadata": {},
     "output_type": "execute_result"
    }
   ],
   "source": [
    "dearddf(X, Y, :ERG, orient = :Input, rts = :VRS, names = FIRMS)"
   ]
  },
  {
   "cell_type": "markdown",
   "metadata": {},
   "source": [
    "Obtain information on the reference peers:"
   ]
  },
  {
   "cell_type": "code",
   "execution_count": 13,
   "metadata": {
    "scrolled": true
   },
   "outputs": [
    {
     "data": {
      "text/plain": [
       "8×8 SparseArrays.SparseMatrixCSC{Float64, Int64} with 9 stored entries:\n",
       "  1.0           ⋅    ⋅    ⋅    ⋅    ⋅    ⋅    ⋅ \n",
       "   ⋅           1.0   ⋅    ⋅    ⋅    ⋅    ⋅    ⋅ \n",
       "   ⋅            ⋅   1.0   ⋅    ⋅    ⋅    ⋅    ⋅ \n",
       "  1.0           ⋅    ⋅    ⋅    ⋅    ⋅    ⋅    ⋅ \n",
       "  1.0           ⋅    ⋅    ⋅    ⋅    ⋅    ⋅    ⋅ \n",
       "   ⋅            ⋅   1.0   ⋅    ⋅    ⋅    ⋅    ⋅ \n",
       "   ⋅           1.0   ⋅    ⋅    ⋅    ⋅    ⋅    ⋅ \n",
       " -2.22045e-16  1.0   ⋅    ⋅    ⋅    ⋅    ⋅    ⋅ "
      ]
     },
     "execution_count": 13,
     "metadata": {},
     "output_type": "execute_result"
    }
   ],
   "source": [
    "peersmatrix(dearddf(X, Y, :ERG, orient = :Input, rts = :VRS, names = FIRMS))"
   ]
  },
  {
   "cell_type": "markdown",
   "metadata": {},
   "source": [
    "# Revenue Reverse Directional Distance Function"
   ]
  },
  {
   "cell_type": "markdown",
   "metadata": {},
   "source": [
    "Data for the Revenue model:\n",
    "* `X`: Inputs.\n",
    "* `Y`: Outputs.\n",
    "* `P`: Price of Outputs.\n",
    "* `FIRMS`: Name of Decision Making Units (DMUs)."
   ]
  },
  {
   "cell_type": "code",
   "execution_count": 14,
   "metadata": {},
   "outputs": [],
   "source": [
    "X = [1; 1; 1; 1; 1; 1; 1; 1];\n",
    "Y = [7 7; 4 8; 8 4; 3 5; 3 3; 8 2; 6 4; 1.5 5];\n",
    "P = [1 1; 1 1; 1 1; 1 1; 1 1; 1 1; 1 1; 1 1];\n",
    "FIRMS = [\"A\"; \"B\"; \"C\"; \"D\"; \"E\"; \"F\"; \"G\"; \"H\"];"
   ]
  },
  {
   "cell_type": "code",
   "execution_count": 15,
   "metadata": {},
   "outputs": [
    {
     "data": {
      "text/plain": [
       "Revenue Reverse DDF DEA Model \n",
       "DMUs = 8; Inputs = 1; Outputs = 2\n",
       "Returns to Scale: VRS\n",
       "Associated efficiency measure = ERG\n",
       "────────────────────────────────────\n",
       "    Revenue  Technical    Allocative\n",
       "────────────────────────────────────\n",
       "A  0.0        0.0        0.0\n",
       "B  0.25       0.0        0.25\n",
       "C  0.25       0.0        0.25\n",
       "D  0.464286   0.464286   0.0\n",
       "E  0.571429   0.571429   0.0\n",
       "F  0.666667   0.333333   0.333333\n",
       "G  0.314286   0.314286  -5.55112e-17\n",
       "H  0.818182   0.672727   0.145455\n",
       "────────────────────────────────────"
      ]
     },
     "execution_count": 15,
     "metadata": {},
     "output_type": "execute_result"
    }
   ],
   "source": [
    "dearevenuerddf(X, Y, P, :ERG,  names = FIRMS)"
   ]
  },
  {
   "cell_type": "markdown",
   "metadata": {},
   "source": [
    "Peers of the economic model:"
   ]
  },
  {
   "cell_type": "code",
   "execution_count": 16,
   "metadata": {},
   "outputs": [
    {
     "data": {
      "text/plain": [
       "8×8 SparseArrays.SparseMatrixCSC{Float64, Int64} with 8 stored entries:\n",
       " 1.0   ⋅    ⋅    ⋅    ⋅    ⋅    ⋅    ⋅ \n",
       " 1.0   ⋅    ⋅    ⋅    ⋅    ⋅    ⋅    ⋅ \n",
       " 1.0   ⋅    ⋅    ⋅    ⋅    ⋅    ⋅    ⋅ \n",
       " 1.0   ⋅    ⋅    ⋅    ⋅    ⋅    ⋅    ⋅ \n",
       " 1.0   ⋅    ⋅    ⋅    ⋅    ⋅    ⋅    ⋅ \n",
       " 1.0   ⋅    ⋅    ⋅    ⋅    ⋅    ⋅    ⋅ \n",
       " 1.0   ⋅    ⋅    ⋅    ⋅    ⋅    ⋅    ⋅ \n",
       " 1.0   ⋅    ⋅    ⋅    ⋅    ⋅    ⋅    ⋅ "
      ]
     },
     "execution_count": 16,
     "metadata": {},
     "output_type": "execute_result"
    }
   ],
   "source": [
    "peersmatrix(dearevenuerddf(X, Y, P, :ERG,  names=FIRMS))"
   ]
  },
  {
   "cell_type": "markdown",
   "metadata": {},
   "source": [
    "Corresponding technical efficiency model:"
   ]
  },
  {
   "cell_type": "code",
   "execution_count": 17,
   "metadata": {},
   "outputs": [
    {
     "data": {
      "text/plain": [
       "Reverse DDF DEA Model \n",
       "DMUs = 8; Inputs = 1; Outputs = 2\n",
       "Orientation = Output; Returns to Scale = VRS\n",
       "Associated efficiency measure = ERG\n",
       "─────────────\n",
       "   efficiency\n",
       "─────────────\n",
       "A    0.0\n",
       "B    0.0\n",
       "C    0.0\n",
       "D    0.464286\n",
       "E    0.571429\n",
       "F    0.333333\n",
       "G    0.314286\n",
       "H    0.672727\n",
       "─────────────"
      ]
     },
     "execution_count": 17,
     "metadata": {},
     "output_type": "execute_result"
    }
   ],
   "source": [
    "dearddf(X, Y, :ERG, orient = :Output, rts = :VRS, names = FIRMS)"
   ]
  },
  {
   "cell_type": "markdown",
   "metadata": {},
   "source": [
    "Obtain information on the reference peers:"
   ]
  },
  {
   "cell_type": "code",
   "execution_count": 18,
   "metadata": {},
   "outputs": [
    {
     "data": {
      "text/plain": [
       "8×8 SparseArrays.SparseMatrixCSC{Float64, Int64} with 9 stored entries:\n",
       " 1.0        ⋅    ⋅         ⋅    ⋅    ⋅    ⋅    ⋅ \n",
       "  ⋅        1.0   ⋅         ⋅    ⋅    ⋅    ⋅    ⋅ \n",
       "  ⋅         ⋅   1.0        ⋅    ⋅    ⋅    ⋅    ⋅ \n",
       " 1.0        ⋅    ⋅         ⋅    ⋅    ⋅    ⋅    ⋅ \n",
       " 1.0        ⋅    ⋅         ⋅    ⋅    ⋅    ⋅    ⋅ \n",
       "  ⋅         ⋅   1.0        ⋅    ⋅    ⋅    ⋅    ⋅ \n",
       " 1.0        ⋅    ⋅         ⋅    ⋅    ⋅    ⋅    ⋅ \n",
       " 0.333333   ⋅   0.666667   ⋅    ⋅    ⋅    ⋅    ⋅ "
      ]
     },
     "execution_count": 18,
     "metadata": {},
     "output_type": "execute_result"
    }
   ],
   "source": [
    "peersmatrix(dearussell(X, Y, orient = :Output, rts  = :VRS, names = FIRMS))"
   ]
  },
  {
   "cell_type": "code",
   "execution_count": null,
   "metadata": {},
   "outputs": [],
   "source": []
  }
 ],
 "metadata": {
  "@webio": {
   "lastCommId": null,
   "lastKernelId": null
  },
  "kernelspec": {
   "display_name": "Julia 1.7.3",
   "language": "julia",
   "name": "julia-1.7"
  },
  "language_info": {
   "file_extension": ".jl",
   "mimetype": "application/julia",
   "name": "julia",
   "version": "1.7.3"
  }
 },
 "nbformat": 4,
 "nbformat_minor": 4
}
