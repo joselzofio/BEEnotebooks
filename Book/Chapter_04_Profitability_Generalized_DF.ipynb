{
 "cells": [
  {
   "cell_type": "markdown",
   "metadata": {},
   "source": [
    "# Chapter 4. The Generalized Distance Function (GDF): Profitability Efficiency Decomposition"
   ]
  },
  {
   "cell_type": "markdown",
   "metadata": {},
   "source": [
    "Install requiered packages:"
   ]
  },
  {
   "cell_type": "code",
   "execution_count": null,
   "metadata": {},
   "outputs": [],
   "source": [
    "using Pkg\n",
    "Pkg.add(\"DataEnvelopmentAnalysis\")\n",
    "Pkg.add(\"BenchmarkingEconomicEfficiency\")"
   ]
  },
  {
   "cell_type": "markdown",
   "metadata": {},
   "source": [
    "Or, instantiate environment to install required packages:"
   ]
  },
  {
   "cell_type": "code",
   "execution_count": 1,
   "metadata": {},
   "outputs": [],
   "source": [
    "using Pkg\n",
    "Pkg.instantiate()"
   ]
  },
  {
   "cell_type": "markdown",
   "metadata": {},
   "source": [
    "Load required packages:"
   ]
  },
  {
   "cell_type": "code",
   "execution_count": 2,
   "metadata": {},
   "outputs": [],
   "source": [
    "using DataEnvelopmentAnalysis\n",
    "using BenchmarkingEconomicEfficiency"
   ]
  },
  {
   "cell_type": "markdown",
   "metadata": {},
   "source": [
    "Increase the number of lineas and columns displayed in the notebook:"
   ]
  },
  {
   "cell_type": "code",
   "execution_count": 3,
   "metadata": {},
   "outputs": [],
   "source": [
    "ENV[\"LINES\"]   = 100;\n",
    "ENV[\"COLUMNS\"] = 100;"
   ]
  },
  {
   "cell_type": "markdown",
   "metadata": {},
   "source": [
    "# Profitability Generalized Distance Function"
   ]
  },
  {
   "cell_type": "markdown",
   "metadata": {},
   "source": [
    "Data for the Profitability model:\n",
    "* `X`: Inputs.\n",
    "* `Y`: Outputs.\n",
    "* `W`: Price of Inputs.\n",
    "* `P`: Price of Outputs.\n",
    "* `FIRMS`: Name of Decision Making Units (DMUs)."
   ]
  },
  {
   "cell_type": "code",
   "execution_count": 4,
   "metadata": {},
   "outputs": [],
   "source": [
    "X = [2; 4; 8; 12; 6; 14; 14; 9.412];\n",
    "Y = [1; 5; 8; 9; 3; 7; 9; 2.353];\n",
    "W = [1; 1; 1; 1; 1; 1; 1; 1];\n",
    "P = [2; 2; 2; 2; 2; 2; 2; 2];\n",
    "FIRMS = [\"A\", \"B\", \"C\", \"D\", \"E\", \"F\", \"G\", \"H\"];"
   ]
  },
  {
   "cell_type": "code",
   "execution_count": 5,
   "metadata": {},
   "outputs": [
    {
     "name": "stdout",
     "output_type": "stream",
     "text": [
      "\n",
      "******************************************************************************\n",
      "This program contains Ipopt, a library for large-scale nonlinear optimization.\n",
      " Ipopt is released as open source code under the Eclipse Public License (EPL).\n",
      "         For more information visit https://github.com/coin-or/Ipopt\n",
      "******************************************************************************\n",
      "\n"
     ]
    },
    {
     "data": {
      "text/plain": [
       "Profitability DEA Model \n",
       "DMUs = 8; Inputs = 1; Outputs = 1\n",
       "alpha = 0.7; Returns to Scale = VRS\n",
       "──────────────────────────────────────────────────────────\n",
       "   Profitability       CRS       VRS     Scale  Allocative\n",
       "──────────────────────────────────────────────────────────\n",
       "A       0.4       0.4       1.0       0.4              1.0\n",
       "B       1.0       1.0       1.0       1.0              1.0\n",
       "C       0.8       0.8       1.0       0.8              1.0\n",
       "D       0.6       0.6       1.0       0.6              1.0\n",
       "E       0.4       0.4       0.423216  0.945144         1.0\n",
       "F       0.4       0.4       0.69836   0.572771         1.0\n",
       "G       0.514286  0.514286  1.0       0.514286         1.0\n",
       "H       0.2       0.2       0.231575  0.863652         1.0\n",
       "──────────────────────────────────────────────────────────"
      ]
     },
     "execution_count": 5,
     "metadata": {},
     "output_type": "execute_result"
    }
   ],
   "source": [
    "deaprofitability(X, Y, W, P, alpha = 0.7, names = FIRMS)"
   ]
  },
  {
   "cell_type": "markdown",
   "metadata": {},
   "source": [
    "Peers of the economic model:"
   ]
  },
  {
   "cell_type": "code",
   "execution_count": 6,
   "metadata": {},
   "outputs": [
    {
     "data": {
      "text/plain": [
       "8×8 SparseArrays.SparseMatrixCSC{Float64, Int64} with 64 stored entries:\n",
       " -5.81654e-9  1.0  1.53341e-8   -5.66747e-10  -5.81654e-9  -5.81654e-9  -3.34897e-9  -8.43285e-9\n",
       " -8.32804e-9  1.0  7.44826e-11  -6.2342e-9    -8.32804e-9  -8.32804e-9  -7.34325e-9  -9.37333e-9\n",
       " -7.90968e-9  1.0  2.60747e-9   -5.29085e-9   -7.90968e-9  -7.90968e-9  -6.67813e-9  -9.21662e-9\n",
       " -7.21218e-9  1.0  6.83973e-9   -3.7173e-9    -7.21218e-9  -7.21218e-9  -5.56896e-9  -8.95539e-9\n",
       " -5.81654e-9  1.0  1.53341e-8   -5.66747e-10  -5.81654e-9  -5.81654e-9  -3.34897e-9  -8.43285e-9\n",
       " -5.81654e-9  1.0  1.53341e-8   -5.66747e-10  -5.81654e-9  -5.81654e-9  -3.34897e-9  -8.43285e-9\n",
       " -6.74704e-9  1.0  9.66753e-9   -2.66752e-9   -6.74704e-9  -6.74704e-9  -4.82915e-9  -8.78122e-9\n",
       " -1.60908e-9  1.0  4.14789e-8    8.98608e-9   -1.60908e-9  -1.60908e-9   3.36214e-9  -6.86229e-9"
      ]
     },
     "execution_count": 6,
     "metadata": {},
     "output_type": "execute_result"
    }
   ],
   "source": [
    "peersmatrix(deaprofitability(X, Y, W, P, alpha = 0.7, names = FIRMS))"
   ]
  },
  {
   "cell_type": "markdown",
   "metadata": {},
   "source": [
    "Corresponding CRS technical efficiency model:"
   ]
  },
  {
   "cell_type": "code",
   "execution_count": 7,
   "metadata": {},
   "outputs": [
    {
     "data": {
      "text/plain": [
       "Generalized DF DEA Model \n",
       "DMUs = 8; Inputs = 1; Outputs = 1\n",
       "alpha = 0.7; Returns to Scale = CRS\n",
       "───────────────────────────────────────\n",
       "   efficiency       slackX1     slackY1\n",
       "───────────────────────────────────────\n",
       "A    0.4       -7.13508e-9   9.24223e-8\n",
       "B    1.0       -6.13652e-9   9.26254e-8\n",
       "C    0.8       -3.51481e-10  2.29462e-7\n",
       "D    0.6       -6.64391e-9   4.71868e-7\n",
       "E    0.4       -6.27262e-9   3.08669e-7\n",
       "F    0.4       -1.36406e-9   7.36871e-7\n",
       "G    0.514286  -6.49084e-9   6.20957e-7\n",
       "H    0.2       -3.72475e-9   8.28777e-7\n",
       "───────────────────────────────────────"
      ]
     },
     "execution_count": 7,
     "metadata": {},
     "output_type": "execute_result"
    }
   ],
   "source": [
    "deagdf(X, Y, alpha=0.7, rts = :CRS, names = FIRMS)"
   ]
  },
  {
   "cell_type": "markdown",
   "metadata": {},
   "source": [
    "Corresponding VRS technical efficiency model:"
   ]
  },
  {
   "cell_type": "code",
   "execution_count": 8,
   "metadata": {},
   "outputs": [
    {
     "data": {
      "text/plain": [
       "Generalized DF DEA Model \n",
       "DMUs = 8; Inputs = 1; Outputs = 1\n",
       "alpha = 0.7; Returns to Scale = VRS\n",
       "───────────────────────────────────────\n",
       "   efficiency      slackX1      slackY1\n",
       "───────────────────────────────────────\n",
       "A    1.0       -8.98485e-9   1.71357e-8\n",
       "B    1.0        7.30134e-8  -6.48103e-9\n",
       "C    1.0        1.8831e-7   -3.73784e-9\n",
       "D    1.0        4.37508e-7  -9.1726e-9\n",
       "E    0.423216   2.88698e-7  -3.80207e-9\n",
       "F    0.69836    0.570479    -9.19898e-9\n",
       "G    1.0        2.0         -9.58548e-9\n",
       "H    0.231575   6.85276e-7  -4.3204e-9\n",
       "───────────────────────────────────────"
      ]
     },
     "execution_count": 8,
     "metadata": {},
     "output_type": "execute_result"
    }
   ],
   "source": [
    "deagdf(X, Y, alpha=0.7, rts = :VRS, names = FIRMS)"
   ]
  },
  {
   "cell_type": "markdown",
   "metadata": {},
   "source": [
    "Obtain information on the reference peers:"
   ]
  },
  {
   "cell_type": "code",
   "execution_count": 9,
   "metadata": {},
   "outputs": [
    {
     "data": {
      "text/plain": [
       "8×8 SparseArrays.SparseMatrixCSC{Float64, Int64} with 64 stored entries:\n",
       "  1.0          1.39858e-7  -9.06917e-9  -9.60783e-9  …  -9.73738e-9  -9.7052e-9    -9.64812e-9\n",
       " -4.76614e-9   1.0          5.81043e-8  -7.69674e-9     -8.70085e-9  -8.37963e-9   -8.59559e-9\n",
       " -5.15113e-9   1.29585e-8   1.0          4.73081e-9     -5.88203e-9  -2.32417e-9   -7.2318e-9\n",
       " -6.94764e-9  -2.47612e-9   5.51169e-8   1.0            -2.52383e-9  -1.84126e-9   -7.01253e-9\n",
       "  1.8258e-9    0.841063     0.158937     6.18974e-9     -4.37197e-9  -9.69289e-10  -5.47347e-9\n",
       " -7.31643e-9  -4.79564e-9   9.20655e-9   0.901838    …   1.82433e-9   0.0981624    -6.65011e-9\n",
       " -8.03275e-9  -6.0919e-9    5.42282e-9   0.691041       -1.87647e-9   0.308959     -7.60864e-9\n",
       "  1.83095e-8   0.482847     0.517153     2.54352e-8      2.64741e-9   9.98956e-9    3.61811e-10"
      ]
     },
     "execution_count": 9,
     "metadata": {},
     "output_type": "execute_result"
    }
   ],
   "source": [
    "peersmatrix(deagdf(X, Y, alpha=0.7, rts = :VRS, names = FIRMS))"
   ]
  },
  {
   "cell_type": "code",
   "execution_count": null,
   "metadata": {},
   "outputs": [],
   "source": []
  }
 ],
 "metadata": {
  "@webio": {
   "lastCommId": null,
   "lastKernelId": null
  },
  "kernelspec": {
   "display_name": "Julia 1.7.3",
   "language": "julia",
   "name": "julia-1.7"
  },
  "language_info": {
   "file_extension": ".jl",
   "mimetype": "application/julia",
   "name": "julia",
   "version": "1.7.3"
  }
 },
 "nbformat": 4,
 "nbformat_minor": 4
}
