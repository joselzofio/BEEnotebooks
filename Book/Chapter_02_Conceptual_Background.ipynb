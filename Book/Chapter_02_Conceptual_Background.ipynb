{
 "cells": [
  {
   "cell_type": "markdown",
   "metadata": {},
   "source": [
    "# Chapter 2. Conceptual Background: Firms’ Objectives, Decision Variables, and Economic Efficiency:"
   ]
  },
  {
   "cell_type": "markdown",
   "metadata": {},
   "source": [
    "Install requiered packages:"
   ]
  },
  {
   "cell_type": "code",
   "execution_count": null,
   "metadata": {},
   "outputs": [],
   "source": [
    "using Pkg\n",
    "Pkg.add(\"DataEnvelopmentAnalysis\")\n",
    "Pkg.add(\"BenchmarkingEconomicEfficiency\")"
   ]
  },
  {
   "cell_type": "markdown",
   "metadata": {},
   "source": [
    "Or, instantiate environment to install required packages:"
   ]
  },
  {
   "cell_type": "code",
   "execution_count": 1,
   "metadata": {},
   "outputs": [],
   "source": [
    "using Pkg\n",
    "Pkg.instantiate()"
   ]
  },
  {
   "cell_type": "markdown",
   "metadata": {},
   "source": [
    "Load required packages:"
   ]
  },
  {
   "cell_type": "code",
   "execution_count": 2,
   "metadata": {},
   "outputs": [],
   "source": [
    "using DataEnvelopmentAnalysis\n",
    "using BenchmarkingEconomicEfficiency"
   ]
  },
  {
   "cell_type": "markdown",
   "metadata": {},
   "source": [
    "Increase the number of lineas and columns displayed in the notebook:"
   ]
  },
  {
   "cell_type": "code",
   "execution_count": 3,
   "metadata": {},
   "outputs": [],
   "source": [
    "ENV[\"LINES\"]   = 100;\n",
    "ENV[\"COLUMNS\"] = 100;"
   ]
  },
  {
   "cell_type": "markdown",
   "metadata": {},
   "source": [
    "# Cost Radial Model"
   ]
  },
  {
   "cell_type": "markdown",
   "metadata": {},
   "source": [
    "Data for the Cost model:\n",
    "* `X`: Inputs.\n",
    "* `Y`: Outputs.\n",
    "* `W`: Price of Inputs.\n",
    "* `FIRMS`: Name of Decision Making Units (DMUs)."
   ]
  },
  {
   "cell_type": "code",
   "execution_count": 4,
   "metadata": {},
   "outputs": [],
   "source": [
    "X = [2 2; 1 4; 4 1; 4 3; 5 5; 6 1; 2 5; 1.6 8];\n",
    "Y = [1; 1; 1; 1; 1; 1; 1; 1];\n",
    "W = [1 1; 1 1; 1 1; 1 1; 1 1; 1 1; 1 1; 1 1];\n",
    "FIRMS = [\"A\", \"B\", \"C\", \"D\", \"E\", \"F\", \"G\", \"H\"];"
   ]
  },
  {
   "cell_type": "code",
   "execution_count": 5,
   "metadata": {},
   "outputs": [
    {
     "data": {
      "text/plain": [
       "Cost DEA Model \n",
       "DMUs = 8; Inputs = 2; Outputs = 1\n",
       "Orientation = Input; Returns to Scale = VRS\n",
       "──────────────────────────────────\n",
       "       Cost  Technical  Allocative\n",
       "──────────────────────────────────\n",
       "A  1.0        1.0         1.0\n",
       "B  0.8        1.0         0.8\n",
       "C  0.8        1.0         0.8\n",
       "D  0.571429   0.6         0.952381\n",
       "E  0.4        0.4         1.0\n",
       "F  0.571429   1.0         0.571429\n",
       "G  0.571429   0.666667    0.857143\n",
       "H  0.416667   0.625       0.666667\n",
       "──────────────────────────────────"
      ]
     },
     "execution_count": 5,
     "metadata": {},
     "output_type": "execute_result"
    }
   ],
   "source": [
    "deacost(X, Y, W, names = FIRMS)"
   ]
  },
  {
   "cell_type": "markdown",
   "metadata": {},
   "source": [
    "Corresponding technical efficiency model:"
   ]
  },
  {
   "cell_type": "code",
   "execution_count": 6,
   "metadata": {},
   "outputs": [
    {
     "data": {
      "text/plain": [
       "Radial DEA Model \n",
       "DMUs = 8; Inputs = 2; Outputs = 1\n",
       "Orientation = Input; Returns to Scale = VRS\n",
       "────────────────────────────────────────────────\n",
       "   efficiency      slackX1      slackX2  slackY1\n",
       "────────────────────────────────────────────────\n",
       "A    1.0       0.0          0.0              0.0\n",
       "B    1.0       0.0          0.0              0.0\n",
       "C    1.0       0.0          0.0              0.0\n",
       "D    0.6       8.32667e-16  0.0              0.0\n",
       "E    0.4       0.0          0.0              0.0\n",
       "F    1.0       2.0          0.0              0.0\n",
       "G    0.666667  0.0          6.66134e-16      0.0\n",
       "H    0.625     0.0          1.0              0.0\n",
       "────────────────────────────────────────────────"
      ]
     },
     "execution_count": 6,
     "metadata": {},
     "output_type": "execute_result"
    }
   ],
   "source": [
    "dea(X, Y, orient = :Input, rts = :VRS, names = FIRMS)"
   ]
  },
  {
   "cell_type": "markdown",
   "metadata": {},
   "source": [
    "Obtain information on the reference peers:"
   ]
  },
  {
   "cell_type": "code",
   "execution_count": 7,
   "metadata": {},
   "outputs": [
    {
     "data": {
      "text/plain": [
       "8×8 SparseArrays.SparseMatrixCSC{Float64, Int64} with 10 stored entries:\n",
       " 1.0        ⋅         ⋅    ⋅    ⋅    ⋅    ⋅    ⋅ \n",
       "  ⋅        1.0        ⋅    ⋅    ⋅    ⋅    ⋅    ⋅ \n",
       "  ⋅         ⋅        1.0   ⋅    ⋅    ⋅    ⋅    ⋅ \n",
       " 0.8        ⋅        0.2   ⋅    ⋅    ⋅    ⋅    ⋅ \n",
       " 1.0        ⋅         ⋅    ⋅    ⋅    ⋅    ⋅    ⋅ \n",
       "  ⋅         ⋅         ⋅    ⋅    ⋅   1.0   ⋅    ⋅ \n",
       " 0.333333  0.666667   ⋅    ⋅    ⋅    ⋅    ⋅    ⋅ \n",
       "  ⋅        1.0        ⋅    ⋅    ⋅    ⋅    ⋅    ⋅ "
      ]
     },
     "execution_count": 7,
     "metadata": {},
     "output_type": "execute_result"
    }
   ],
   "source": [
    "peersmatrix(dea(X, Y, orient = :Input, rts = :VRS, names = FIRMS))"
   ]
  },
  {
   "cell_type": "markdown",
   "metadata": {},
   "source": [
    "# Profitability Model"
   ]
  },
  {
   "cell_type": "markdown",
   "metadata": {},
   "source": [
    "Data for the Profitability model:\n",
    "* `X`: Inputs.\n",
    "* `Y`: Outputs.\n",
    "* `W`: Price of Inputs.\n",
    "* `P`: Price of Outputs.\n",
    "* `FIRMS`: Name of Decision Making Units (DMUs)."
   ]
  },
  {
   "cell_type": "code",
   "execution_count": 8,
   "metadata": {},
   "outputs": [],
   "source": [
    "X = [2; 4; 8; 12; 6; 14; 14; 9.412];\n",
    "Y = [1; 5; 8; 9; 3; 7; 9; 2.353];\n",
    "W = [1; 1; 1; 1; 1; 1; 1; 1];\n",
    "P = [2; 2; 2; 2; 2; 2; 2; 2];\n",
    "FIRMS = [\"A\", \"B\", \"C\", \"D\", \"E\", \"F\", \"G\", \"H\"];"
   ]
  },
  {
   "cell_type": "code",
   "execution_count": 9,
   "metadata": {},
   "outputs": [
    {
     "name": "stdout",
     "output_type": "stream",
     "text": [
      "\n",
      "******************************************************************************\n",
      "This program contains Ipopt, a library for large-scale nonlinear optimization.\n",
      " Ipopt is released as open source code under the Eclipse Public License (EPL).\n",
      "         For more information visit https://github.com/coin-or/Ipopt\n",
      "******************************************************************************\n",
      "\n"
     ]
    },
    {
     "data": {
      "text/plain": [
       "Profitability DEA Model \n",
       "DMUs = 8; Inputs = 1; Outputs = 1\n",
       "alpha = 0.5; Returns to Scale = VRS\n",
       "──────────────────────────────────────────────────────────\n",
       "   Profitability       CRS       VRS     Scale  Allocative\n",
       "──────────────────────────────────────────────────────────\n",
       "A       0.4       0.4       1.0       0.4              1.0\n",
       "B       1.0       1.0       1.0       1.0              1.0\n",
       "C       0.8       0.8       1.0       0.8              1.0\n",
       "D       0.6       0.6       1.0       0.6              1.0\n",
       "E       0.4       0.4       0.410097  0.975379         1.0\n",
       "F       0.4       0.4       0.634489  0.630429         1.0\n",
       "G       0.514286  0.514286  1.0       0.514286         1.0\n",
       "H       0.2       0.2       0.20504   0.975422         1.0\n",
       "──────────────────────────────────────────────────────────"
      ]
     },
     "execution_count": 9,
     "metadata": {},
     "output_type": "execute_result"
    }
   ],
   "source": [
    "deaprofitability(X, Y, W, P, names = FIRMS)"
   ]
  },
  {
   "cell_type": "markdown",
   "metadata": {},
   "source": [
    "Corresponding technical efficiency model:"
   ]
  },
  {
   "cell_type": "code",
   "execution_count": 10,
   "metadata": {},
   "outputs": [
    {
     "data": {
      "text/plain": [
       "Generalized DF DEA Model \n",
       "DMUs = 8; Inputs = 1; Outputs = 1\n",
       "alpha = 0.5; Returns to Scale = VRS\n",
       "───────────────────────────────────────\n",
       "   efficiency      slackX1      slackY1\n",
       "───────────────────────────────────────\n",
       "A    1.0       -8.74269e-9  -7.12218e-9\n",
       "B    1.0        7.11649e-8  -6.45486e-9\n",
       "C    1.0        1.4928e-7   -3.53146e-9\n",
       "D    1.0        4.42921e-7  -9.17335e-9\n",
       "E    0.410097  -9.15719e-9   2.76916e-7\n",
       "F    0.634489   7.30813e-7  -9.6951e-9\n",
       "G    1.0        2.0         -9.7102e-9\n",
       "H    0.20504    5.92003e-7  -7.33769e-9\n",
       "───────────────────────────────────────"
      ]
     },
     "execution_count": 10,
     "metadata": {},
     "output_type": "execute_result"
    }
   ],
   "source": [
    "deagdf(X, Y, alpha = 0.5, rts = :VRS, names = FIRMS)"
   ]
  },
  {
   "cell_type": "code",
   "execution_count": null,
   "metadata": {},
   "outputs": [],
   "source": []
  }
 ],
 "metadata": {
  "@webio": {
   "lastCommId": null,
   "lastKernelId": null
  },
  "kernelspec": {
   "display_name": "Julia 1.7.3",
   "language": "julia",
   "name": "julia-1.7"
  },
  "language_info": {
   "file_extension": ".jl",
   "mimetype": "application/julia",
   "name": "julia",
   "version": "1.7.3"
  }
 },
 "nbformat": 4,
 "nbformat_minor": 4
}
