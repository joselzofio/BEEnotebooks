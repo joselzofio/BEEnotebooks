{
 "cells": [
  {
   "cell_type": "markdown",
   "metadata": {},
   "source": [
    "# Chapter 6. The Weighted Additive Distance Function (WADF): Economic Inefficiency Decompositions"
   ]
  },
  {
   "cell_type": "markdown",
   "metadata": {},
   "source": [
    "Install requiered packages:"
   ]
  },
  {
   "cell_type": "code",
   "execution_count": null,
   "metadata": {},
   "outputs": [],
   "source": [
    "using Pkg\n",
    "Pkg.add(\"DataEnvelopmentAnalysis\")\n",
    "Pkg.add(\"BenchmarkingEconomicEfficiency\")"
   ]
  },
  {
   "cell_type": "markdown",
   "metadata": {},
   "source": [
    "Or, instantiate environment to install required packages:"
   ]
  },
  {
   "cell_type": "code",
   "execution_count": 1,
   "metadata": {},
   "outputs": [],
   "source": [
    "using Pkg\n",
    "Pkg.instantiate()"
   ]
  },
  {
   "cell_type": "markdown",
   "metadata": {},
   "source": [
    "Load required packages:"
   ]
  },
  {
   "cell_type": "code",
   "execution_count": 2,
   "metadata": {},
   "outputs": [],
   "source": [
    "using DataEnvelopmentAnalysis\n",
    "using BenchmarkingEconomicEfficiency"
   ]
  },
  {
   "cell_type": "markdown",
   "metadata": {},
   "source": [
    "Increase the number of lineas and columns displayed in the notebook:"
   ]
  },
  {
   "cell_type": "code",
   "execution_count": 3,
   "metadata": {},
   "outputs": [],
   "source": [
    "ENV[\"LINES\"]   = 100;\n",
    "ENV[\"COLUMNS\"] = 100;"
   ]
  },
  {
   "cell_type": "markdown",
   "metadata": {},
   "source": [
    "# Profit Additive"
   ]
  },
  {
   "cell_type": "markdown",
   "metadata": {},
   "source": [
    "Data for the Profit model:\n",
    "* `X`: Inputs.\n",
    "* `Y`: Outputs.\n",
    "* `W`: Price of Inputs.\n",
    "* `P`: Price of Outputs.\n",
    "* `FIRMS`: Name of Decision Making Units (DMUs)."
   ]
  },
  {
   "cell_type": "code",
   "execution_count": 4,
   "metadata": {},
   "outputs": [],
   "source": [
    "X = [2; 4; 8; 12; 6; 14; 14; 9.412];\n",
    "Y = [1; 5; 8; 9; 3; 7; 9; 2.353];\n",
    "W = [1; 1; 1; 1; 1; 1; 1; 1];\n",
    "P = [2; 2; 2; 2; 2; 2; 2; 2];\n",
    "FIRMS = [\"A\"; \"B\"; \"C\"; \"D\"; \"E\"; \"F\"; \"G\"; \"H\"];"
   ]
  },
  {
   "cell_type": "code",
   "execution_count": 5,
   "metadata": {},
   "outputs": [
    {
     "data": {
      "text/plain": [
       "Profit Additive DEA Model \n",
       "DMUs = 8; Inputs = 1; Outputs = 1\n",
       "Weights = Ones; Returns to Scale = VRS\n",
       "────────────────────────────────\n",
       "   Profit  Technical  Allocative\n",
       "────────────────────────────────\n",
       "A   8.0      0.0        8.0\n",
       "B   2.0      0.0        2.0\n",
       "C   0.0      0.0        0.0\n",
       "D   2.0      0.0        2.0\n",
       "E   8.0      4.0        4.0\n",
       "F   8.0      7.33333    0.666667\n",
       "G   4.0      2.0        2.0\n",
       "H  12.706    8.059      4.647\n",
       "────────────────────────────────"
      ]
     },
     "execution_count": 5,
     "metadata": {},
     "output_type": "execute_result"
    }
   ],
   "source": [
    "deaprofitadd(X, Y, W, P, names = FIRMS)"
   ]
  },
  {
   "cell_type": "markdown",
   "metadata": {},
   "source": [
    "Peers of the economic model:"
   ]
  },
  {
   "cell_type": "code",
   "execution_count": 6,
   "metadata": {},
   "outputs": [
    {
     "data": {
      "text/plain": [
       "8×8 SparseArrays.SparseMatrixCSC{Float64, Int64} with 8 stored entries:\n",
       "  ⋅    ⋅   1.0   ⋅    ⋅    ⋅    ⋅    ⋅ \n",
       "  ⋅    ⋅   1.0   ⋅    ⋅    ⋅    ⋅    ⋅ \n",
       "  ⋅    ⋅   1.0   ⋅    ⋅    ⋅    ⋅    ⋅ \n",
       "  ⋅    ⋅   1.0   ⋅    ⋅    ⋅    ⋅    ⋅ \n",
       "  ⋅    ⋅   1.0   ⋅    ⋅    ⋅    ⋅    ⋅ \n",
       "  ⋅    ⋅   1.0   ⋅    ⋅    ⋅    ⋅    ⋅ \n",
       "  ⋅    ⋅   1.0   ⋅    ⋅    ⋅    ⋅    ⋅ \n",
       "  ⋅    ⋅   1.0   ⋅    ⋅    ⋅    ⋅    ⋅ "
      ]
     },
     "execution_count": 6,
     "metadata": {},
     "output_type": "execute_result"
    }
   ],
   "source": [
    "peersmatrix(deaprofitadd(X, Y, W, P, names = FIRMS))"
   ]
  },
  {
   "cell_type": "markdown",
   "metadata": {},
   "source": [
    "Corresponding technical efficiency model:"
   ]
  },
  {
   "cell_type": "code",
   "execution_count": 7,
   "metadata": {},
   "outputs": [
    {
     "data": {
      "text/plain": [
       "Weighted Additive DEA Model \n",
       "DMUs = 8; Inputs = 1; Outputs = 1\n",
       "Orientation = Graph; Returns to Scale = VRS\n",
       "Weights = Ones\n",
       "───────────────────────────────\n",
       "   efficiency  slackX1  slackY1\n",
       "───────────────────────────────\n",
       "A     0.0      0.0        0.0\n",
       "B     0.0      0.0        0.0\n",
       "C     0.0      0.0        0.0\n",
       "D     0.0      0.0        0.0\n",
       "E     4.0      2.0        2.0\n",
       "F     7.33333  7.33333    0.0\n",
       "G     2.0      2.0        0.0\n",
       "H     8.059    5.412      2.647\n",
       "───────────────────────────────"
      ]
     },
     "execution_count": 7,
     "metadata": {},
     "output_type": "execute_result"
    }
   ],
   "source": [
    "deaadd(X, Y, names = FIRMS)"
   ]
  },
  {
   "cell_type": "markdown",
   "metadata": {},
   "source": [
    "Obtain information on the reference peers:"
   ]
  },
  {
   "cell_type": "code",
   "execution_count": 8,
   "metadata": {},
   "outputs": [
    {
     "data": {
      "text/plain": [
       "8×8 SparseArrays.SparseMatrixCSC{Float64, Int64} with 10 stored entries:\n",
       " 1.0   ⋅          ⋅            ⋅    ⋅    ⋅    ⋅    ⋅ \n",
       "  ⋅   1.0         ⋅            ⋅    ⋅    ⋅    ⋅    ⋅ \n",
       "  ⋅    ⋅         1.0           ⋅    ⋅    ⋅    ⋅    ⋅ \n",
       "  ⋅    ⋅          ⋅           1.0   ⋅    ⋅    ⋅    ⋅ \n",
       "  ⋅   1.0         ⋅            ⋅    ⋅    ⋅    ⋅    ⋅ \n",
       "  ⋅   0.333333   0.666667      ⋅    ⋅    ⋅    ⋅    ⋅ \n",
       "  ⋅    ⋅        -1.55431e-15  1.0   ⋅    ⋅    ⋅    ⋅ \n",
       "  ⋅   1.0         ⋅            ⋅    ⋅    ⋅    ⋅    ⋅ "
      ]
     },
     "execution_count": 8,
     "metadata": {},
     "output_type": "execute_result"
    }
   ],
   "source": [
    "peersmatrix(deaadd(X, Y, names = FIRMS))"
   ]
  },
  {
   "cell_type": "markdown",
   "metadata": {},
   "source": [
    "# Cost Weighted Additive"
   ]
  },
  {
   "cell_type": "markdown",
   "metadata": {},
   "source": [
    "Data for the Cost model:\n",
    "* `X`: Inputs.\n",
    "* `Y`: Outputs.\n",
    "* `W`: Price of Inputs.\n",
    "* `FIRMS`: Name of Decision Making Units (DMUs)."
   ]
  },
  {
   "cell_type": "code",
   "execution_count": 9,
   "metadata": {},
   "outputs": [],
   "source": [
    "X = [2 2; 1 4; 4 1; 4 3; 5 5; 6 1; 2 5; 1.6 8];\n",
    "Y = [1; 1; 1; 1; 1; 1; 1; 1];\n",
    "W = [1 1; 1 1; 1 1; 1 1; 1 1; 1 1; 1 1; 1 1];\n",
    "FIRMS = [\"A\"; \"B\"; \"C\"; \"D\"; \"E\"; \"F\"; \"G\"; \"H\"];"
   ]
  },
  {
   "cell_type": "code",
   "execution_count": 10,
   "metadata": {},
   "outputs": [
    {
     "data": {
      "text/plain": [
       "Cost Additive DEA Model \n",
       "DMUs = 8; Inputs = 2; Outputs = 1\n",
       "Orientation = Input; Returns to Scale = VRS\n",
       "Weights = MIP\n",
       "────────────────────────────────\n",
       "   Cost  Technical    Allocative\n",
       "────────────────────────────────\n",
       "A   0.0   0.0        0.0\n",
       "B   1.0   0.0        1.0\n",
       "C   1.0   0.0        1.0\n",
       "D   1.0   0.833333   0.166667\n",
       "E   1.2   1.2       -2.22045e-16\n",
       "F   3.0   0.333333   2.66667\n",
       "G   1.5   0.7        0.8\n",
       "H   3.5   0.875      2.625\n",
       "────────────────────────────────"
      ]
     },
     "execution_count": 10,
     "metadata": {},
     "output_type": "execute_result"
    }
   ],
   "source": [
    "deacostadd(X, Y, W, :MIP, names = FIRMS)"
   ]
  },
  {
   "cell_type": "markdown",
   "metadata": {},
   "source": [
    "Peers of the economic model:"
   ]
  },
  {
   "cell_type": "code",
   "execution_count": 11,
   "metadata": {},
   "outputs": [
    {
     "data": {
      "text/plain": [
       "8×8 SparseArrays.SparseMatrixCSC{Float64, Int64} with 8 stored entries:\n",
       " 1.0   ⋅    ⋅    ⋅    ⋅    ⋅    ⋅    ⋅ \n",
       " 1.0   ⋅    ⋅    ⋅    ⋅    ⋅    ⋅    ⋅ \n",
       " 1.0   ⋅    ⋅    ⋅    ⋅    ⋅    ⋅    ⋅ \n",
       " 1.0   ⋅    ⋅    ⋅    ⋅    ⋅    ⋅    ⋅ \n",
       " 1.0   ⋅    ⋅    ⋅    ⋅    ⋅    ⋅    ⋅ \n",
       " 1.0   ⋅    ⋅    ⋅    ⋅    ⋅    ⋅    ⋅ \n",
       " 1.0   ⋅    ⋅    ⋅    ⋅    ⋅    ⋅    ⋅ \n",
       " 1.0   ⋅    ⋅    ⋅    ⋅    ⋅    ⋅    ⋅ "
      ]
     },
     "execution_count": 11,
     "metadata": {},
     "output_type": "execute_result"
    }
   ],
   "source": [
    "peersmatrix(deacostadd(X, Y, W, :MIP, names = FIRMS))"
   ]
  },
  {
   "cell_type": "markdown",
   "metadata": {},
   "source": [
    "Corresponding technical efficiency model:"
   ]
  },
  {
   "cell_type": "code",
   "execution_count": 12,
   "metadata": {},
   "outputs": [
    {
     "data": {
      "text/plain": [
       "Weighted Additive DEA Model \n",
       "DMUs = 8; Inputs = 2; Outputs = 1\n",
       "Orientation = Input; Returns to Scale = VRS\n",
       "Weights = MIP\n",
       "─────────────────────────────────────────────\n",
       "   efficiency  slackX1       slackX2  slackY1\n",
       "─────────────────────────────────────────────\n",
       "A    0.0           0.0   0.0              0.0\n",
       "B    0.0           0.0   0.0              0.0\n",
       "C    0.0           0.0   0.0              0.0\n",
       "D    0.833333      2.0   1.0              0.0\n",
       "E    1.2           3.0   3.0              0.0\n",
       "F    0.333333      2.0  -4.62593e-17      0.0\n",
       "G    0.7           1.0   1.0              0.0\n",
       "H    0.875         0.6   4.0              0.0\n",
       "─────────────────────────────────────────────"
      ]
     },
     "execution_count": 12,
     "metadata": {},
     "output_type": "execute_result"
    }
   ],
   "source": [
    "deaadd(X, Y, orient = :Input, :MIP, names = FIRMS)"
   ]
  },
  {
   "cell_type": "markdown",
   "metadata": {},
   "source": [
    "Obtain information on the reference peers:"
   ]
  },
  {
   "cell_type": "code",
   "execution_count": 13,
   "metadata": {
    "scrolled": true
   },
   "outputs": [
    {
     "data": {
      "text/plain": [
       "8×8 SparseArrays.SparseMatrixCSC{Float64, Int64} with 8 stored entries:\n",
       " 1.0   ⋅    ⋅    ⋅    ⋅    ⋅    ⋅    ⋅ \n",
       "  ⋅   1.0   ⋅    ⋅    ⋅    ⋅    ⋅    ⋅ \n",
       "  ⋅    ⋅   1.0   ⋅    ⋅    ⋅    ⋅    ⋅ \n",
       " 1.0   ⋅    ⋅    ⋅    ⋅    ⋅    ⋅    ⋅ \n",
       " 1.0   ⋅    ⋅    ⋅    ⋅    ⋅    ⋅    ⋅ \n",
       "  ⋅    ⋅   1.0   ⋅    ⋅    ⋅    ⋅    ⋅ \n",
       "  ⋅   1.0   ⋅    ⋅    ⋅    ⋅    ⋅    ⋅ \n",
       "  ⋅   1.0   ⋅    ⋅    ⋅    ⋅    ⋅    ⋅ "
      ]
     },
     "execution_count": 13,
     "metadata": {},
     "output_type": "execute_result"
    }
   ],
   "source": [
    "peersmatrix(deaadd(X, Y, orient = :Input, :MIP, names = FIRMS))"
   ]
  },
  {
   "cell_type": "markdown",
   "metadata": {},
   "source": [
    "# Revenue Weighted Additive"
   ]
  },
  {
   "cell_type": "markdown",
   "metadata": {},
   "source": [
    "Data for the Revenue model:\n",
    "* `X`: Inputs.\n",
    "* `Y`: Outputs.\n",
    "* `P`: Price of Outputs.\n",
    "* `FIRMS`: Name of Decision Making Units (DMUs)."
   ]
  },
  {
   "cell_type": "code",
   "execution_count": 14,
   "metadata": {},
   "outputs": [],
   "source": [
    "X = [1; 1; 1; 1; 1; 1; 1; 1];\n",
    "Y = [7 7; 4 8; 8 4; 3 5; 3 3; 8 2; 6 4; 1.5 5];\n",
    "P = [1 1; 1 1; 1 1; 1 1; 1 1; 1 1; 1 1; 1 1];\n",
    "FIRMS = [\"A\"; \"B\"; \"C\"; \"D\"; \"E\"; \"F\"; \"G\"; \"H\"];"
   ]
  },
  {
   "cell_type": "code",
   "execution_count": 15,
   "metadata": {},
   "outputs": [
    {
     "data": {
      "text/plain": [
       "Revenue Additive DEA Model \n",
       "DMUs = 8; Inputs = 1; Outputs = 2\n",
       "Orientation = Output; Returns to Scale = VRS\n",
       "Weights = RAM\n",
       "──────────────────────────────────\n",
       "    Revenue  Technical  Allocative\n",
       "──────────────────────────────────\n",
       "A  0.0        0.0       0.0\n",
       "B  0.166667   0.0       0.166667\n",
       "C  0.166667   0.0       0.166667\n",
       "D  0.5        0.474359  0.025641\n",
       "E  0.666667   0.641026  0.025641\n",
       "F  0.333333   0.166667  0.166667\n",
       "G  0.333333   0.326923  0.00641026\n",
       "H  0.625      0.589744  0.0352564\n",
       "──────────────────────────────────"
      ]
     },
     "execution_count": 15,
     "metadata": {},
     "output_type": "execute_result"
    }
   ],
   "source": [
    "dearevenueadd(X, Y, P, :RAM, names = FIRMS)"
   ]
  },
  {
   "cell_type": "markdown",
   "metadata": {},
   "source": [
    "Peers of the economic model:"
   ]
  },
  {
   "cell_type": "code",
   "execution_count": 16,
   "metadata": {},
   "outputs": [
    {
     "data": {
      "text/plain": [
       "8×8 SparseArrays.SparseMatrixCSC{Float64, Int64} with 8 stored entries:\n",
       " 1.0   ⋅    ⋅    ⋅    ⋅    ⋅    ⋅    ⋅ \n",
       " 1.0   ⋅    ⋅    ⋅    ⋅    ⋅    ⋅    ⋅ \n",
       " 1.0   ⋅    ⋅    ⋅    ⋅    ⋅    ⋅    ⋅ \n",
       " 1.0   ⋅    ⋅    ⋅    ⋅    ⋅    ⋅    ⋅ \n",
       " 1.0   ⋅    ⋅    ⋅    ⋅    ⋅    ⋅    ⋅ \n",
       " 1.0   ⋅    ⋅    ⋅    ⋅    ⋅    ⋅    ⋅ \n",
       " 1.0   ⋅    ⋅    ⋅    ⋅    ⋅    ⋅    ⋅ \n",
       " 1.0   ⋅    ⋅    ⋅    ⋅    ⋅    ⋅    ⋅ "
      ]
     },
     "execution_count": 16,
     "metadata": {},
     "output_type": "execute_result"
    }
   ],
   "source": [
    "peersmatrix(dearevenueadd(X, Y, P, :RAM, names = FIRMS))"
   ]
  },
  {
   "cell_type": "markdown",
   "metadata": {},
   "source": [
    "Corresponding technical efficiency model:"
   ]
  },
  {
   "cell_type": "code",
   "execution_count": 17,
   "metadata": {},
   "outputs": [
    {
     "data": {
      "text/plain": [
       "Weighted Additive DEA Model \n",
       "DMUs = 8; Inputs = 1; Outputs = 2\n",
       "Orientation = Output; Returns to Scale = VRS\n",
       "Weights = RAM\n",
       "────────────────────────────────────────\n",
       "   efficiency  slackX1  slackY1  slackY2\n",
       "────────────────────────────────────────\n",
       "A    0.0           0.0      0.0      0.0\n",
       "B    0.0           0.0      0.0      0.0\n",
       "C    0.0           0.0      0.0      0.0\n",
       "D    0.474359      0.0      4.0      2.0\n",
       "E    0.641026      0.0      4.0      4.0\n",
       "F    0.166667      0.0      0.0      2.0\n",
       "G    0.326923      0.0      1.0      3.0\n",
       "H    0.589744      0.0      5.5      2.0\n",
       "────────────────────────────────────────"
      ]
     },
     "execution_count": 17,
     "metadata": {},
     "output_type": "execute_result"
    }
   ],
   "source": [
    "deaadd(X, Y, orient = :Output, :RAM, names = FIRMS)"
   ]
  },
  {
   "cell_type": "markdown",
   "metadata": {},
   "source": [
    "Obtain information on the reference peers:"
   ]
  },
  {
   "cell_type": "code",
   "execution_count": 18,
   "metadata": {},
   "outputs": [
    {
     "data": {
      "text/plain": [
       "8×8 SparseArrays.SparseMatrixCSC{Float64, Int64} with 9 stored entries:\n",
       " 1.0           ⋅    ⋅    ⋅    ⋅    ⋅    ⋅    ⋅ \n",
       "  ⋅           1.0   ⋅    ⋅    ⋅    ⋅    ⋅    ⋅ \n",
       "  ⋅            ⋅   1.0   ⋅    ⋅    ⋅    ⋅    ⋅ \n",
       " 1.0           ⋅    ⋅    ⋅    ⋅    ⋅    ⋅    ⋅ \n",
       " 1.0           ⋅    ⋅    ⋅    ⋅    ⋅    ⋅    ⋅ \n",
       " 2.53765e-16   ⋅   1.0   ⋅    ⋅    ⋅    ⋅    ⋅ \n",
       " 1.0           ⋅    ⋅    ⋅    ⋅    ⋅    ⋅    ⋅ \n",
       " 1.0           ⋅    ⋅    ⋅    ⋅    ⋅    ⋅    ⋅ "
      ]
     },
     "execution_count": 18,
     "metadata": {},
     "output_type": "execute_result"
    }
   ],
   "source": [
    "peersmatrix(deaadd(X, Y, orient = :Output, :RAM, names = FIRMS))"
   ]
  },
  {
   "cell_type": "code",
   "execution_count": null,
   "metadata": {},
   "outputs": [],
   "source": []
  }
 ],
 "metadata": {
  "@webio": {
   "lastCommId": null,
   "lastKernelId": null
  },
  "kernelspec": {
   "display_name": "Julia 1.7.3",
   "language": "julia",
   "name": "julia-1.7"
  },
  "language_info": {
   "file_extension": ".jl",
   "mimetype": "application/julia",
   "name": "julia",
   "version": "1.7.3"
  }
 },
 "nbformat": 4,
 "nbformat_minor": 4
}
