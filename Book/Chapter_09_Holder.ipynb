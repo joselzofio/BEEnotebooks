{
 "cells": [
  {
   "cell_type": "markdown",
   "metadata": {},
   "source": [
    "# Chapter 9: The Hölder Distance Functions: Economic Inefficiency Decompositions"
   ]
  },
  {
   "cell_type": "markdown",
   "metadata": {},
   "source": [
    "Install requiered packages:"
   ]
  },
  {
   "cell_type": "code",
   "execution_count": null,
   "metadata": {},
   "outputs": [],
   "source": [
    "using Pkg\n",
    "Pkg.add(\"DataEnvelopmentAnalysis\")\n",
    "Pkg.add(\"BenchmarkingEconomicEfficiency\")\n",
    "Pkg.add(\"Gurobi\")"
   ]
  },
  {
   "cell_type": "markdown",
   "metadata": {},
   "source": [
    "Or, instantiate environment to install required packages:"
   ]
  },
  {
   "cell_type": "code",
   "execution_count": 1,
   "metadata": {},
   "outputs": [],
   "source": [
    "using Pkg\n",
    "Pkg.instantiate()"
   ]
  },
  {
   "cell_type": "markdown",
   "metadata": {},
   "source": [
    "Load required packages:"
   ]
  },
  {
   "cell_type": "code",
   "execution_count": 2,
   "metadata": {},
   "outputs": [],
   "source": [
    "using DataEnvelopmentAnalysis\n",
    "using BenchmarkingEconomicEfficiency\n",
    "using Gurobi"
   ]
  },
  {
   "cell_type": "markdown",
   "metadata": {},
   "source": [
    "Increase the number of lineas and columns displayed in the notebook:"
   ]
  },
  {
   "cell_type": "code",
   "execution_count": 3,
   "metadata": {},
   "outputs": [],
   "source": [
    "ENV[\"LINES\"]   = 100;\n",
    "ENV[\"COLUMNS\"] = 100;"
   ]
  },
  {
   "cell_type": "markdown",
   "metadata": {},
   "source": [
    "# Profit Hölder"
   ]
  },
  {
   "cell_type": "markdown",
   "metadata": {},
   "source": [
    "Data for the Profit model:\n",
    "* `X`: Inputs.\n",
    "* `Y`: Outputs.\n",
    "* `W`: Price of Inputs.\n",
    "* `P`: Price of Outputs.\n",
    "* `FIRMS`: Name of Decision Making Units (DMUs)."
   ]
  },
  {
   "cell_type": "code",
   "execution_count": 4,
   "metadata": {},
   "outputs": [],
   "source": [
    "X = [2; 4; 8; 12; 6; 14; 14; 9.412];\n",
    "Y = [1; 5; 8; 9; 3; 7; 9; 2.353];\n",
    "W = [1; 1; 1; 1; 1; 1; 1; 1];\n",
    "P = [2; 2; 2; 2; 2; 2; 2; 2];\n",
    "FIRMS = [\"A\"; \"B\"; \"C\"; \"D\"; \"E\"; \"F\"; \"G\"; \"H\"];"
   ]
  },
  {
   "cell_type": "code",
   "execution_count": 5,
   "metadata": {},
   "outputs": [
    {
     "name": "stdout",
     "output_type": "stream",
     "text": [
      "Set parameter Username\n",
      "Academic license - for non-commercial use only - expires 2023-06-30\n",
      "Set parameter TimeLimit to value 60\n",
      "Set parameter Username\n",
      "Academic license - for non-commercial use only - expires 2023-06-30\n",
      "Set parameter TimeLimit to value 60\n",
      "Set parameter Username\n",
      "Academic license - for non-commercial use only - expires 2023-06-30\n",
      "Set parameter TimeLimit to value 60\n",
      "Set parameter Username\n",
      "Academic license - for non-commercial use only - expires 2023-06-30\n",
      "Set parameter TimeLimit to value 60\n",
      "Set parameter Username\n",
      "Academic license - for non-commercial use only - expires 2023-06-30\n",
      "Set parameter TimeLimit to value 60\n",
      "Set parameter Username\n",
      "Academic license - for non-commercial use only - expires 2023-06-30\n",
      "Set parameter TimeLimit to value 60\n",
      "Set parameter Username\n",
      "Academic license - for non-commercial use only - expires 2023-06-30\n",
      "Set parameter TimeLimit to value 60\n",
      "Set parameter Username\n",
      "Academic license - for non-commercial use only - expires 2023-06-30\n",
      "Set parameter TimeLimit to value 60\n",
      "Set parameter Username\n",
      "Academic license - for non-commercial use only - expires 2023-06-30\n",
      "Set parameter TimeLimit to value 60\n",
      "Set parameter Username\n",
      "Academic license - for non-commercial use only - expires 2023-06-30\n",
      "Set parameter TimeLimit to value 60\n",
      "Set parameter Username\n",
      "Academic license - for non-commercial use only - expires 2023-06-30\n",
      "Set parameter TimeLimit to value 60\n",
      "Set parameter Username\n",
      "Academic license - for non-commercial use only - expires 2023-06-30\n",
      "Set parameter TimeLimit to value 60\n",
      "Set parameter Username\n",
      "Academic license - for non-commercial use only - expires 2023-06-30\n",
      "Set parameter TimeLimit to value 60\n",
      "Set parameter Username\n",
      "Academic license - for non-commercial use only - expires 2023-06-30\n",
      "Set parameter TimeLimit to value 60\n",
      "Set parameter Username\n",
      "Academic license - for non-commercial use only - expires 2023-06-30\n",
      "Set parameter TimeLimit to value 60\n",
      "Set parameter Username\n",
      "Academic license - for non-commercial use only - expires 2023-06-30\n",
      "Set parameter TimeLimit to value 60\n"
     ]
    },
    {
     "data": {
      "text/plain": [
       "Profit Hölder L2 DEA Model \n",
       "DMUs = 8; Inputs = 1; Outputs = 1\n",
       "Returns to Scale = VRS\n",
       "Weighted (weakly) Hölder distance function \n",
       "───────────────────────────────────\n",
       "     Profit   Technical  Allocative\n",
       "───────────────────────────────────\n",
       "A  2.82843   0.0           2.82843\n",
       "B  0.185695  1.49012e-8    0.185695\n",
       "C  0.0       0.0           0.0\n",
       "D  0.09245   0.0           0.09245\n",
       "E  0.942809  0.485071      0.457738\n",
       "F  0.404061  0.285714      0.118347\n",
       "G  0.175412  0.0           0.175412\n",
       "H  1.20746   0.710103      0.497355\n",
       "───────────────────────────────────"
      ]
     },
     "execution_count": 5,
     "metadata": {},
     "output_type": "execute_result"
    }
   ],
   "source": [
    "deaprofitholder(X, Y, W, P, l=2, weight = true, optimizer = DEAOptimizer(Gurobi.Optimizer), names = FIRMS)"
   ]
  },
  {
   "cell_type": "markdown",
   "metadata": {},
   "source": [
    "Peers of the economic model:"
   ]
  },
  {
   "cell_type": "code",
   "execution_count": 6,
   "metadata": {},
   "outputs": [
    {
     "name": "stdout",
     "output_type": "stream",
     "text": [
      "Set parameter Username\n",
      "Academic license - for non-commercial use only - expires 2023-06-30\n",
      "Set parameter TimeLimit to value 60\n",
      "Set parameter Username\n",
      "Academic license - for non-commercial use only - expires 2023-06-30\n",
      "Set parameter TimeLimit to value 60\n",
      "Set parameter Username\n",
      "Academic license - for non-commercial use only - expires 2023-06-30\n",
      "Set parameter TimeLimit to value 60\n",
      "Set parameter Username\n",
      "Academic license - for non-commercial use only - expires 2023-06-30\n",
      "Set parameter TimeLimit to value 60\n",
      "Set parameter Username\n",
      "Academic license - for non-commercial use only - expires 2023-06-30\n",
      "Set parameter TimeLimit to value 60\n",
      "Set parameter Username\n",
      "Academic license - for non-commercial use only - expires 2023-06-30\n",
      "Set parameter TimeLimit to value 60\n",
      "Set parameter Username\n",
      "Academic license - for non-commercial use only - expires 2023-06-30\n",
      "Set parameter TimeLimit to value 60\n",
      "Set parameter Username\n",
      "Academic license - for non-commercial use only - expires 2023-06-30\n",
      "Set parameter TimeLimit to value 60\n",
      "Set parameter Username\n",
      "Academic license - for non-commercial use only - expires 2023-06-30\n",
      "Set parameter TimeLimit to value 60\n",
      "Set parameter Username\n",
      "Academic license - for non-commercial use only - expires 2023-06-30\n",
      "Set parameter TimeLimit to value 60\n",
      "Set parameter Username\n",
      "Academic license - for non-commercial use only - expires 2023-06-30\n",
      "Set parameter TimeLimit to value 60\n",
      "Set parameter Username\n",
      "Academic license - for non-commercial use only - expires 2023-06-30\n",
      "Set parameter TimeLimit to value 60\n",
      "Set parameter Username\n",
      "Academic license - for non-commercial use only - expires 2023-06-30\n",
      "Set parameter TimeLimit to value 60\n",
      "Set parameter Username\n",
      "Academic license - for non-commercial use only - expires 2023-06-30\n",
      "Set parameter TimeLimit to value 60\n",
      "Set parameter Username\n",
      "Academic license - for non-commercial use only - expires 2023-06-30\n",
      "Set parameter TimeLimit to value 60\n",
      "Set parameter Username\n",
      "Academic license - for non-commercial use only - expires 2023-06-30\n",
      "Set parameter TimeLimit to value 60\n"
     ]
    },
    {
     "data": {
      "text/plain": [
       "8×8 SparseArrays.SparseMatrixCSC{Float64, Int64} with 8 stored entries:\n",
       "  ⋅    ⋅   1.0   ⋅    ⋅    ⋅    ⋅    ⋅ \n",
       "  ⋅    ⋅   1.0   ⋅    ⋅    ⋅    ⋅    ⋅ \n",
       "  ⋅    ⋅   1.0   ⋅    ⋅    ⋅    ⋅    ⋅ \n",
       "  ⋅    ⋅   1.0   ⋅    ⋅    ⋅    ⋅    ⋅ \n",
       "  ⋅    ⋅   1.0   ⋅    ⋅    ⋅    ⋅    ⋅ \n",
       "  ⋅    ⋅   1.0   ⋅    ⋅    ⋅    ⋅    ⋅ \n",
       "  ⋅    ⋅   1.0   ⋅    ⋅    ⋅    ⋅    ⋅ \n",
       "  ⋅    ⋅   1.0   ⋅    ⋅    ⋅    ⋅    ⋅ "
      ]
     },
     "execution_count": 6,
     "metadata": {},
     "output_type": "execute_result"
    }
   ],
   "source": [
    "peersmatrix(deaprofitholder(X, Y, W, P, l=2, weight = true, optimizer = DEAOptimizer(Gurobi.Optimizer), names = FIRMS))"
   ]
  },
  {
   "cell_type": "markdown",
   "metadata": {},
   "source": [
    "Corresponding technical efficiency model:"
   ]
  },
  {
   "cell_type": "code",
   "execution_count": 7,
   "metadata": {},
   "outputs": [
    {
     "name": "stdout",
     "output_type": "stream",
     "text": [
      "Set parameter Username\n",
      "Academic license - for non-commercial use only - expires 2023-06-30\n",
      "Set parameter TimeLimit to value 60\n",
      "Set parameter Username\n",
      "Academic license - for non-commercial use only - expires 2023-06-30\n",
      "Set parameter TimeLimit to value 60\n",
      "Set parameter Username\n",
      "Academic license - for non-commercial use only - expires 2023-06-30\n",
      "Set parameter TimeLimit to value 60\n",
      "Set parameter Username\n",
      "Academic license - for non-commercial use only - expires 2023-06-30\n",
      "Set parameter TimeLimit to value 60\n",
      "Set parameter Username\n",
      "Academic license - for non-commercial use only - expires 2023-06-30\n",
      "Set parameter TimeLimit to value 60\n",
      "Set parameter Username\n",
      "Academic license - for non-commercial use only - expires 2023-06-30\n",
      "Set parameter TimeLimit to value 60\n",
      "Set parameter Username\n",
      "Academic license - for non-commercial use only - expires 2023-06-30\n",
      "Set parameter TimeLimit to value 60\n",
      "Set parameter Username\n",
      "Academic license - for non-commercial use only - expires 2023-06-30\n",
      "Set parameter TimeLimit to value 60\n"
     ]
    },
    {
     "data": {
      "text/plain": [
       "Hölder L2 DEA Model \n",
       "DMUs = 8; Inputs = 1; Outputs = 1\n",
       "Orientation = Graph; Returns to Scale = VRS\n",
       "Weighted (weakly) Hölder distance function \n",
       "───────────────────────────────\n",
       "   efficiency  slackX1  slackY1\n",
       "───────────────────────────────\n",
       "A  0.0             0.0      0.0\n",
       "B  1.49012e-8      0.0      0.0\n",
       "C  0.0             0.0      0.0\n",
       "D  0.0             0.0      0.0\n",
       "E  0.485071        0.0      0.0\n",
       "F  0.285714        2.0      0.0\n",
       "G  0.0             0.0      0.0\n",
       "H  0.710103        0.0      0.0\n",
       "───────────────────────────────"
      ]
     },
     "execution_count": 7,
     "metadata": {},
     "output_type": "execute_result"
    }
   ],
   "source": [
    "deaholder(X, Y, l = 2, weight = true, orient = :Graph, rts = :VRS, optimizer = DEAOptimizer(Gurobi.Optimizer), names = FIRMS)"
   ]
  },
  {
   "cell_type": "markdown",
   "metadata": {},
   "source": [
    "Obtain information on the reference peers:"
   ]
  },
  {
   "cell_type": "code",
   "execution_count": 8,
   "metadata": {},
   "outputs": [
    {
     "name": "stdout",
     "output_type": "stream",
     "text": [
      "Set parameter Username\n",
      "Academic license - for non-commercial use only - expires 2023-06-30\n",
      "Set parameter TimeLimit to value 60\n",
      "Set parameter Username\n",
      "Academic license - for non-commercial use only - expires 2023-06-30\n",
      "Set parameter TimeLimit to value 60\n",
      "Set parameter Username\n",
      "Academic license - for non-commercial use only - expires 2023-06-30\n",
      "Set parameter TimeLimit to value 60\n",
      "Set parameter Username\n",
      "Academic license - for non-commercial use only - expires 2023-06-30\n",
      "Set parameter TimeLimit to value 60\n",
      "Set parameter Username\n",
      "Academic license - for non-commercial use only - expires 2023-06-30\n",
      "Set parameter TimeLimit to value 60\n",
      "Set parameter Username\n",
      "Academic license - for non-commercial use only - expires 2023-06-30\n",
      "Set parameter TimeLimit to value 60\n",
      "Set parameter Username\n",
      "Academic license - for non-commercial use only - expires 2023-06-30\n",
      "Set parameter TimeLimit to value 60\n",
      "Set parameter Username\n",
      "Academic license - for non-commercial use only - expires 2023-06-30\n",
      "Set parameter TimeLimit to value 60\n"
     ]
    },
    {
     "data": {
      "text/plain": [
       "8×8 SparseArrays.SparseMatrixCSC{Float64, Int64} with 10 stored entries:\n",
       " 1.0        ⋅         ⋅    ⋅    ⋅    ⋅    ⋅    ⋅ \n",
       "  ⋅        1.0        ⋅    ⋅    ⋅    ⋅    ⋅    ⋅ \n",
       "  ⋅         ⋅        1.0   ⋅    ⋅    ⋅    ⋅    ⋅ \n",
       "  ⋅         ⋅         ⋅   1.0   ⋅    ⋅    ⋅    ⋅ \n",
       " 0.411765  0.588235   ⋅    ⋅    ⋅    ⋅    ⋅    ⋅ \n",
       "  ⋅         ⋅         ⋅   1.0   ⋅    ⋅    ⋅    ⋅ \n",
       "  ⋅         ⋅         ⋅    ⋅    ⋅    ⋅   1.0   ⋅ \n",
       " 0.609938  0.390062   ⋅    ⋅    ⋅    ⋅    ⋅    ⋅ "
      ]
     },
     "execution_count": 8,
     "metadata": {},
     "output_type": "execute_result"
    }
   ],
   "source": [
    "peersmatrix(deaholder(X, Y, l = 2, weight = true, orient = :Graph, rts = :VRS, optimizer = DEAOptimizer(Gurobi.Optimizer), names = FIRMS))"
   ]
  },
  {
   "cell_type": "markdown",
   "metadata": {},
   "source": [
    "# Cost Hölder"
   ]
  },
  {
   "cell_type": "markdown",
   "metadata": {},
   "source": [
    "Data for the Cost model:\n",
    "* `X`: Inputs.\n",
    "* `Y`: Outputs.\n",
    "* `W`: Price of Inputs.\n",
    "* `FIRMS`: Name of Decision Making Units (DMUs)."
   ]
  },
  {
   "cell_type": "code",
   "execution_count": 9,
   "metadata": {},
   "outputs": [],
   "source": [
    "X = [2 2; 1 4; 4 1; 4 3; 5 5; 6 1; 2 5; 1.6 8];\n",
    "Y = [1; 1; 1; 1; 1; 1; 1; 1];\n",
    "W = [1 1; 1 1; 1 1; 1 1; 1 1; 1 1; 1 1; 1 1];\n",
    "FIRMS = [\"A\"; \"B\"; \"C\"; \"D\"; \"E\"; \"F\"; \"G\"; \"H\"];"
   ]
  },
  {
   "cell_type": "code",
   "execution_count": 10,
   "metadata": {},
   "outputs": [
    {
     "data": {
      "text/plain": [
       "Cost Hölder L1 DEA Model \n",
       "DMUs = 8; Inputs = 2; Outputs = 1\n",
       "Orientation = Input; Returns to Scale = VRS\n",
       "Weighted (weakly) Hölder distance function \n",
       "──────────────────────────────\n",
       "   Cost  Technical  Allocative\n",
       "──────────────────────────────\n",
       "A  0.0       0.0         0.0\n",
       "B  0.25      0.0         0.25\n",
       "C  0.25      0.0         0.25\n",
       "D  0.75      0.625       0.125\n",
       "E  1.2       0.8         0.4\n",
       "F  0.5       0.0         0.5\n",
       "G  0.6       0.5         0.1\n",
       "H  0.7       0.375       0.325\n",
       "──────────────────────────────"
      ]
     },
     "execution_count": 10,
     "metadata": {},
     "output_type": "execute_result"
    }
   ],
   "source": [
    "deacostholder(X, Y, W, l=1, weight = true, names = FIRMS)"
   ]
  },
  {
   "cell_type": "markdown",
   "metadata": {},
   "source": [
    "Peers of the economic model:"
   ]
  },
  {
   "cell_type": "code",
   "execution_count": 11,
   "metadata": {},
   "outputs": [
    {
     "data": {
      "text/plain": [
       "8×8 SparseArrays.SparseMatrixCSC{Float64, Int64} with 8 stored entries:\n",
       " 1.0   ⋅    ⋅    ⋅    ⋅    ⋅    ⋅    ⋅ \n",
       " 1.0   ⋅    ⋅    ⋅    ⋅    ⋅    ⋅    ⋅ \n",
       " 1.0   ⋅    ⋅    ⋅    ⋅    ⋅    ⋅    ⋅ \n",
       " 1.0   ⋅    ⋅    ⋅    ⋅    ⋅    ⋅    ⋅ \n",
       " 1.0   ⋅    ⋅    ⋅    ⋅    ⋅    ⋅    ⋅ \n",
       " 1.0   ⋅    ⋅    ⋅    ⋅    ⋅    ⋅    ⋅ \n",
       " 1.0   ⋅    ⋅    ⋅    ⋅    ⋅    ⋅    ⋅ \n",
       " 1.0   ⋅    ⋅    ⋅    ⋅    ⋅    ⋅    ⋅ "
      ]
     },
     "execution_count": 11,
     "metadata": {},
     "output_type": "execute_result"
    }
   ],
   "source": [
    "peersmatrix(deacostholder(X, Y, W, l=1, weight = true, names = FIRMS))"
   ]
  },
  {
   "cell_type": "markdown",
   "metadata": {},
   "source": [
    "Corresponding technical efficiency model:"
   ]
  },
  {
   "cell_type": "code",
   "execution_count": 12,
   "metadata": {},
   "outputs": [
    {
     "data": {
      "text/plain": [
       "Hölder L1 DEA Model \n",
       "DMUs = 8; Inputs = 2; Outputs = 1\n",
       "Orientation = Input; Returns to Scale = VRS\n",
       "Weighted (weakly) Hölder distance function \n",
       "─────────────────────────────────────────────────\n",
       "   efficiency  minimum  slackX1  slackX2  slackY1\n",
       "─────────────────────────────────────────────────\n",
       "A       0.0         X1      0.0      0.0      0.0\n",
       "B       0.0         X1      0.0      0.0      0.0\n",
       "C       0.0         X1      0.0      0.0      0.0\n",
       "D       0.625       X1      0.0      0.0      0.0\n",
       "E       0.8         X1      0.0      1.0      0.0\n",
       "F       0.0         X2      2.0      0.0      0.0\n",
       "G       0.5         X1      0.0      1.0      0.0\n",
       "H       0.375       X1      0.0      4.0      0.0\n",
       "─────────────────────────────────────────────────"
      ]
     },
     "execution_count": 12,
     "metadata": {},
     "output_type": "execute_result"
    }
   ],
   "source": [
    "deaholder(X, Y, orient = :Input, rts = :VRS, l = 1, weight = true, names = FIRMS)"
   ]
  },
  {
   "cell_type": "markdown",
   "metadata": {},
   "source": [
    "Obtain information on the reference peers:"
   ]
  },
  {
   "cell_type": "code",
   "execution_count": 13,
   "metadata": {
    "scrolled": true
   },
   "outputs": [
    {
     "data": {
      "text/plain": [
       "8×8 SparseArrays.SparseMatrixCSC{Float64, Int64} with 9 stored entries:\n",
       " 1.0   ⋅    ⋅    ⋅    ⋅    ⋅    ⋅    ⋅ \n",
       "  ⋅   1.0   ⋅    ⋅    ⋅    ⋅    ⋅    ⋅ \n",
       "  ⋅    ⋅   1.0   ⋅    ⋅    ⋅    ⋅    ⋅ \n",
       " 0.5  0.5   ⋅    ⋅    ⋅    ⋅    ⋅    ⋅ \n",
       "  ⋅   1.0   ⋅    ⋅    ⋅    ⋅    ⋅    ⋅ \n",
       "  ⋅    ⋅   1.0   ⋅    ⋅    ⋅    ⋅    ⋅ \n",
       "  ⋅   1.0   ⋅    ⋅    ⋅    ⋅    ⋅    ⋅ \n",
       "  ⋅   1.0   ⋅    ⋅    ⋅    ⋅    ⋅    ⋅ "
      ]
     },
     "execution_count": 13,
     "metadata": {},
     "output_type": "execute_result"
    }
   ],
   "source": [
    "peersmatrix(deaholder(X, Y, orient = :Input, rts = :VRS, l = 1, weight = true, names = FIRMS))"
   ]
  },
  {
   "cell_type": "markdown",
   "metadata": {},
   "source": [
    "# Revenue Hölder"
   ]
  },
  {
   "cell_type": "markdown",
   "metadata": {},
   "source": [
    "Data for the Revenue model:\n",
    "* `X`: Inputs.\n",
    "* `Y`: Outputs.\n",
    "* `P`: Price of Outputs.\n",
    "* `FIRMS`: Name of Decision Making Units (DMUs)."
   ]
  },
  {
   "cell_type": "code",
   "execution_count": 14,
   "metadata": {},
   "outputs": [],
   "source": [
    "X = [1; 1; 1; 1; 1; 1; 1; 1];\n",
    "Y = [7 7; 4 8; 8 4; 3 5; 3 3; 8 2; 6 4; 1.5 5];\n",
    "P = [1 1; 1 1; 1 1; 1 1; 1 1; 1 1; 1 1; 1 1];\n",
    "FIRMS = [\"A\"; \"B\"; \"C\"; \"D\"; \"E\"; \"F\"; \"G\"; \"H\"];"
   ]
  },
  {
   "cell_type": "code",
   "execution_count": 15,
   "metadata": {},
   "outputs": [
    {
     "data": {
      "text/plain": [
       "Revenue Hölder LInf DEA Model \n",
       "DMUs = 8; Inputs = 1; Outputs = 2\n",
       "Orientation = Output; Returns to Scale = VRS\n",
       "Weighted (weakly) Hölder distance function \n",
       "──────────────────────────────────\n",
       "    Revenue  Technical  Allocative\n",
       "──────────────────────────────────\n",
       "A  0.0        0.0         0.0\n",
       "B  0.166667   0.0         0.166667\n",
       "C  0.166667   0.0         0.166667\n",
       "D  0.75       0.555556    0.194444\n",
       "E  1.33333    1.33333     0.0\n",
       "F  0.4        0.0         0.4\n",
       "G  0.4        0.272727    0.127273\n",
       "H  1.15385    0.6         0.553846\n",
       "──────────────────────────────────"
      ]
     },
     "execution_count": 15,
     "metadata": {},
     "output_type": "execute_result"
    }
   ],
   "source": [
    "dearevenueholder(X, Y, P, l=Inf, weight = true, names = FIRMS)"
   ]
  },
  {
   "cell_type": "markdown",
   "metadata": {},
   "source": [
    "Peers of the economic model:"
   ]
  },
  {
   "cell_type": "code",
   "execution_count": 16,
   "metadata": {},
   "outputs": [
    {
     "data": {
      "text/plain": [
       "8×8 SparseArrays.SparseMatrixCSC{Float64, Int64} with 8 stored entries:\n",
       " 1.0   ⋅    ⋅    ⋅    ⋅    ⋅    ⋅    ⋅ \n",
       " 1.0   ⋅    ⋅    ⋅    ⋅    ⋅    ⋅    ⋅ \n",
       " 1.0   ⋅    ⋅    ⋅    ⋅    ⋅    ⋅    ⋅ \n",
       " 1.0   ⋅    ⋅    ⋅    ⋅    ⋅    ⋅    ⋅ \n",
       " 1.0   ⋅    ⋅    ⋅    ⋅    ⋅    ⋅    ⋅ \n",
       " 1.0   ⋅    ⋅    ⋅    ⋅    ⋅    ⋅    ⋅ \n",
       " 1.0   ⋅    ⋅    ⋅    ⋅    ⋅    ⋅    ⋅ \n",
       " 1.0   ⋅    ⋅    ⋅    ⋅    ⋅    ⋅    ⋅ "
      ]
     },
     "execution_count": 16,
     "metadata": {},
     "output_type": "execute_result"
    }
   ],
   "source": [
    "peersmatrix(dearevenueholder(X, Y, P, l=Inf, weight = true, names = FIRMS))"
   ]
  },
  {
   "cell_type": "markdown",
   "metadata": {},
   "source": [
    "Corresponding technical efficiency model:"
   ]
  },
  {
   "cell_type": "code",
   "execution_count": 17,
   "metadata": {},
   "outputs": [
    {
     "data": {
      "text/plain": [
       "Hölder LInf DEA Model \n",
       "DMUs = 8; Inputs = 1; Outputs = 2\n",
       "Orientation = Output; Returns to Scale = VRS\n",
       "Weighted (weakly) Hölder distance function \n",
       "────────────────────────────────────────────\n",
       "   efficiency  slackX1      slackY1  slackY2\n",
       "────────────────────────────────────────────\n",
       "A    0.0           0.0  0.0              0.0\n",
       "B    0.0           0.0  0.0              0.0\n",
       "C    0.0           0.0  0.0              0.0\n",
       "D    0.555556      0.0  5.68737e-15      0.0\n",
       "E    1.33333       0.0  0.0              0.0\n",
       "F    0.0           0.0  0.0              2.0\n",
       "G    0.272727      0.0  0.0              0.0\n",
       "H    0.6           0.0  1.6              0.0\n",
       "────────────────────────────────────────────"
      ]
     },
     "execution_count": 17,
     "metadata": {},
     "output_type": "execute_result"
    }
   ],
   "source": [
    "deaholder(X, Y, orient = :Output, rts = :VRS, l = Inf, weight = true, names = FIRMS)"
   ]
  },
  {
   "cell_type": "markdown",
   "metadata": {},
   "source": [
    "Obtain information on the reference peers:"
   ]
  },
  {
   "cell_type": "code",
   "execution_count": 18,
   "metadata": {},
   "outputs": [
    {
     "data": {
      "text/plain": [
       "8×8 SparseArrays.SparseMatrixCSC{Float64, Int64} with 10 stored entries:\n",
       " 1.0        ⋅         ⋅         ⋅    ⋅    ⋅    ⋅    ⋅ \n",
       "  ⋅        1.0        ⋅         ⋅    ⋅    ⋅    ⋅    ⋅ \n",
       "  ⋅         ⋅        1.0        ⋅    ⋅    ⋅    ⋅    ⋅ \n",
       " 0.222222  0.777778   ⋅         ⋅    ⋅    ⋅    ⋅    ⋅ \n",
       " 1.0        ⋅         ⋅         ⋅    ⋅    ⋅    ⋅    ⋅ \n",
       "  ⋅         ⋅        1.0        ⋅    ⋅    ⋅    ⋅    ⋅ \n",
       " 0.363636   ⋅        0.636364   ⋅    ⋅    ⋅    ⋅    ⋅ \n",
       "  ⋅        1.0        ⋅         ⋅    ⋅    ⋅    ⋅    ⋅ "
      ]
     },
     "execution_count": 18,
     "metadata": {},
     "output_type": "execute_result"
    }
   ],
   "source": [
    "peersmatrix(deaholder(X, Y, orient = :Output, rts = :VRS, l = Inf, weight = true, names = FIRMS))"
   ]
  },
  {
   "cell_type": "code",
   "execution_count": null,
   "metadata": {},
   "outputs": [],
   "source": []
  }
 ],
 "metadata": {
  "@webio": {
   "lastCommId": null,
   "lastKernelId": null
  },
  "kernelspec": {
   "display_name": "Julia 1.7.3",
   "language": "julia",
   "name": "julia-1.7"
  },
  "language_info": {
   "file_extension": ".jl",
   "mimetype": "application/julia",
   "name": "julia",
   "version": "1.7.3"
  }
 },
 "nbformat": 4,
 "nbformat_minor": 4
}
