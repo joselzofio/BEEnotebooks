{
 "cells": [
  {
   "cell_type": "markdown",
   "metadata": {},
   "source": [
    "# Chapter 3. Shephard’s Input and Output Distance Functions: Cost and Revenue Efficiency Decompositions:"
   ]
  },
  {
   "cell_type": "markdown",
   "metadata": {},
   "source": [
    "Install requiered packages:"
   ]
  },
  {
   "cell_type": "code",
   "execution_count": null,
   "metadata": {},
   "outputs": [],
   "source": [
    "using Pkg\n",
    "Pkg.add(\"DataEnvelopmentAnalysis\")\n",
    "Pkg.add(\"BenchmarkingEconomicEfficiency\")"
   ]
  },
  {
   "cell_type": "markdown",
   "metadata": {},
   "source": [
    "Or, instantiate environment to install required packages:"
   ]
  },
  {
   "cell_type": "code",
   "execution_count": 1,
   "metadata": {},
   "outputs": [],
   "source": [
    "using Pkg\n",
    "Pkg.instantiate()"
   ]
  },
  {
   "cell_type": "markdown",
   "metadata": {},
   "source": [
    "Load required packages:"
   ]
  },
  {
   "cell_type": "code",
   "execution_count": 2,
   "metadata": {},
   "outputs": [],
   "source": [
    "using DataEnvelopmentAnalysis\n",
    "using BenchmarkingEconomicEfficiency"
   ]
  },
  {
   "cell_type": "markdown",
   "metadata": {},
   "source": [
    "Increase the number of lineas and columns displayed in the notebook:"
   ]
  },
  {
   "cell_type": "code",
   "execution_count": 3,
   "metadata": {},
   "outputs": [],
   "source": [
    "ENV[\"LINES\"]   = 100;\n",
    "ENV[\"COLUMNS\"] = 100;"
   ]
  },
  {
   "cell_type": "markdown",
   "metadata": {},
   "source": [
    "# Cost Radial Model"
   ]
  },
  {
   "cell_type": "markdown",
   "metadata": {},
   "source": [
    "Data for the Cost model:\n",
    "* `X`: Inputs.\n",
    "* `Y`: Outputs.\n",
    "* `W`: Price of Inputs.\n",
    "* `FIRMS`: Name of Decision Making Units (DMUs)."
   ]
  },
  {
   "cell_type": "code",
   "execution_count": 4,
   "metadata": {},
   "outputs": [],
   "source": [
    "X = [2 2; 1 4; 4 1; 4 3; 5 5; 6 1; 2 5; 1.6 8];\n",
    "Y = [1; 1; 1; 1; 1; 1; 1; 1];\n",
    "W = [1 1; 1 1; 1 1; 1 1; 1 1; 1 1; 1 1; 1 1];\n",
    "FIRMS = [\"A\", \"B\", \"C\", \"D\", \"E\", \"F\", \"G\", \"H\"];"
   ]
  },
  {
   "cell_type": "code",
   "execution_count": 5,
   "metadata": {},
   "outputs": [
    {
     "data": {
      "text/plain": [
       "Cost DEA Model \n",
       "DMUs = 8; Inputs = 2; Outputs = 1\n",
       "Orientation = Input; Returns to Scale = VRS\n",
       "──────────────────────────────────\n",
       "       Cost  Technical  Allocative\n",
       "──────────────────────────────────\n",
       "A  1.0        1.0         1.0\n",
       "B  0.8        1.0         0.8\n",
       "C  0.8        1.0         0.8\n",
       "D  0.571429   0.6         0.952381\n",
       "E  0.4        0.4         1.0\n",
       "F  0.571429   1.0         0.571429\n",
       "G  0.571429   0.666667    0.857143\n",
       "H  0.416667   0.625       0.666667\n",
       "──────────────────────────────────"
      ]
     },
     "execution_count": 5,
     "metadata": {},
     "output_type": "execute_result"
    }
   ],
   "source": [
    "deacost(X, Y, W, names = FIRMS)"
   ]
  },
  {
   "cell_type": "markdown",
   "metadata": {},
   "source": [
    "Peers of the economic model:"
   ]
  },
  {
   "cell_type": "code",
   "execution_count": 6,
   "metadata": {},
   "outputs": [
    {
     "data": {
      "text/plain": [
       "8×8 SparseArrays.SparseMatrixCSC{Float64, Int64} with 8 stored entries:\n",
       " 1.0   ⋅    ⋅    ⋅    ⋅    ⋅    ⋅    ⋅ \n",
       " 1.0   ⋅    ⋅    ⋅    ⋅    ⋅    ⋅    ⋅ \n",
       " 1.0   ⋅    ⋅    ⋅    ⋅    ⋅    ⋅    ⋅ \n",
       " 1.0   ⋅    ⋅    ⋅    ⋅    ⋅    ⋅    ⋅ \n",
       " 1.0   ⋅    ⋅    ⋅    ⋅    ⋅    ⋅    ⋅ \n",
       " 1.0   ⋅    ⋅    ⋅    ⋅    ⋅    ⋅    ⋅ \n",
       " 1.0   ⋅    ⋅    ⋅    ⋅    ⋅    ⋅    ⋅ \n",
       " 1.0   ⋅    ⋅    ⋅    ⋅    ⋅    ⋅    ⋅ "
      ]
     },
     "execution_count": 6,
     "metadata": {},
     "output_type": "execute_result"
    }
   ],
   "source": [
    "peersmatrix(deacost(X, Y, W, names = FIRMS))"
   ]
  },
  {
   "cell_type": "markdown",
   "metadata": {},
   "source": [
    "Corresponding technical efficiency model:"
   ]
  },
  {
   "cell_type": "code",
   "execution_count": 7,
   "metadata": {},
   "outputs": [
    {
     "data": {
      "text/plain": [
       "Radial DEA Model \n",
       "DMUs = 8; Inputs = 2; Outputs = 1\n",
       "Orientation = Input; Returns to Scale = VRS\n",
       "────────────────────────────────────────────────\n",
       "   efficiency      slackX1      slackX2  slackY1\n",
       "────────────────────────────────────────────────\n",
       "A    1.0       0.0          0.0              0.0\n",
       "B    1.0       0.0          0.0              0.0\n",
       "C    1.0       0.0          0.0              0.0\n",
       "D    0.6       8.32667e-16  0.0              0.0\n",
       "E    0.4       0.0          0.0              0.0\n",
       "F    1.0       2.0          0.0              0.0\n",
       "G    0.666667  0.0          6.66134e-16      0.0\n",
       "H    0.625     0.0          1.0              0.0\n",
       "────────────────────────────────────────────────"
      ]
     },
     "execution_count": 7,
     "metadata": {},
     "output_type": "execute_result"
    }
   ],
   "source": [
    "dea(X, Y, orient = :Input, rts = :VRS, names = FIRMS)"
   ]
  },
  {
   "cell_type": "markdown",
   "metadata": {},
   "source": [
    "Obtain information on the reference peers:"
   ]
  },
  {
   "cell_type": "code",
   "execution_count": 8,
   "metadata": {},
   "outputs": [
    {
     "data": {
      "text/plain": [
       "8×8 SparseArrays.SparseMatrixCSC{Float64, Int64} with 10 stored entries:\n",
       " 1.0        ⋅         ⋅    ⋅    ⋅    ⋅    ⋅    ⋅ \n",
       "  ⋅        1.0        ⋅    ⋅    ⋅    ⋅    ⋅    ⋅ \n",
       "  ⋅         ⋅        1.0   ⋅    ⋅    ⋅    ⋅    ⋅ \n",
       " 0.8        ⋅        0.2   ⋅    ⋅    ⋅    ⋅    ⋅ \n",
       " 1.0        ⋅         ⋅    ⋅    ⋅    ⋅    ⋅    ⋅ \n",
       "  ⋅         ⋅         ⋅    ⋅    ⋅   1.0   ⋅    ⋅ \n",
       " 0.333333  0.666667   ⋅    ⋅    ⋅    ⋅    ⋅    ⋅ \n",
       "  ⋅        1.0        ⋅    ⋅    ⋅    ⋅    ⋅    ⋅ "
      ]
     },
     "execution_count": 8,
     "metadata": {},
     "output_type": "execute_result"
    }
   ],
   "source": [
    "peersmatrix(dea(X, Y, orient = :Input, rts = :VRS, names = FIRMS))"
   ]
  },
  {
   "cell_type": "markdown",
   "metadata": {},
   "source": [
    "# Revenue Radial Model"
   ]
  },
  {
   "cell_type": "markdown",
   "metadata": {},
   "source": [
    "Data for the Revenue model:\n",
    "* `X`: Inputs.\n",
    "* `Y`: Outputs.\n",
    "* `P`: Price of Outputs.\n",
    "* `FIRMS`: Name of Decision Making Units (DMUs)."
   ]
  },
  {
   "cell_type": "code",
   "execution_count": 9,
   "metadata": {},
   "outputs": [],
   "source": [
    "X = [1; 1; 1; 1; 1; 1; 1; 1];\n",
    "Y = [7 7; 4 8; 8 4; 3 5; 3 3; 8 2; 6 4; 1.5 5];\n",
    "P = [1 1; 1 1; 1 1; 1 1; 1 1; 1 1; 1 1; 1 1];\n",
    "FIRMS = [\"A\", \"B\", \"C\", \"D\", \"E\", \"F\", \"G\", \"H\"];"
   ]
  },
  {
   "cell_type": "code",
   "execution_count": 10,
   "metadata": {},
   "outputs": [
    {
     "data": {
      "text/plain": [
       "Revenue DEA Model \n",
       "DMUs = 8; Inputs = 1; Outputs = 2\n",
       "Orientation = Output; Returns to Scale = VRS\n",
       "──────────────────────────────────\n",
       "    Revenue  Technical  Allocative\n",
       "──────────────────────────────────\n",
       "A  1.0        1.0         1.0\n",
       "B  0.857143   1.0         0.857143\n",
       "C  0.857143   1.0         0.857143\n",
       "D  0.571429   0.642857    0.888889\n",
       "E  0.428571   0.428571    1.0\n",
       "F  0.714286   1.0         0.714286\n",
       "G  0.714286   0.785714    0.909091\n",
       "H  0.464286   0.625       0.742857\n",
       "──────────────────────────────────"
      ]
     },
     "execution_count": 10,
     "metadata": {},
     "output_type": "execute_result"
    }
   ],
   "source": [
    "dearevenue(X, Y, P, names = FIRMS)"
   ]
  },
  {
   "cell_type": "markdown",
   "metadata": {},
   "source": [
    "Peers of the economic model:"
   ]
  },
  {
   "cell_type": "code",
   "execution_count": 11,
   "metadata": {},
   "outputs": [
    {
     "data": {
      "text/plain": [
       "8×8 SparseArrays.SparseMatrixCSC{Float64, Int64} with 8 stored entries:\n",
       " 1.0   ⋅    ⋅    ⋅    ⋅    ⋅    ⋅    ⋅ \n",
       " 1.0   ⋅    ⋅    ⋅    ⋅    ⋅    ⋅    ⋅ \n",
       " 1.0   ⋅    ⋅    ⋅    ⋅    ⋅    ⋅    ⋅ \n",
       " 1.0   ⋅    ⋅    ⋅    ⋅    ⋅    ⋅    ⋅ \n",
       " 1.0   ⋅    ⋅    ⋅    ⋅    ⋅    ⋅    ⋅ \n",
       " 1.0   ⋅    ⋅    ⋅    ⋅    ⋅    ⋅    ⋅ \n",
       " 1.0   ⋅    ⋅    ⋅    ⋅    ⋅    ⋅    ⋅ \n",
       " 1.0   ⋅    ⋅    ⋅    ⋅    ⋅    ⋅    ⋅ "
      ]
     },
     "execution_count": 11,
     "metadata": {},
     "output_type": "execute_result"
    }
   ],
   "source": [
    "peersmatrix(dearevenue(X, Y, P, names = FIRMS))"
   ]
  },
  {
   "cell_type": "markdown",
   "metadata": {},
   "source": [
    "Corresponding technical efficiency model:"
   ]
  },
  {
   "cell_type": "code",
   "execution_count": 12,
   "metadata": {},
   "outputs": [
    {
     "data": {
      "text/plain": [
       "Radial DEA Model \n",
       "DMUs = 8; Inputs = 1; Outputs = 2\n",
       "Orientation = Output; Returns to Scale = VRS\n",
       "────────────────────────────────────────────\n",
       "   efficiency  slackX1      slackY1  slackY2\n",
       "────────────────────────────────────────────\n",
       "A     1.0          0.0  0.0              0.0\n",
       "B     1.0          0.0  0.0              0.0\n",
       "C     1.0          0.0  0.0              0.0\n",
       "D     1.55556      0.0  1.62496e-15      0.0\n",
       "E     2.33333      0.0  0.0              0.0\n",
       "F     1.0          0.0  0.0              2.0\n",
       "G     1.27273      0.0  0.0              0.0\n",
       "H     1.6          0.0  1.6              0.0\n",
       "────────────────────────────────────────────"
      ]
     },
     "execution_count": 12,
     "metadata": {},
     "output_type": "execute_result"
    }
   ],
   "source": [
    "dea(X, Y, orient = :Output, rts = :VRS, names = FIRMS)"
   ]
  },
  {
   "cell_type": "markdown",
   "metadata": {},
   "source": [
    "Corresponding technical efficiency model:"
   ]
  },
  {
   "cell_type": "code",
   "execution_count": 13,
   "metadata": {},
   "outputs": [
    {
     "data": {
      "text/plain": [
       "8×8 SparseArrays.SparseMatrixCSC{Float64, Int64} with 10 stored entries:\n",
       " 1.0        ⋅         ⋅         ⋅    ⋅    ⋅    ⋅    ⋅ \n",
       "  ⋅        1.0        ⋅         ⋅    ⋅    ⋅    ⋅    ⋅ \n",
       "  ⋅         ⋅        1.0        ⋅    ⋅    ⋅    ⋅    ⋅ \n",
       " 0.222222  0.777778   ⋅         ⋅    ⋅    ⋅    ⋅    ⋅ \n",
       " 1.0        ⋅         ⋅         ⋅    ⋅    ⋅    ⋅    ⋅ \n",
       "  ⋅         ⋅        1.0        ⋅    ⋅    ⋅    ⋅    ⋅ \n",
       " 0.363636   ⋅        0.636364   ⋅    ⋅    ⋅    ⋅    ⋅ \n",
       "  ⋅        1.0        ⋅         ⋅    ⋅    ⋅    ⋅    ⋅ "
      ]
     },
     "execution_count": 13,
     "metadata": {},
     "output_type": "execute_result"
    }
   ],
   "source": [
    "peersmatrix(dea(X, Y, orient = :Output, rts = :VRS, names = FIRMS))"
   ]
  },
  {
   "cell_type": "code",
   "execution_count": null,
   "metadata": {},
   "outputs": [],
   "source": []
  }
 ],
 "metadata": {
  "@webio": {
   "lastCommId": null,
   "lastKernelId": null
  },
  "kernelspec": {
   "display_name": "Julia 1.7.3",
   "language": "julia",
   "name": "julia-1.7"
  },
  "language_info": {
   "file_extension": ".jl",
   "mimetype": "application/julia",
   "name": "julia",
   "version": "1.7.3"
  }
 },
 "nbformat": 4,
 "nbformat_minor": 4
}
