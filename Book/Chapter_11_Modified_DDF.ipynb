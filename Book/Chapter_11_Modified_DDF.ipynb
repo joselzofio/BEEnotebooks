{
 "cells": [
  {
   "cell_type": "markdown",
   "metadata": {},
   "source": [
    "# Chapter 11. The Modified Directional Distance Function (MDDF): Economic Inefficiency Decompositions"
   ]
  },
  {
   "cell_type": "markdown",
   "metadata": {},
   "source": [
    "Install requiered packages:"
   ]
  },
  {
   "cell_type": "code",
   "execution_count": null,
   "metadata": {},
   "outputs": [],
   "source": [
    "using Pkg\n",
    "Pkg.add(\"DataEnvelopmentAnalysis\")\n",
    "Pkg.add(\"BenchmarkingEconomicEfficiency\")"
   ]
  },
  {
   "cell_type": "markdown",
   "metadata": {},
   "source": [
    "Or, instantiate environment to install required packages:"
   ]
  },
  {
   "cell_type": "code",
   "execution_count": 1,
   "metadata": {},
   "outputs": [],
   "source": [
    "using Pkg\n",
    "Pkg.instantiate()"
   ]
  },
  {
   "cell_type": "markdown",
   "metadata": {},
   "source": [
    "Load required packages:"
   ]
  },
  {
   "cell_type": "code",
   "execution_count": 2,
   "metadata": {},
   "outputs": [],
   "source": [
    "using DataEnvelopmentAnalysis\n",
    "using BenchmarkingEconomicEfficiency"
   ]
  },
  {
   "cell_type": "markdown",
   "metadata": {},
   "source": [
    "Increase the number of lineas and columns displayed in the notebook:"
   ]
  },
  {
   "cell_type": "code",
   "execution_count": 3,
   "metadata": {},
   "outputs": [],
   "source": [
    "ENV[\"LINES\"]   = 100;\n",
    "ENV[\"COLUMNS\"] = 100;"
   ]
  },
  {
   "cell_type": "markdown",
   "metadata": {},
   "source": [
    "# Profit Modified DDF"
   ]
  },
  {
   "cell_type": "markdown",
   "metadata": {},
   "source": [
    "Data for the Profit model:\n",
    "* `X`: Inputs.\n",
    "* `Y`: Outputs.\n",
    "* `W`: Price of Inputs.\n",
    "* `P`: Price of Outputs.\n",
    "* `FIRMS`: Name of Decision Making Units (DMUs)."
   ]
  },
  {
   "cell_type": "code",
   "execution_count": 4,
   "metadata": {},
   "outputs": [],
   "source": [
    "X = [2; 4; 8; 12; 6; 14; 14; 9.412];\n",
    "Y = [1; 5; 8; 9; 3; 7; 9; 2.353];\n",
    "W = [1; 1; 1; 1; 1; 1; 1; 1];\n",
    "P = [2; 2; 2; 2; 2; 2; 2; 2];\n",
    "FIRMS = [\"A\"; \"B\"; \"C\"; \"D\"; \"E\"; \"F\"; \"G\"; \"H\"];"
   ]
  },
  {
   "cell_type": "code",
   "execution_count": 5,
   "metadata": {},
   "outputs": [
    {
     "data": {
      "text/plain": [
       "Profit Modified DDF DEA Model \n",
       "DMUs = 8; Inputs = 1; Outputs = 1\n",
       "Returns to Scale = VRS\n",
       "Gx = Observed; Gy = Observed\n",
       "──────────────────────────────────\n",
       "     Profit  Technical  Allocative\n",
       "──────────────────────────────────\n",
       "A  4.0        0.0         4.0\n",
       "B  0.5        0.0         0.5\n",
       "C  0.0        0.0         0.0\n",
       "D  0.166667   0.0         0.166667\n",
       "E  1.33333    1.16667     0.166667\n",
       "F  0.571429   0.571429    0.0\n",
       "G  0.285714   0.142857    0.142857\n",
       "H  2.69996    2.54994     0.150021\n",
       "──────────────────────────────────"
      ]
     },
     "execution_count": 5,
     "metadata": {},
     "output_type": "execute_result"
    }
   ],
   "source": [
    "deaprofitmddf(X, Y, W, P, Gx = :Observed, Gy = :Observed, names = FIRMS)"
   ]
  },
  {
   "cell_type": "markdown",
   "metadata": {},
   "source": [
    "Peers of the economic model:"
   ]
  },
  {
   "cell_type": "code",
   "execution_count": 6,
   "metadata": {},
   "outputs": [
    {
     "data": {
      "text/plain": [
       "8×8 SparseArrays.SparseMatrixCSC{Float64, Int64} with 8 stored entries:\n",
       "  ⋅    ⋅   1.0   ⋅    ⋅    ⋅    ⋅    ⋅ \n",
       "  ⋅    ⋅   1.0   ⋅    ⋅    ⋅    ⋅    ⋅ \n",
       "  ⋅    ⋅   1.0   ⋅    ⋅    ⋅    ⋅    ⋅ \n",
       "  ⋅    ⋅   1.0   ⋅    ⋅    ⋅    ⋅    ⋅ \n",
       "  ⋅    ⋅   1.0   ⋅    ⋅    ⋅    ⋅    ⋅ \n",
       "  ⋅    ⋅   1.0   ⋅    ⋅    ⋅    ⋅    ⋅ \n",
       "  ⋅    ⋅   1.0   ⋅    ⋅    ⋅    ⋅    ⋅ \n",
       "  ⋅    ⋅   1.0   ⋅    ⋅    ⋅    ⋅    ⋅ "
      ]
     },
     "execution_count": 6,
     "metadata": {},
     "output_type": "execute_result"
    }
   ],
   "source": [
    "peersmatrix(deaprofitmddf(X, Y, W, P, Gx = :Observed, Gy = :Observed, names = FIRMS))"
   ]
  },
  {
   "cell_type": "markdown",
   "metadata": {},
   "source": [
    "Corresponding technical efficiency model:"
   ]
  },
  {
   "cell_type": "code",
   "execution_count": 7,
   "metadata": {},
   "outputs": [
    {
     "data": {
      "text/plain": [
       "Modified DDF DEA Model \n",
       "DMUs = 8; Inputs = 1; Outputs = 1\n",
       "Returns to Scale = VRS\n",
       "Gx = Observed; Gy = Observed\n",
       "───────────────────────────────────────────────────\n",
       "   efficiency        βx        βy  slackX1  slackY1\n",
       "───────────────────────────────────────────────────\n",
       "A    0.0       0.0       0.0           0.0      0.0\n",
       "B    0.0       0.0       0.0           0.0      0.0\n",
       "C    0.0       0.0       0.0           0.0      0.0\n",
       "D    0.0       0.0       0.0           0.0      0.0\n",
       "E    1.16667   0.0       1.16667       0.0      0.0\n",
       "F    0.571429  0.428571  0.142857      0.0      0.0\n",
       "G    0.142857  0.142857  0.0           0.0      0.0\n",
       "H    2.54994   0.0       2.54994       0.0      0.0\n",
       "───────────────────────────────────────────────────"
      ]
     },
     "execution_count": 7,
     "metadata": {},
     "output_type": "execute_result"
    }
   ],
   "source": [
    "deamddf(X, Y, rts = :VRS, Gx = :Observed, Gy= :Observed,  names = FIRMS)"
   ]
  },
  {
   "cell_type": "markdown",
   "metadata": {},
   "source": [
    "Obtain information on the reference peers:"
   ]
  },
  {
   "cell_type": "code",
   "execution_count": 8,
   "metadata": {},
   "outputs": [
    {
     "data": {
      "text/plain": [
       "8×8 SparseArrays.SparseMatrixCSC{Float64, Int64} with 10 stored entries:\n",
       " 1.0   ⋅    ⋅      ⋅      ⋅    ⋅    ⋅    ⋅ \n",
       "  ⋅   1.0   ⋅      ⋅      ⋅    ⋅    ⋅    ⋅ \n",
       "  ⋅    ⋅   1.0     ⋅      ⋅    ⋅    ⋅    ⋅ \n",
       "  ⋅    ⋅    ⋅     1.0     ⋅    ⋅    ⋅    ⋅ \n",
       "  ⋅   0.5  0.5     ⋅      ⋅    ⋅    ⋅    ⋅ \n",
       "  ⋅    ⋅   1.0     ⋅      ⋅    ⋅    ⋅    ⋅ \n",
       "  ⋅    ⋅    ⋅     1.0     ⋅    ⋅    ⋅    ⋅ \n",
       "  ⋅    ⋅   0.647  0.353   ⋅    ⋅    ⋅    ⋅ "
      ]
     },
     "execution_count": 8,
     "metadata": {},
     "output_type": "execute_result"
    }
   ],
   "source": [
    "peersmatrix(deamddf(X, Y, rts = :VRS, Gx = :Observed, Gy = :Observed,  names = FIRMS))"
   ]
  },
  {
   "cell_type": "code",
   "execution_count": 9,
   "metadata": {},
   "outputs": [
    {
     "data": {
      "text/plain": [
       "Modified DDF DEA Model \n",
       "DMUs = 8; Inputs = 1; Outputs = 1\n",
       "Returns to Scale = VRS\n",
       "Gx = Observed; Gy = Observed\n",
       "───────────────────────────────────────────────────\n",
       "   efficiency        βx        βy  slackX1  slackY1\n",
       "───────────────────────────────────────────────────\n",
       "A    0.0       0.0       0.0           0.0      0.0\n",
       "B    0.0       0.0       0.0           0.0      0.0\n",
       "C    0.0       0.0       0.0           0.0      0.0\n",
       "D    0.0       0.0       0.0           0.0      0.0\n",
       "E    1.16667   0.0       1.16667       0.0      0.0\n",
       "F    0.571429  0.428571  0.142857      0.0      0.0\n",
       "G    0.142857  0.142857  0.0           0.0      0.0\n",
       "H    2.54994   0.0       2.54994       0.0      0.0\n",
       "───────────────────────────────────────────────────"
      ]
     },
     "execution_count": 9,
     "metadata": {},
     "output_type": "execute_result"
    }
   ],
   "source": [
    "deamddf(X, Y, rts = :VRS, Gx = :Observed, Gy= :Observed,  names = FIRMS)"
   ]
  },
  {
   "cell_type": "code",
   "execution_count": null,
   "metadata": {},
   "outputs": [],
   "source": []
  }
 ],
 "metadata": {
  "@webio": {
   "lastCommId": null,
   "lastKernelId": null
  },
  "kernelspec": {
   "display_name": "Julia 1.7.3",
   "language": "julia",
   "name": "julia-1.7"
  },
  "language_info": {
   "file_extension": ".jl",
   "mimetype": "application/julia",
   "name": "julia",
   "version": "1.7.3"
  }
 },
 "nbformat": 4,
 "nbformat_minor": 4
}
