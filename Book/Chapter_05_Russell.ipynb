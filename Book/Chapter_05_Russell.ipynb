{
 "cells": [
  {
   "cell_type": "markdown",
   "metadata": {},
   "source": [
    "# Chapter 5. The Russell Measures: Economic Inefficiency Decompositions"
   ]
  },
  {
   "cell_type": "markdown",
   "metadata": {},
   "source": [
    "Install requiered packages:"
   ]
  },
  {
   "cell_type": "code",
   "execution_count": null,
   "metadata": {},
   "outputs": [],
   "source": [
    "using Pkg\n",
    "Pkg.add(\"DataEnvelopmentAnalysis\")\n",
    "Pkg.add(\"BenchmarkingEconomicEfficiency\")"
   ]
  },
  {
   "cell_type": "markdown",
   "metadata": {},
   "source": [
    "Or, instantiate environment to install required packages:"
   ]
  },
  {
   "cell_type": "code",
   "execution_count": 1,
   "metadata": {},
   "outputs": [],
   "source": [
    "using Pkg\n",
    "Pkg.instantiate()"
   ]
  },
  {
   "cell_type": "markdown",
   "metadata": {},
   "source": [
    "Load required packages:"
   ]
  },
  {
   "cell_type": "code",
   "execution_count": 2,
   "metadata": {},
   "outputs": [],
   "source": [
    "using DataEnvelopmentAnalysis\n",
    "using BenchmarkingEconomicEfficiency"
   ]
  },
  {
   "cell_type": "markdown",
   "metadata": {},
   "source": [
    "Increase the number of lineas and columns displayed in the notebook:"
   ]
  },
  {
   "cell_type": "code",
   "execution_count": 3,
   "metadata": {},
   "outputs": [],
   "source": [
    "ENV[\"LINES\"]   = 100;\n",
    "ENV[\"COLUMNS\"] = 100;"
   ]
  },
  {
   "cell_type": "markdown",
   "metadata": {},
   "source": [
    "# Profit Russell"
   ]
  },
  {
   "cell_type": "markdown",
   "metadata": {},
   "source": [
    "Data for the Profit model:\n",
    "* `X`: Inputs.\n",
    "* `Y`: Outputs.\n",
    "* `W`: Price of Inputs.\n",
    "* `P`: Price of Outputs.\n",
    "* `FIRMS`: Name of Decision Making Units (DMUs)."
   ]
  },
  {
   "cell_type": "code",
   "execution_count": 4,
   "metadata": {},
   "outputs": [],
   "source": [
    "X = [2; 4; 8; 12; 6; 14; 14; 9.412];\n",
    "Y = [1; 5; 8; 9; 3; 7; 9; 2.353];\n",
    "W = [1; 1; 1; 1; 1; 1; 1; 1];\n",
    "P = [2; 2; 2; 2; 2; 2; 2; 2];\n",
    "FIRMS = [\"A\"; \"B\"; \"C\"; \"D\"; \"E\"; \"F\"; \"G\"; \"H\"];"
   ]
  },
  {
   "cell_type": "code",
   "execution_count": 5,
   "metadata": {},
   "outputs": [
    {
     "name": "stdout",
     "output_type": "stream",
     "text": [
      "\n",
      "******************************************************************************\n",
      "This program contains Ipopt, a library for large-scale nonlinear optimization.\n",
      " Ipopt is released as open source code under the Eclipse Public License (EPL).\n",
      "         For more information visit https://github.com/coin-or/Ipopt\n",
      "******************************************************************************\n",
      "\n"
     ]
    },
    {
     "data": {
      "text/plain": [
       "Russell Profit DEA Model \n",
       "DMUs = 8; Inputs = 1; Outputs = 1\n",
       "Orientation = Graph; Returns to Scale = VRS\n",
       "─────────────────────────────────────\n",
       "       Profit   Technical  Allocative\n",
       "─────────────────────────────────────\n",
       "A  2.0         3.50173e-7  2.0\n",
       "B  0.25        2.49141e-8  0.25\n",
       "C  2.84063e-8  8.48991e-9  1.99164e-8\n",
       "D  0.0833334   2.9862e-8   0.0833333\n",
       "E  0.666667    0.366667    0.3\n",
       "F  0.285714    0.276786    0.0089286\n",
       "G  0.142857    0.0714286   0.0714286\n",
       "H  1.34998     0.552205    0.797773\n",
       "─────────────────────────────────────"
      ]
     },
     "execution_count": 5,
     "metadata": {},
     "output_type": "execute_result"
    }
   ],
   "source": [
    "deaprofitrussell(X, Y, W, P, names = FIRMS)"
   ]
  },
  {
   "cell_type": "markdown",
   "metadata": {},
   "source": [
    "Peers of the economic model:"
   ]
  },
  {
   "cell_type": "code",
   "execution_count": 6,
   "metadata": {},
   "outputs": [
    {
     "data": {
      "text/plain": [
       "8×8 SparseArrays.SparseMatrixCSC{Float64, Int64} with 64 stored entries:\n",
       " -9.68671e-9  -8.74621e-9  1.0  -8.74621e-9  -9.68671e-9  -9.68671e-9  -9.37332e-9  -9.80276e-9\n",
       " -9.68671e-9  -8.74621e-9  1.0  -8.74621e-9  -9.68671e-9  -9.68671e-9  -9.37332e-9  -9.80276e-9\n",
       " -9.68671e-9  -8.74621e-9  1.0  -8.74621e-9  -9.68671e-9  -9.68671e-9  -9.37332e-9  -9.80276e-9\n",
       " -9.68671e-9  -8.74621e-9  1.0  -8.74621e-9  -9.68671e-9  -9.68671e-9  -9.37332e-9  -9.80276e-9\n",
       " -9.68671e-9  -8.74621e-9  1.0  -8.74621e-9  -9.68671e-9  -9.68671e-9  -9.37332e-9  -9.80276e-9\n",
       " -9.68671e-9  -8.74621e-9  1.0  -8.74621e-9  -9.68671e-9  -9.68671e-9  -9.37332e-9  -9.80276e-9\n",
       " -9.68671e-9  -8.74621e-9  1.0  -8.74621e-9  -9.68671e-9  -9.68671e-9  -9.37332e-9  -9.80276e-9\n",
       " -9.68671e-9  -8.74621e-9  1.0  -8.74621e-9  -9.68671e-9  -9.68671e-9  -9.37332e-9  -9.80276e-9"
      ]
     },
     "execution_count": 6,
     "metadata": {},
     "output_type": "execute_result"
    }
   ],
   "source": [
    "peersmatrix(deaprofitrussell(X, Y, W, P, names = FIRMS))"
   ]
  },
  {
   "cell_type": "markdown",
   "metadata": {},
   "source": [
    "Corresponding technical efficiency model:"
   ]
  },
  {
   "cell_type": "code",
   "execution_count": 7,
   "metadata": {},
   "outputs": [
    {
     "data": {
      "text/plain": [
       "Russell DEA Model \n",
       "DMUs = 8; Inputs = 1; Outputs = 1\n",
       "Orientation = Graph; Returns to Scale = VRS\n",
       "────────────────────────────────\n",
       "   efficiency     effX1    effY1\n",
       "────────────────────────────────\n",
       "A    1.0       1.0       1.0\n",
       "B    1.0       1.0       1.0\n",
       "C    1.0       1.0       1.0\n",
       "D    1.0       1.0       1.0\n",
       "E    0.633333  0.666667  1.66667\n",
       "F    0.723214  0.571429  1.14286\n",
       "G    0.928571  0.857143  1.0\n",
       "H    0.447795  0.424989  2.12495\n",
       "────────────────────────────────"
      ]
     },
     "execution_count": 7,
     "metadata": {},
     "output_type": "execute_result"
    }
   ],
   "source": [
    "dearussell(X, Y, rts  = :VRS, orient = :Graph, names = FIRMS)"
   ]
  },
  {
   "cell_type": "markdown",
   "metadata": {},
   "source": [
    "Obtain information on the reference peers:"
   ]
  },
  {
   "cell_type": "code",
   "execution_count": 8,
   "metadata": {},
   "outputs": [
    {
     "data": {
      "text/plain": [
       "8×8 SparseArrays.SparseMatrixCSC{Float64, Int64} with 64 stored entries:\n",
       "  1.0          2.53968e-7  -9.01785e-9  -9.59045e-9  …  -9.72697e-9   -9.69283e-9  -9.6352e-9\n",
       " -2.52516e-9   1.0          1.18664e-8  -5.29075e-9     -7.69879e-9   -6.88621e-9  -7.7659e-9\n",
       " -2.42584e-9   3.76085e-8   1.0          3.27446e-9     -5.34538e-9   -2.39103e-9  -6.4332e-9\n",
       " -7.63038e-9  -3.69846e-9   2.50647e-7   1.0            -4.66469e-9    1.58817e-8  -7.79267e-9\n",
       "  2.71688e-8   1.0          6.2692e-9   -4.12082e-9     -6.46263e-9   -5.76383e-9  -5.82864e-9\n",
       "  8.19965e-9   2.05501e-7   1.0          1.74171e-8  …  -4.03474e-10   5.43936e-9  -2.40278e-9\n",
       " -7.70501e-9  -4.07967e-9   2.45031e-7   1.0            -3.85643e-9    2.50826e-8  -7.68932e-9\n",
       "  3.09936e-8   1.0          2.4243e-8    2.7592e-10     -4.30421e-9   -2.85221e-9  -3.75812e-9"
      ]
     },
     "execution_count": 8,
     "metadata": {},
     "output_type": "execute_result"
    }
   ],
   "source": [
    "peersmatrix(dearussell(X, Y, rts  = :VRS, orient = :Graph,  names = FIRMS))"
   ]
  },
  {
   "cell_type": "markdown",
   "metadata": {},
   "source": [
    "# Cost Russell"
   ]
  },
  {
   "cell_type": "markdown",
   "metadata": {},
   "source": [
    "Data for the Cost model:\n",
    "* `X`: Inputs.\n",
    "* `Y`: Outputs.\n",
    "* `W`: Price of Inputs.\n",
    "* `FIRMS`: Name of Decision Making Units (DMUs)."
   ]
  },
  {
   "cell_type": "code",
   "execution_count": 9,
   "metadata": {},
   "outputs": [],
   "source": [
    "X = [2 2; 1 4; 4 1; 4 3; 5 5; 6 1; 2 5; 1.6 8];\n",
    "Y = [1; 1; 1; 1; 1; 1; 1; 1];\n",
    "W = [1 1; 1 1; 1 1; 1 1; 1 1; 1 1; 1 1; 1 1];\n",
    "FIRMS = [\"A\"; \"B\"; \"C\"; \"D\"; \"E\"; \"F\"; \"G\"; \"H\"];"
   ]
  },
  {
   "cell_type": "code",
   "execution_count": 10,
   "metadata": {},
   "outputs": [
    {
     "data": {
      "text/plain": [
       "Russell Cost DEA Model \n",
       "DMUs = 8; Inputs = 2; Outputs = 1\n",
       "Orientation = Input; Returns to Scale = VRS\n",
       "──────────────────────────────\n",
       "   Cost  Technical  Allocative\n",
       "──────────────────────────────\n",
       "A  0.0    0.0        0.0\n",
       "B  0.5    0.0        0.5\n",
       "C  0.5    0.0        0.5\n",
       "D  0.5    0.416667   0.0833333\n",
       "E  0.6    0.6        0.0\n",
       "F  1.5    0.166667   1.33333\n",
       "G  0.75   0.35       0.4\n",
       "H  1.75   0.4375     1.3125\n",
       "──────────────────────────────"
      ]
     },
     "execution_count": 10,
     "metadata": {},
     "output_type": "execute_result"
    }
   ],
   "source": [
    "deacostrussell(X, Y, W, names = FIRMS)"
   ]
  },
  {
   "cell_type": "markdown",
   "metadata": {},
   "source": [
    "Peers of the economic model:"
   ]
  },
  {
   "cell_type": "code",
   "execution_count": 11,
   "metadata": {},
   "outputs": [
    {
     "data": {
      "text/plain": [
       "8×8 SparseArrays.SparseMatrixCSC{Float64, Int64} with 8 stored entries:\n",
       " 1.0   ⋅    ⋅    ⋅    ⋅    ⋅    ⋅    ⋅ \n",
       " 1.0   ⋅    ⋅    ⋅    ⋅    ⋅    ⋅    ⋅ \n",
       " 1.0   ⋅    ⋅    ⋅    ⋅    ⋅    ⋅    ⋅ \n",
       " 1.0   ⋅    ⋅    ⋅    ⋅    ⋅    ⋅    ⋅ \n",
       " 1.0   ⋅    ⋅    ⋅    ⋅    ⋅    ⋅    ⋅ \n",
       " 1.0   ⋅    ⋅    ⋅    ⋅    ⋅    ⋅    ⋅ \n",
       " 1.0   ⋅    ⋅    ⋅    ⋅    ⋅    ⋅    ⋅ \n",
       " 1.0   ⋅    ⋅    ⋅    ⋅    ⋅    ⋅    ⋅ "
      ]
     },
     "execution_count": 11,
     "metadata": {},
     "output_type": "execute_result"
    }
   ],
   "source": [
    "peersmatrix(deacostrussell(X, Y, W, names = FIRMS))"
   ]
  },
  {
   "cell_type": "markdown",
   "metadata": {},
   "source": [
    "Corresponding technical efficiency model:"
   ]
  },
  {
   "cell_type": "code",
   "execution_count": 12,
   "metadata": {},
   "outputs": [
    {
     "data": {
      "text/plain": [
       "Russell DEA Model \n",
       "DMUs = 8; Inputs = 2; Outputs = 1\n",
       "Orientation = Input; Returns to Scale = VRS\n",
       "──────────────────────────────────────────\n",
       "   efficiency     effX1     effX2  slackY1\n",
       "──────────────────────────────────────────\n",
       "A    1.0       1.0       1.0           0.0\n",
       "B    1.0       1.0       1.0           0.0\n",
       "C    1.0       1.0       1.0           0.0\n",
       "D    0.583333  0.5       0.666667      0.0\n",
       "E    0.4       0.4       0.4           0.0\n",
       "F    0.833333  0.666667  1.0           0.0\n",
       "G    0.65      0.5       0.8           0.0\n",
       "H    0.5625    0.625     0.5           0.0\n",
       "──────────────────────────────────────────"
      ]
     },
     "execution_count": 12,
     "metadata": {},
     "output_type": "execute_result"
    }
   ],
   "source": [
    "dearussell(X, Y, orient = :Input, rts  = :VRS, names = FIRMS)"
   ]
  },
  {
   "cell_type": "markdown",
   "metadata": {},
   "source": [
    "Obtain information on the reference peers:"
   ]
  },
  {
   "cell_type": "code",
   "execution_count": 13,
   "metadata": {
    "scrolled": true
   },
   "outputs": [
    {
     "data": {
      "text/plain": [
       "8×8 SparseArrays.SparseMatrixCSC{Float64, Int64} with 8 stored entries:\n",
       " 1.0   ⋅    ⋅    ⋅    ⋅    ⋅    ⋅    ⋅ \n",
       "  ⋅   1.0   ⋅    ⋅    ⋅    ⋅    ⋅    ⋅ \n",
       "  ⋅    ⋅   1.0   ⋅    ⋅    ⋅    ⋅    ⋅ \n",
       " 1.0   ⋅    ⋅    ⋅    ⋅    ⋅    ⋅    ⋅ \n",
       " 1.0   ⋅    ⋅    ⋅    ⋅    ⋅    ⋅    ⋅ \n",
       "  ⋅    ⋅   1.0   ⋅    ⋅    ⋅    ⋅    ⋅ \n",
       "  ⋅   1.0   ⋅    ⋅    ⋅    ⋅    ⋅    ⋅ \n",
       "  ⋅   1.0   ⋅    ⋅    ⋅    ⋅    ⋅    ⋅ "
      ]
     },
     "execution_count": 13,
     "metadata": {},
     "output_type": "execute_result"
    }
   ],
   "source": [
    "peersmatrix(dearussell(X, Y, orient = :Input, rts  = :VRS, names = FIRMS))"
   ]
  },
  {
   "cell_type": "markdown",
   "metadata": {},
   "source": [
    "# Revenue Russell"
   ]
  },
  {
   "cell_type": "markdown",
   "metadata": {},
   "source": [
    "Data for the Revenue model:\n",
    "* `X`: Inputs.\n",
    "* `Y`: Outputs.\n",
    "* `P`: Price of Outputs.\n",
    "* `FIRMS`: Name of Decision Making Units (DMUs)."
   ]
  },
  {
   "cell_type": "code",
   "execution_count": 14,
   "metadata": {},
   "outputs": [],
   "source": [
    "X = [1; 1; 1; 1; 1; 1; 1; 1];\n",
    "Y = [7 7; 4 8; 8 4; 3 5; 3 3; 8 2; 6 4; 1.5 5];\n",
    "P = [1 1; 1 1; 1 1; 1 1; 1 1; 1 1; 1 1; 1 1];\n",
    "FIRMS = [\"A\"; \"B\"; \"C\"; \"D\"; \"E\"; \"F\"; \"G\"; \"H\"];"
   ]
  },
  {
   "cell_type": "code",
   "execution_count": 15,
   "metadata": {},
   "outputs": [
    {
     "data": {
      "text/plain": [
       "Russell Revenue DEA Model \n",
       "DMUs = 8; Inputs = 1; Outputs = 2\n",
       "Orientation = Output; Returns to Scale = VRS\n",
       "──────────────────────────────────\n",
       "   Revenue  Technical   Allocative\n",
       "──────────────────────────────────\n",
       "A  0.0       0.0       0.0\n",
       "B  0.25      0.0       0.25\n",
       "C  0.25      0.0       0.25\n",
       "D  1.0       0.866667  0.133333\n",
       "E  1.33333   1.33333   2.22045e-16\n",
       "F  1.0       0.5       0.5\n",
       "G  0.5       0.458333  0.0416667\n",
       "H  2.5       2.05556   0.444444\n",
       "──────────────────────────────────"
      ]
     },
     "execution_count": 15,
     "metadata": {},
     "output_type": "execute_result"
    }
   ],
   "source": [
    "dearevenuerussell(X, Y, P, names = FIRMS)"
   ]
  },
  {
   "cell_type": "markdown",
   "metadata": {},
   "source": [
    "Peers of the economic model:"
   ]
  },
  {
   "cell_type": "code",
   "execution_count": 16,
   "metadata": {},
   "outputs": [
    {
     "data": {
      "text/plain": [
       "8×8 SparseArrays.SparseMatrixCSC{Float64, Int64} with 8 stored entries:\n",
       " 1.0   ⋅    ⋅    ⋅    ⋅    ⋅    ⋅    ⋅ \n",
       " 1.0   ⋅    ⋅    ⋅    ⋅    ⋅    ⋅    ⋅ \n",
       " 1.0   ⋅    ⋅    ⋅    ⋅    ⋅    ⋅    ⋅ \n",
       " 1.0   ⋅    ⋅    ⋅    ⋅    ⋅    ⋅    ⋅ \n",
       " 1.0   ⋅    ⋅    ⋅    ⋅    ⋅    ⋅    ⋅ \n",
       " 1.0   ⋅    ⋅    ⋅    ⋅    ⋅    ⋅    ⋅ \n",
       " 1.0   ⋅    ⋅    ⋅    ⋅    ⋅    ⋅    ⋅ \n",
       " 1.0   ⋅    ⋅    ⋅    ⋅    ⋅    ⋅    ⋅ "
      ]
     },
     "execution_count": 16,
     "metadata": {},
     "output_type": "execute_result"
    }
   ],
   "source": [
    "peersmatrix(dearevenuerussell(X, Y, P, names = FIRMS))"
   ]
  },
  {
   "cell_type": "markdown",
   "metadata": {},
   "source": [
    "Corresponding technical efficiency model:"
   ]
  },
  {
   "cell_type": "code",
   "execution_count": 17,
   "metadata": {},
   "outputs": [
    {
     "data": {
      "text/plain": [
       "Russell DEA Model \n",
       "DMUs = 8; Inputs = 1; Outputs = 2\n",
       "Orientation = Output; Returns to Scale = VRS\n",
       "────────────────────────────────────────\n",
       "   efficiency    effY1    effY2  slackX1\n",
       "────────────────────────────────────────\n",
       "A     1.0      1.0      1.0          0.0\n",
       "B     1.0      1.0      1.0          0.0\n",
       "C     1.0      1.0      1.0          0.0\n",
       "D     1.86667  2.33333  1.4          0.0\n",
       "E     2.33333  2.33333  2.33333      0.0\n",
       "F     1.5      1.0      2.0          0.0\n",
       "G     1.45833  1.16667  1.75         0.0\n",
       "H     3.05556  5.11111  1.0          0.0\n",
       "────────────────────────────────────────"
      ]
     },
     "execution_count": 17,
     "metadata": {},
     "output_type": "execute_result"
    }
   ],
   "source": [
    "dearussell(X, Y, orient = :Output, rts  = :VRS, names = FIRMS)"
   ]
  },
  {
   "cell_type": "markdown",
   "metadata": {},
   "source": [
    "Obtain information on the reference peers:"
   ]
  },
  {
   "cell_type": "code",
   "execution_count": 18,
   "metadata": {},
   "outputs": [
    {
     "data": {
      "text/plain": [
       "8×8 SparseArrays.SparseMatrixCSC{Float64, Int64} with 9 stored entries:\n",
       " 1.0        ⋅    ⋅         ⋅    ⋅    ⋅    ⋅    ⋅ \n",
       "  ⋅        1.0   ⋅         ⋅    ⋅    ⋅    ⋅    ⋅ \n",
       "  ⋅         ⋅   1.0        ⋅    ⋅    ⋅    ⋅    ⋅ \n",
       " 1.0        ⋅    ⋅         ⋅    ⋅    ⋅    ⋅    ⋅ \n",
       " 1.0        ⋅    ⋅         ⋅    ⋅    ⋅    ⋅    ⋅ \n",
       "  ⋅         ⋅   1.0        ⋅    ⋅    ⋅    ⋅    ⋅ \n",
       " 1.0        ⋅    ⋅         ⋅    ⋅    ⋅    ⋅    ⋅ \n",
       " 0.333333   ⋅   0.666667   ⋅    ⋅    ⋅    ⋅    ⋅ "
      ]
     },
     "execution_count": 18,
     "metadata": {},
     "output_type": "execute_result"
    }
   ],
   "source": [
    "peersmatrix(dearussell(X, Y, orient = :Output, rts  = :VRS, names = FIRMS))"
   ]
  },
  {
   "cell_type": "code",
   "execution_count": null,
   "metadata": {},
   "outputs": [],
   "source": []
  }
 ],
 "metadata": {
  "@webio": {
   "lastCommId": null,
   "lastKernelId": null
  },
  "kernelspec": {
   "display_name": "Julia 1.7.3",
   "language": "julia",
   "name": "julia-1.7"
  },
  "language_info": {
   "file_extension": ".jl",
   "mimetype": "application/julia",
   "name": "julia",
   "version": "1.7.3"
  }
 },
 "nbformat": 4,
 "nbformat_minor": 4
}
